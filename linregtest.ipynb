{
 "cells": [
  {
   "cell_type": "code",
   "execution_count": 43,
   "metadata": {},
   "outputs": [],
   "source": [
    "import numpy as np\n",
    "import pandas as pd\n",
    "import matplotlib as plt\n",
    "from sklearn import linear_model, metrics\n",
    "from sklearn.linear_model import Lasso"
   ]
  },
  {
   "cell_type": "code",
   "execution_count": 23,
   "metadata": {},
   "outputs": [],
   "source": [
    "data = pd.read_csv(\"./chevron.csv\")\n",
    "# Clean data:\n",
    "# get rid of zeros\n",
    "# make sure that empty cells is filled in with 0\n",
    "# drop non states (US, etc.)\n",
    "# lots of 0's\n",
    "# get rid of random features that are duplicates\n",
    "# normalize the features\n",
    "# adjust the weights\n",
    "# LASSO, some other method"
   ]
  },
  {
   "cell_type": "code",
   "execution_count": 24,
   "metadata": {},
   "outputs": [
    {
     "name": "stdout",
     "output_type": "stream",
     "text": [
      "  TotalAmountofAssistance\n",
      "0               3345612.0\n",
      "1               2247734.0\n",
      "2              13509662.0\n",
      "3              18236626.0\n"
     ]
    }
   ],
   "source": [
    "alaska_df = data.loc[data[\"StateCode\"] == \"AK\"]\n",
    "num_rows = 4\n",
    "num_cols = 1\n",
    "y = pd.DataFrame(index=range(num_rows), columns=[\"TotalAmountofAssistance\"])\n",
    "investment_vals = []\n",
    "for i in range(num_rows):\n",
    "    investment_vals.append(data[\"TotalAmountofAssistance\"][1519 * i])\n",
    "for j in range(num_rows):\n",
    "    y.at[j, \"TotalAmountofAssistance\"] = investment_vals[j]\n",
    "# y.at[0][\"TotalAmountofAssistance\"] = data[\"TotalAmountofAssistance\"][0]\n",
    "# print(y)\n",
    "# y.at[1][\"TotalAmountofAssistance\"] = data[\"TotalAmountofAssistance\"][1519]\n",
    "# y.at[2][\"TotalAmountofAssistance\"] = data[\"TotalAmountofAssistance\"][3038]\n",
    "# y.at[3][\"TotalAmountofAssistance\"] = data[\"TotalAmountofAssistance\"][4557]\n",
    "# y.at[4][\"TotalAmountofAssistance\"] = data[\"TotalAmountofAssistance\"][6076]\n",
    "# for investment_idx in range(5):\n",
    "#     print(investment_idx)\n",
    "#     print(data[\"TotalAmountofAssistance\"][3038])\n",
    "#     row_idx = 1519 * investment_idx\n",
    "#     y.at[investment_idx][\"TotalAmountofAssistance\"] = data[\"TotalAmountofAssistance\"][row_idx]\n",
    "print(y)\n"
   ]
  },
  {
   "cell_type": "code",
   "execution_count": 25,
   "metadata": {},
   "outputs": [
    {
     "name": "stdout",
     "output_type": "stream",
     "text": [
      "      Unnamed: 0    MSN StateCode  Year   Amount   State  CO2 Emissions (Mmt)  \\\n",
      "0              0  BDFDB        AK  2015     21.0  Alaska            35.027804   \n",
      "1              1  BDPRP        AK  2015      4.0  Alaska            35.027804   \n",
      "2              2  BFFDB        AK  2015     21.0  Alaska            35.027804   \n",
      "3              3  BFPRP        AK  2015      4.0  Alaska            35.027804   \n",
      "4              4  CLPRB        AK  2015  17747.0  Alaska            35.027804   \n",
      "...          ...    ...       ...   ...      ...     ...                  ...   \n",
      "6100        6100  WDPRB        AK  2019   6418.0  Alaska            34.259440   \n",
      "6101        6101  WDTCB        AK  2019   6418.0  Alaska            34.259440   \n",
      "6102        6102  WSTCB        AK  2019    386.0  Alaska            34.259440   \n",
      "6103        6103  WWPRB        AK  2019   6803.0  Alaska            34.259440   \n",
      "6104        6104  WYTCB        AK  2019   1270.0  Alaska            34.259440   \n",
      "\n",
      "      TotalNumberofInvestments  TotalAmountofAssistance  \n",
      "0                         16.0                3345612.0  \n",
      "1                         16.0                3345612.0  \n",
      "2                         16.0                3345612.0  \n",
      "3                         16.0                3345612.0  \n",
      "4                         16.0                3345612.0  \n",
      "...                        ...                      ...  \n",
      "6100                      32.0               13734021.0  \n",
      "6101                      32.0               13734021.0  \n",
      "6102                      32.0               13734021.0  \n",
      "6103                      32.0               13734021.0  \n",
      "6104                      32.0               13734021.0  \n",
      "\n",
      "[145 rows x 9 columns]\n"
     ]
    }
   ],
   "source": [
    "print(alaska_df)"
   ]
  },
  {
   "cell_type": "code",
   "execution_count": null,
   "metadata": {},
   "outputs": [],
   "source": []
  },
  {
   "cell_type": "code",
   "execution_count": 26,
   "metadata": {},
   "outputs": [
    {
     "name": "stdout",
     "output_type": "stream",
     "text": [
      "MSN     BDFDB     BDPRP     BFFDB     BFPRP     CLPRB     CLPRK     CLPRP  \\\n",
      "0   -0.898188 -0.898173 -0.733353 -0.738738 -0.579055 -0.128243 -0.526746   \n",
      "1   -0.296652 -0.296501 -0.586968 -0.586262   1.51242   0.94301  1.407429   \n",
      "2    1.252345  1.251893 -0.210018 -0.193868 -0.732947  0.316033 -0.785824   \n",
      "3    -0.90489 -0.905108 -0.210173 -0.220233  0.540098   0.51974   0.70079   \n",
      "\n",
      "MSN     COPRK     EMFDB     ENPRP  ...     REPRB     SOTCB     TEPRB  \\\n",
      "0    0.350264 -0.580166 -0.579933  ... -0.677567 -0.542169  0.167092   \n",
      "1    0.811137 -0.580166 -0.579933  ... -0.224796 -0.539738 -0.289706   \n",
      "2    0.903312 -0.580166 -0.579933  ... -0.474328 -0.539675 -0.479445   \n",
      "3   -0.663658  0.011308   0.01037  ... -0.388164 -0.140189 -1.017501   \n",
      "\n",
      "MSN     TETCB     WDEXB     WDPRB     WDTCB     WSTCB     WWPRB     WYTCB  \n",
      "0   -0.667942 -0.447214 -0.979919 -0.964505 -0.510625 -1.012773 -0.448595  \n",
      "1   -0.224551 -0.447214  1.401078  1.419738 -0.454722  1.158346 -0.476136  \n",
      "2   -0.517672  1.788854  0.098514  0.031651 -0.298319  0.016315 -0.476136  \n",
      "3   -0.353493 -0.447214  -0.94248 -0.927015 -0.518181  -0.98071 -0.386795  \n",
      "\n",
      "[4 rows x 29 columns]\n",
      "MSN     BDFDB     BDPRP     BFFDB     BFPRP     CLPRB     CLPRK     CLPRP  \\\n",
      "4    0.847385  0.847889  1.740512  1.739102 -0.740516 -1.650539 -0.795648   \n",
      "\n",
      "MSN     COPRK     EMFDB     ENPRP  ...     REPRB    SOTCB    TEPRB     TETCB  \\\n",
      "4   -1.401056  1.729189  1.729429  ...  1.764855  1.76177  1.61956  1.763658   \n",
      "\n",
      "MSN     WDEXB     WDPRB     WDTCB     WSTCB     WWPRB     WYTCB  \n",
      "4   -0.447214  0.422806  0.440132  1.781848  0.818822  1.787663  \n",
      "\n",
      "[1 rows x 29 columns]\n"
     ]
    }
   ],
   "source": [
    "numRows = 5\n",
    "numCols = 29\n",
    "\n",
    "x_comb = pd.DataFrame(index=range(numRows), columns=range(numCols))\n",
    "x_comb.columns = alaska_df[\"MSN\"][0:numCols]\n",
    "\n",
    "# x = pd.DataFrame(index=range(numRows), columns=range(numCols))\n",
    "# x.columns = alaska_df[\"MSN\"][0:numCols]\n",
    "# x_test = pd.DataFrame(index=range(4, 5), columns=range(numCols))\n",
    "# x_test.columns = alaska_df[\"MSN\"][0:numCols]\n",
    "# print(x.columns)\n",
    "avgs = [[0] * numCols] * numRows\n",
    "for row_idx in range(int(alaska_df.shape[0])):\n",
    "    yr_idx = int(row_idx / numCols)\n",
    "    x_comb.at[yr_idx, x_comb.columns[row_idx % numCols]] = data.loc[1519 * yr_idx + row_idx][\"Amount\"]\n",
    "    # if row_idx < int(alaska_df.shape[0] * 4 / 5):\n",
    "    #     x.at[yr_idx, x.columns[row_idx % numCols]] = data.loc[1519 * yr_idx + row_idx][\"Amount\"]\n",
    "    # else:\n",
    "    #     x_test.at[yr_idx, x.columns[row_idx % numCols]] = data.loc[1519 * yr_idx + row_idx][\"Amount\"]\n",
    "\n",
    "norm_x_comb = (x_comb - x_comb.mean())/x_comb.std()\n",
    "\n",
    "norm_x = norm_x_comb.head(4)\n",
    "norm_x_test = norm_x_comb.tail(1)\n",
    "\n",
    "# print(x)\n",
    "# print(x_test)\n",
    "print(norm_x)\n",
    "print(norm_x_test)\n"
   ]
  },
  {
   "cell_type": "code",
   "execution_count": 32,
   "metadata": {},
   "outputs": [
    {
     "data": {
      "text/plain": [
       "LinearRegression()"
      ]
     },
     "execution_count": 32,
     "metadata": {},
     "output_type": "execute_result"
    }
   ],
   "source": [
    "reg = linear_model.LinearRegression()\n",
    "reg.fit(norm_x, y)"
   ]
  },
  {
   "cell_type": "code",
   "execution_count": 56,
   "metadata": {},
   "outputs": [],
   "source": [
    "lasso_reg = Lasso(0.01)"
   ]
  },
  {
   "cell_type": "code",
   "execution_count": 57,
   "metadata": {},
   "outputs": [
    {
     "data": {
      "text/plain": [
       "Lasso(alpha=0.01)"
      ]
     },
     "execution_count": 57,
     "metadata": {},
     "output_type": "execute_result"
    }
   ],
   "source": [
    "lasso_reg.fit(norm_x, y)"
   ]
  },
  {
   "cell_type": "code",
   "execution_count": 58,
   "metadata": {},
   "outputs": [
    {
     "name": "stdout",
     "output_type": "stream",
     "text": [
      "0.9999999999999981\n"
     ]
    }
   ],
   "source": [
    "lasso_train_score = lasso_reg.score(norm_x, y)\n",
    "print(lasso_train_score)"
   ]
  },
  {
   "cell_type": "code",
   "execution_count": 59,
   "metadata": {},
   "outputs": [
    {
     "name": "stdout",
     "output_type": "stream",
     "text": [
      "[44282914.96467288]\n"
     ]
    }
   ],
   "source": [
    "y_pred_lasso = lasso_reg.predict(norm_x_test)\n",
    "print(y_pred_lasso)"
   ]
  },
  {
   "cell_type": "code",
   "execution_count": 60,
   "metadata": {},
   "outputs": [
    {
     "name": "stdout",
     "output_type": "stream",
     "text": [
      "[ 1.50974904e+06 -1.35226473e+03  2.45032759e+07 -5.31672615e+05\n",
      " -3.91997302e+05 -2.72634955e+06  1.42367108e+06 -4.65758728e+06\n",
      " -1.01021503e+06 -0.00000000e+00 -1.26510818e+07 -4.04209822e+06\n",
      "  2.07693012e+06 -1.02497433e+05  3.19311881e+05  5.32550054e+04\n",
      " -2.28053508e+05 -2.62631040e+04  1.22792058e+01 -4.48191328e+05\n",
      "  1.54834116e+06  4.25570521e+04 -2.39660431e+05 -5.12497658e+03\n",
      " -2.07445485e+04 -9.44101376e+01  1.83503449e+04 -6.02462601e+02\n",
      "  3.22705908e+05]\n",
      "[16324509.79293481]\n"
     ]
    }
   ],
   "source": [
    "print(lasso_reg.coef_)\n",
    "print(lasso_reg.intercept_)"
   ]
  },
  {
   "cell_type": "code",
   "execution_count": 61,
   "metadata": {},
   "outputs": [
    {
     "name": "stdout",
     "output_type": "stream",
     "text": [
      "[9304626.40874828]\n",
      "[[  446070.88214614   445485.53466719   707433.75430459   706586.72209353\n",
      "   -517087.19220269    51579.55147729  -310055.3419393  -1293046.64744555\n",
      "    674952.8973394    673617.50995882    11148.79212505   149153.12733561\n",
      "    258908.56090911  -453317.75058139 -1943887.78525199  -341171.8581966\n",
      "    518574.50640231 -1552057.15946725 -1549762.78107775    46353.68936528\n",
      "    457809.92894808 -1260433.68622962    59272.21460338   987989.40591331\n",
      "  -1445936.0672543  -1484910.13242291    39043.89360253 -1300650.42063566\n",
      "     81084.47730676]]\n"
     ]
    }
   ],
   "source": [
    "print(reg.intercept_)\n",
    "print(reg.coef_)"
   ]
  },
  {
   "cell_type": "code",
   "execution_count": 37,
   "metadata": {},
   "outputs": [
    {
     "name": "stdout",
     "output_type": "stream",
     "text": [
      "[[9183498.04374109]]\n",
      "  TotalAmountofAssistance\n",
      "0               3345612.0\n",
      "1               2247734.0\n",
      "2              13509662.0\n",
      "3              18236626.0\n"
     ]
    }
   ],
   "source": [
    "y_pred = reg.predict(norm_x_test)\n",
    "print(y_pred)\n",
    "print(y)"
   ]
  },
  {
   "cell_type": "code",
   "execution_count": 41,
   "metadata": {},
   "outputs": [
    {
     "name": "stdout",
     "output_type": "stream",
     "text": [
      "20707259175439.33\n"
     ]
    }
   ],
   "source": [
    "mse = metrics.mean_squared_error([[13734021]], [[9183498.04374109]])\n",
    "print(mse)"
   ]
  }
 ],
 "metadata": {
  "kernelspec": {
   "display_name": "base",
   "language": "python",
   "name": "python3"
  },
  "language_info": {
   "codemirror_mode": {
    "name": "ipython",
    "version": 3
   },
   "file_extension": ".py",
   "mimetype": "text/x-python",
   "name": "python",
   "nbconvert_exporter": "python",
   "pygments_lexer": "ipython3",
   "version": "3.8.8"
  },
  "orig_nbformat": 4,
  "vscode": {
   "interpreter": {
    "hash": "cd78fef2128015050713e82ca51c6520b11aee7c9ee8df750520bbbc7384cbaa"
   }
  }
 },
 "nbformat": 4,
 "nbformat_minor": 2
}
