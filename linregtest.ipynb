{
 "cells": [
  {
   "cell_type": "code",
   "execution_count": 24,
   "metadata": {},
   "outputs": [],
   "source": [
    "import numpy as np\n",
    "import pandas as pd\n",
    "import matplotlib as plt\n",
    "from sklearn import linear_model, metrics"
   ]
  },
  {
   "cell_type": "code",
   "execution_count": 5,
   "metadata": {},
   "outputs": [],
   "source": [
    "data = pd.read_csv(\"./chevron.csv\")\n",
    "# Clean data:\n",
    "# get rid of zeros\n",
    "# make sure that empty cells is filled in with 0\n",
    "# drop non states (US, etc.)\n",
    "# lots of 0's\n",
    "# get rid of random features that are duplicates\n",
    "# normalize the features\n",
    "# adjust the weights\n",
    "# LASSO, some other method"
   ]
  },
  {
   "cell_type": "code",
   "execution_count": 6,
   "metadata": {},
   "outputs": [
    {
     "name": "stdout",
     "output_type": "stream",
     "text": [
      "  TotalAmountofAssistance\n",
      "0               3345612.0\n",
      "1               2247734.0\n",
      "2              13509662.0\n",
      "3              18236626.0\n"
     ]
    }
   ],
   "source": [
    "alaska_df = data.loc[data[\"StateCode\"] == \"AK\"]\n",
    "num_rows = 4\n",
    "num_cols = 1\n",
    "y = pd.DataFrame(index=range(num_rows), columns=[\"TotalAmountofAssistance\"])\n",
    "investment_vals = []\n",
    "for i in range(num_rows):\n",
    "    investment_vals.append(data[\"TotalAmountofAssistance\"][1519 * i])\n",
    "for j in range(num_rows):\n",
    "    y.at[j, \"TotalAmountofAssistance\"] = investment_vals[j]\n",
    "# y.at[0][\"TotalAmountofAssistance\"] = data[\"TotalAmountofAssistance\"][0]\n",
    "# print(y)\n",
    "# y.at[1][\"TotalAmountofAssistance\"] = data[\"TotalAmountofAssistance\"][1519]\n",
    "# y.at[2][\"TotalAmountofAssistance\"] = data[\"TotalAmountofAssistance\"][3038]\n",
    "# y.at[3][\"TotalAmountofAssistance\"] = data[\"TotalAmountofAssistance\"][4557]\n",
    "# y.at[4][\"TotalAmountofAssistance\"] = data[\"TotalAmountofAssistance\"][6076]\n",
    "# for investment_idx in range(5):\n",
    "#     print(investment_idx)\n",
    "#     print(data[\"TotalAmountofAssistance\"][3038])\n",
    "#     row_idx = 1519 * investment_idx\n",
    "#     y.at[investment_idx][\"TotalAmountofAssistance\"] = data[\"TotalAmountofAssistance\"][row_idx]\n",
    "print(y)\n"
   ]
  },
  {
   "cell_type": "code",
   "execution_count": 11,
   "metadata": {},
   "outputs": [
    {
     "name": "stdout",
     "output_type": "stream",
     "text": [
      "      Unnamed: 0    MSN StateCode  Year   Amount   State  CO2 Emissions (Mmt)  \\\n",
      "0              0  BDFDB        AK  2015     21.0  Alaska            35.027804   \n",
      "1              1  BDPRP        AK  2015      4.0  Alaska            35.027804   \n",
      "2              2  BFFDB        AK  2015     21.0  Alaska            35.027804   \n",
      "3              3  BFPRP        AK  2015      4.0  Alaska            35.027804   \n",
      "4              4  CLPRB        AK  2015  17747.0  Alaska            35.027804   \n",
      "...          ...    ...       ...   ...      ...     ...                  ...   \n",
      "6100        6100  WDPRB        AK  2019   6418.0  Alaska            34.259440   \n",
      "6101        6101  WDTCB        AK  2019   6418.0  Alaska            34.259440   \n",
      "6102        6102  WSTCB        AK  2019    386.0  Alaska            34.259440   \n",
      "6103        6103  WWPRB        AK  2019   6803.0  Alaska            34.259440   \n",
      "6104        6104  WYTCB        AK  2019   1270.0  Alaska            34.259440   \n",
      "\n",
      "      TotalNumberofInvestments  TotalAmountofAssistance  \n",
      "0                         16.0                3345612.0  \n",
      "1                         16.0                3345612.0  \n",
      "2                         16.0                3345612.0  \n",
      "3                         16.0                3345612.0  \n",
      "4                         16.0                3345612.0  \n",
      "...                        ...                      ...  \n",
      "6100                      32.0               13734021.0  \n",
      "6101                      32.0               13734021.0  \n",
      "6102                      32.0               13734021.0  \n",
      "6103                      32.0               13734021.0  \n",
      "6104                      32.0               13734021.0  \n",
      "\n",
      "[145 rows x 9 columns]\n"
     ]
    }
   ],
   "source": [
    "print(alaska_df)"
   ]
  },
  {
   "cell_type": "code",
   "execution_count": null,
   "metadata": {},
   "outputs": [],
   "source": []
  },
  {
   "cell_type": "code",
   "execution_count": 20,
   "metadata": {},
   "outputs": [
    {
     "name": "stdout",
     "output_type": "stream",
     "text": [
      "MSN   BDFDB   BDPRP   BFFDB   BFPRP     CLPRB   CLPRK   CLPRP  COPRK   EMFDB  \\\n",
      "0      21.0     4.0    21.0     4.0   17747.0  15.073  1177.0  5.717     0.0   \n",
      "1    1906.0   351.0  1906.0   351.0  247632.0   25.68  9643.0  5.722     0.0   \n",
      "2    6760.0  1244.0  6760.0  1244.0     832.0  19.472    43.0  5.723     0.0   \n",
      "3       0.0     0.0  6758.0  1184.0  140759.0  21.489  6550.0  5.706  6758.0   \n",
      "\n",
      "MSN   ENPRP  ...     REPRB    SOTCB      TEPRB      TETCB   WDEXB     WDPRB  \\\n",
      "0       0.0  ...   23807.0      3.0  1429942.0   614242.0     0.0    6865.0   \n",
      "1       0.0  ...  230734.0    431.0  1118407.0  1922727.0     0.0  162166.0   \n",
      "2       0.0  ...  116692.0    442.0   989005.0  1057701.0  5455.0   77206.0   \n",
      "3    1184.0  ...  156071.0  70779.0   622052.0  1542208.0     0.0    9307.0   \n",
      "\n",
      "MSN     WDTCB   WSTCB     WWPRB   WYTCB  \n",
      "0      6865.0   622.0    7488.0  1488.0  \n",
      "1    162166.0  1606.0  163772.0     0.0  \n",
      "2     71751.0  4359.0   81565.0     0.0  \n",
      "3      9307.0   489.0    9796.0  4827.0  \n",
      "\n",
      "[4 rows x 29 columns]\n",
      "MSN   BDFDB   BDPRP    BFFDB   BFPRP CLPRB CLPRK CLPRP  COPRK    EMFDB  \\\n",
      "4    5491.0  1011.0  31877.0  5643.0   0.0   0.0   0.0  5.698  26386.0   \n",
      "\n",
      "MSN   ENPRP  ...      REPRB     SOTCB      TEPRB      TETCB WDEXB    WDPRB  \\\n",
      "4    4632.0  ...  1140051.0  405654.0  2420522.0  7790111.0   0.0  98358.0   \n",
      "\n",
      "MSN    WDTCB    WSTCB     WWPRB     WYTCB  \n",
      "4    98358.0  40974.0  139332.0  122311.0  \n",
      "\n",
      "[1 rows x 29 columns]\n"
     ]
    }
   ],
   "source": [
    "numRows = 4\n",
    "numCols = 29\n",
    "x = pd.DataFrame(index=range(numRows), columns=range(numCols))\n",
    "x.columns = alaska_df[\"MSN\"][0:numCols]\n",
    "x_test = pd.DataFrame(index=range(4, 5), columns=range(numCols))\n",
    "x_test.columns = alaska_df[\"MSN\"][0:numCols]\n",
    "# print(x.columns)\n",
    "avgs = [[0] * numCols] * numRows\n",
    "for row_idx in range(int(alaska_df.shape[0])):\n",
    "    yr_idx = int(row_idx / numCols)\n",
    "    # col_name = alaska_df[\"MSN\"][row_idx % 29]\n",
    "    # print(col_name)\n",
    "    if row_idx < int(alaska_df.shape[0] * 4 / 5):\n",
    "        x.at[yr_idx, x.columns[row_idx % numCols]] = data.loc[1519 * yr_idx + row_idx][\"Amount\"]\n",
    "    else:\n",
    "        x_test.at[yr_idx, x.columns[row_idx % numCols]] = data.loc[1519 * yr_idx + row_idx][\"Amount\"]\n",
    "\n",
    "\n",
    "print(x)\n",
    "print(x_test)\n"
   ]
  },
  {
   "cell_type": "code",
   "execution_count": 15,
   "metadata": {},
   "outputs": [
    {
     "data": {
      "text/plain": [
       "LinearRegression()"
      ]
     },
     "execution_count": 15,
     "metadata": {},
     "output_type": "execute_result"
    }
   ],
   "source": [
    "reg = linear_model.LinearRegression()\n",
    "reg.fit(x, y)"
   ]
  },
  {
   "cell_type": "code",
   "execution_count": 17,
   "metadata": {},
   "outputs": [
    {
     "name": "stdout",
     "output_type": "stream",
     "text": [
      "[44282875.20623823]\n",
      "[[ 2.86635690e-03  5.18891269e-04  1.96331924e-01  3.44140129e-02\n",
      "  -3.58501597e+00 -9.77300849e-05 -1.12485482e-01 -4.12308474e-07\n",
      "   1.93465567e-01  3.38951216e-02  1.14967346e-02  4.84687070e-03\n",
      "   2.16073245e+00 -1.77221009e+00 -1.55839293e-06 -1.27511987e+00\n",
      "  -2.12660022e+00 -8.53748841e+00 -1.49318464e+00 -1.63995420e+00\n",
      "   2.01714211e+00 -1.76612975e+01 -9.03932418e+00  4.89683097e-02\n",
      "  -3.99698098e+00 -4.04594929e+00 -3.02426042e-05 -3.99701857e+00\n",
      "   1.27246738e-01]]\n"
     ]
    }
   ],
   "source": [
    "print(reg.intercept_)\n",
    "print(reg.coef_)"
   ]
  },
  {
   "cell_type": "code",
   "execution_count": 23,
   "metadata": {},
   "outputs": [
    {
     "name": "stdout",
     "output_type": "stream",
     "text": [
      "[[-78000470.01822823]]\n"
     ]
    }
   ],
   "source": [
    "y_pred = reg.predict(x_test)\n",
    "print(y_pred)"
   ]
  },
  {
   "cell_type": "code",
   "execution_count": 25,
   "metadata": {},
   "outputs": [
    {
     "ename": "ValueError",
     "evalue": "Found input variables with inconsistent numbers of samples: [4, 1]",
     "output_type": "error",
     "traceback": [
      "\u001b[0;31m---------------------------------------------------------------------------\u001b[0m",
      "\u001b[0;31mValueError\u001b[0m                                Traceback (most recent call last)",
      "\u001b[0;32m/var/folders/sb/y6vkx66n73j528sqx4kjzjd40000gn/T/ipykernel_84084/462111532.py\u001b[0m in \u001b[0;36m<module>\u001b[0;34m\u001b[0m\n\u001b[0;32m----> 1\u001b[0;31m \u001b[0mmse\u001b[0m \u001b[0;34m=\u001b[0m \u001b[0mmetrics\u001b[0m\u001b[0;34m.\u001b[0m\u001b[0mmean_squared_error\u001b[0m\u001b[0;34m(\u001b[0m\u001b[0my\u001b[0m\u001b[0;34m,\u001b[0m \u001b[0my_pred\u001b[0m\u001b[0;34m)\u001b[0m\u001b[0;34m\u001b[0m\u001b[0;34m\u001b[0m\u001b[0m\n\u001b[0m",
      "\u001b[0;32m/Applications/anaconda3/lib/python3.8/site-packages/sklearn/metrics/_regression.py\u001b[0m in \u001b[0;36mmean_squared_error\u001b[0;34m(y_true, y_pred, sample_weight, multioutput, squared)\u001b[0m\n\u001b[1;32m    436\u001b[0m     \u001b[0;36m0.825\u001b[0m\u001b[0;34m...\u001b[0m\u001b[0;34m\u001b[0m\u001b[0;34m\u001b[0m\u001b[0m\n\u001b[1;32m    437\u001b[0m     \"\"\"\n\u001b[0;32m--> 438\u001b[0;31m     y_type, y_true, y_pred, multioutput = _check_reg_targets(\n\u001b[0m\u001b[1;32m    439\u001b[0m         \u001b[0my_true\u001b[0m\u001b[0;34m,\u001b[0m \u001b[0my_pred\u001b[0m\u001b[0;34m,\u001b[0m \u001b[0mmultioutput\u001b[0m\u001b[0;34m\u001b[0m\u001b[0;34m\u001b[0m\u001b[0m\n\u001b[1;32m    440\u001b[0m     )\n",
      "\u001b[0;32m/Applications/anaconda3/lib/python3.8/site-packages/sklearn/metrics/_regression.py\u001b[0m in \u001b[0;36m_check_reg_targets\u001b[0;34m(y_true, y_pred, multioutput, dtype)\u001b[0m\n\u001b[1;32m     92\u001b[0m         \u001b[0mthe\u001b[0m \u001b[0mdtype\u001b[0m \u001b[0margument\u001b[0m \u001b[0mpassed\u001b[0m \u001b[0mto\u001b[0m \u001b[0mcheck_array\u001b[0m\u001b[0;34m.\u001b[0m\u001b[0;34m\u001b[0m\u001b[0;34m\u001b[0m\u001b[0m\n\u001b[1;32m     93\u001b[0m     \"\"\"\n\u001b[0;32m---> 94\u001b[0;31m     \u001b[0mcheck_consistent_length\u001b[0m\u001b[0;34m(\u001b[0m\u001b[0my_true\u001b[0m\u001b[0;34m,\u001b[0m \u001b[0my_pred\u001b[0m\u001b[0;34m)\u001b[0m\u001b[0;34m\u001b[0m\u001b[0;34m\u001b[0m\u001b[0m\n\u001b[0m\u001b[1;32m     95\u001b[0m     \u001b[0my_true\u001b[0m \u001b[0;34m=\u001b[0m \u001b[0mcheck_array\u001b[0m\u001b[0;34m(\u001b[0m\u001b[0my_true\u001b[0m\u001b[0;34m,\u001b[0m \u001b[0mensure_2d\u001b[0m\u001b[0;34m=\u001b[0m\u001b[0;32mFalse\u001b[0m\u001b[0;34m,\u001b[0m \u001b[0mdtype\u001b[0m\u001b[0;34m=\u001b[0m\u001b[0mdtype\u001b[0m\u001b[0;34m)\u001b[0m\u001b[0;34m\u001b[0m\u001b[0;34m\u001b[0m\u001b[0m\n\u001b[1;32m     96\u001b[0m     \u001b[0my_pred\u001b[0m \u001b[0;34m=\u001b[0m \u001b[0mcheck_array\u001b[0m\u001b[0;34m(\u001b[0m\u001b[0my_pred\u001b[0m\u001b[0;34m,\u001b[0m \u001b[0mensure_2d\u001b[0m\u001b[0;34m=\u001b[0m\u001b[0;32mFalse\u001b[0m\u001b[0;34m,\u001b[0m \u001b[0mdtype\u001b[0m\u001b[0;34m=\u001b[0m\u001b[0mdtype\u001b[0m\u001b[0;34m)\u001b[0m\u001b[0;34m\u001b[0m\u001b[0;34m\u001b[0m\u001b[0m\n",
      "\u001b[0;32m/Applications/anaconda3/lib/python3.8/site-packages/sklearn/utils/validation.py\u001b[0m in \u001b[0;36mcheck_consistent_length\u001b[0;34m(*arrays)\u001b[0m\n\u001b[1;32m    330\u001b[0m     \u001b[0muniques\u001b[0m \u001b[0;34m=\u001b[0m \u001b[0mnp\u001b[0m\u001b[0;34m.\u001b[0m\u001b[0munique\u001b[0m\u001b[0;34m(\u001b[0m\u001b[0mlengths\u001b[0m\u001b[0;34m)\u001b[0m\u001b[0;34m\u001b[0m\u001b[0;34m\u001b[0m\u001b[0m\n\u001b[1;32m    331\u001b[0m     \u001b[0;32mif\u001b[0m \u001b[0mlen\u001b[0m\u001b[0;34m(\u001b[0m\u001b[0muniques\u001b[0m\u001b[0;34m)\u001b[0m \u001b[0;34m>\u001b[0m \u001b[0;36m1\u001b[0m\u001b[0;34m:\u001b[0m\u001b[0;34m\u001b[0m\u001b[0;34m\u001b[0m\u001b[0m\n\u001b[0;32m--> 332\u001b[0;31m         raise ValueError(\n\u001b[0m\u001b[1;32m    333\u001b[0m             \u001b[0;34m\"Found input variables with inconsistent numbers of samples: %r\"\u001b[0m\u001b[0;34m\u001b[0m\u001b[0;34m\u001b[0m\u001b[0m\n\u001b[1;32m    334\u001b[0m             \u001b[0;34m%\u001b[0m \u001b[0;34m[\u001b[0m\u001b[0mint\u001b[0m\u001b[0;34m(\u001b[0m\u001b[0ml\u001b[0m\u001b[0;34m)\u001b[0m \u001b[0;32mfor\u001b[0m \u001b[0ml\u001b[0m \u001b[0;32min\u001b[0m \u001b[0mlengths\u001b[0m\u001b[0;34m]\u001b[0m\u001b[0;34m\u001b[0m\u001b[0;34m\u001b[0m\u001b[0m\n",
      "\u001b[0;31mValueError\u001b[0m: Found input variables with inconsistent numbers of samples: [4, 1]"
     ]
    }
   ],
   "source": [
    "mse = metrics.mean_squared_error(y, y_pred)"
   ]
  }
 ],
 "metadata": {
  "kernelspec": {
   "display_name": "base",
   "language": "python",
   "name": "python3"
  },
  "language_info": {
   "codemirror_mode": {
    "name": "ipython",
    "version": 3
   },
   "file_extension": ".py",
   "mimetype": "text/x-python",
   "name": "python",
   "nbconvert_exporter": "python",
   "pygments_lexer": "ipython3",
   "version": "3.8.8 (default, Apr 13 2021, 12:59:45) \n[Clang 10.0.0 ]"
  },
  "orig_nbformat": 4,
  "vscode": {
   "interpreter": {
    "hash": "cd78fef2128015050713e82ca51c6520b11aee7c9ee8df750520bbbc7384cbaa"
   }
  }
 },
 "nbformat": 4,
 "nbformat_minor": 2
}
