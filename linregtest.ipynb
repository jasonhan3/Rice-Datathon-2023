{
 "cells": [
  {
   "cell_type": "code",
   "execution_count": 128,
   "metadata": {},
   "outputs": [],
   "source": [
    "import numpy as np\n",
    "import pandas as pd\n",
    "import matplotlib as plt\n",
    "from sklearn import linear_model, metrics, ensemble\n",
    "from sklearn.linear_model import Lasso\n",
    "from sklearn.preprocessing import PolynomialFeatures\n",
    "import math"
   ]
  },
  {
   "cell_type": "code",
   "execution_count": 3,
   "metadata": {},
   "outputs": [],
   "source": [
    "data = pd.read_csv(\"./chevron.csv\")\n",
    "# Clean data:\n",
    "# get rid of zeros\n",
    "# make sure that empty cells is filled in with 0\n",
    "# drop non states (US, etc.)\n",
    "# lots of 0's\n",
    "# get rid of random features that are duplicates\n",
    "# drop conversion factor columns\n",
    "\n",
    "## Filter stuff out\n",
    "# states\n",
    "## dropping DC, US, Gulf of Mexico, \n",
    "## factors\n",
    "\n",
    "## Convert stuff to billion btu\n",
    "# fuel ethanol\n",
    "\n",
    "# add additional data\n",
    "## add CO2 emissions data\n",
    "## some other stuff?\n",
    "## aggregate data?\n",
    "\n",
    "# normalize the features\n",
    "# adjust the weights\n",
    "# LASSO, some other method\n",
    "## normalize the data\n",
    "## replace zeros with means\n",
    "\n",
    "# other thoughts:\n",
    "## LP normalization: is this what we want?\n",
    "## if everything is in the same unit... then do we need to normalize?\n",
    "## "
   ]
  },
  {
   "cell_type": "code",
   "execution_count": 4,
   "metadata": {},
   "outputs": [
    {
     "name": "stdout",
     "output_type": "stream",
     "text": [
      "   Unnamed: 0    MSN StateCode  Year   Amount   State  CO2 Emissions (Mmt)  \\\n",
      "0           0  BDFDB        AK  2015     21.0  Alaska            35.027804   \n",
      "1           1  BDPRP        AK  2015      4.0  Alaska            35.027804   \n",
      "2           2  BFFDB        AK  2015     21.0  Alaska            35.027804   \n",
      "3           3  BFPRP        AK  2015      4.0  Alaska            35.027804   \n",
      "4           4  CLPRB        AK  2015  17747.0  Alaska            35.027804   \n",
      "\n",
      "   TotalNumberofInvestments  TotalAmountofAssistance  \n",
      "0                      16.0                3345612.0  \n",
      "1                      16.0                3345612.0  \n",
      "2                      16.0                3345612.0  \n",
      "3                      16.0                3345612.0  \n",
      "4                      16.0                3345612.0  \n",
      "(7595, 9)\n"
     ]
    }
   ],
   "source": [
    "print(data.head())\n",
    "print(data.shape)"
   ]
  },
  {
   "cell_type": "code",
   "execution_count": 5,
   "metadata": {},
   "outputs": [],
   "source": [
    "# Clean the data\n",
    "# Drop unnecessary rows"
   ]
  },
  {
   "cell_type": "code",
   "execution_count": 6,
   "metadata": {},
   "outputs": [
    {
     "name": "stdout",
     "output_type": "stream",
     "text": [
      "   Unnamed: 0    MSN StateCode  Year   Amount   State  CO2 Emissions (Mmt)  \\\n",
      "0           0  BDFDB        AK  2015     21.0  Alaska            35.027804   \n",
      "1           1  BDPRP        AK  2015      4.0  Alaska            35.027804   \n",
      "2           2  BFFDB        AK  2015     21.0  Alaska            35.027804   \n",
      "3           3  BFPRP        AK  2015      4.0  Alaska            35.027804   \n",
      "4           4  CLPRB        AK  2015  17747.0  Alaska            35.027804   \n",
      "\n",
      "   TotalNumberofInvestments  TotalAmountofAssistance  \n",
      "0                      16.0                3345612.0  \n",
      "1                      16.0                3345612.0  \n",
      "2                      16.0                3345612.0  \n",
      "3                      16.0                3345612.0  \n",
      "4                      16.0                3345612.0  \n",
      "(7250, 9)\n",
      "['AK' 'AL' 'AR' 'AZ' 'CA' 'CO' 'CT' 'DE' 'FL' 'GA' 'HI' 'IA' 'ID' 'IL'\n",
      " 'IN' 'KS' 'KY' 'LA' 'MA' 'MD' 'ME' 'MI' 'MN' 'MO' 'MS' 'MT' 'NC' 'ND'\n",
      " 'NE' 'NH' 'NJ' 'NM' 'NV' 'NY' 'OH' 'OK' 'OR' 'PA' 'RI' 'SC' 'SD' 'TN'\n",
      " 'TX' 'UT' 'VA' 'VT' 'WA' 'WI' 'WV' 'WY']\n",
      "50\n"
     ]
    }
   ],
   "source": [
    "# Drop DC, US, Gulf of Mexico, Pacific\n",
    "clean_df = data.query(\"StateCode != 'DC'\").query(\"StateCode != 'US'\").query(\"StateCode != 'X3'\").query(\"StateCode != 'X5'\")\n",
    "print(clean_df.head())\n",
    "print(clean_df.shape)\n",
    "print(clean_df.StateCode.unique())\n",
    "print(clean_df.StateCode.unique().size)"
   ]
  },
  {
   "cell_type": "code",
   "execution_count": 7,
   "metadata": {},
   "outputs": [
    {
     "name": "stdout",
     "output_type": "stream",
     "text": [
      "(6250, 9)\n",
      "      Unnamed: 0    MSN StateCode  Year   Amount          State  \\\n",
      "1              1  BDPRP        AK  2015    21.84         Alaska   \n",
      "30            30  BDPRP        AL  2015  1943.76        Alabama   \n",
      "59            59  BDPRP        AR  2015  4449.90       Arkansas   \n",
      "88            88  BDPRP        AZ  2015    10.92        Arizona   \n",
      "117          117  BDPRP        CA  2015  4078.62     California   \n",
      "...          ...    ...       ...   ...      ...            ...   \n",
      "7440        7440  BDPRP        VT  2019     0.00        Vermont   \n",
      "7469        7469  BDPRP        WA  2019  9871.68     Washington   \n",
      "7498        7498  BDPRP        WI  2019  3510.78      Wisconsin   \n",
      "7527        7527  BDPRP        WV  2019     0.00  West Virginia   \n",
      "7556        7556  BDPRP        WY  2019     0.00        Wyoming   \n",
      "\n",
      "      CO2 Emissions (Mmt)  TotalNumberofInvestments  TotalAmountofAssistance  \n",
      "1               35.027804                      16.0                3345612.0  \n",
      "30             119.200889                     164.0                1864412.0  \n",
      "59              59.053365                     477.0               13453887.0  \n",
      "88              94.978784                      65.0                1724853.0  \n",
      "117            351.408516                    1023.0               30077512.0  \n",
      "...                   ...                       ...                      ...  \n",
      "7440             6.020391                      27.0                1121855.0  \n",
      "7469            84.169482                      88.0               18389113.0  \n",
      "7498            94.822424                     103.0                2915140.0  \n",
      "7527            85.445996                      44.0                 790383.0  \n",
      "7556            59.096649                      32.0                 570570.0  \n",
      "\n",
      "[250 rows x 9 columns]\n",
      "(6250, 9)\n"
     ]
    },
    {
     "name": "stderr",
     "output_type": "stream",
     "text": [
      "/Applications/anaconda3/lib/python3.8/site-packages/pandas/core/indexing.py:1773: SettingWithCopyWarning: \n",
      "A value is trying to be set on a copy of a slice from a DataFrame.\n",
      "Try using .loc[row_indexer,col_indexer] = value instead\n",
      "\n",
      "See the caveats in the documentation: https://pandas.pydata.org/pandas-docs/stable/user_guide/indexing.html#returning-a-view-versus-a-copy\n",
      "  self._setitem_single_column(ilocs[0], value, pi)\n"
     ]
    }
   ],
   "source": [
    "# Convert everything to billion btu\n",
    "## Convert biodiesel to billion btu\n",
    "clean_df = clean_df\n",
    "# Remove the BDFDB, BFFDB, BFPRP, EMFDB\n",
    "clean_df = clean_df.query(\"MSN != 'BDFDB'\").query(\"MSN != 'BFFDB'\").query(\"MSN != 'BFPRP'\").query(\"MSN != 'EMFDB'\")\n",
    "print(clean_df.shape)\n",
    "# Convert biodiesel to energy\n",
    "biodiesel_converted = clean_df.query(\"MSN == 'BDPRP'\")\n",
    "# print(biodiesel_converted['Amount'])\n",
    "biodiesel_converted.loc[:, \"Amount\"] = biodiesel_converted.loc[:, \"Amount\"] * 5.46\n",
    "print(biodiesel_converted)\n",
    "non_bdprp = clean_df.query(\"MSN != 'BDPRP'\")\n",
    "clean_df = pd.concat([non_bdprp, biodiesel_converted])\n",
    "print(clean_df.shape)\n"
   ]
  },
  {
   "cell_type": "code",
   "execution_count": null,
   "metadata": {},
   "outputs": [],
   "source": []
  },
  {
   "cell_type": "code",
   "execution_count": 8,
   "metadata": {},
   "outputs": [
    {
     "name": "stdout",
     "output_type": "stream",
     "text": [
      "9           0.0\n",
      "38          0.0\n",
      "67          0.0\n",
      "96       1154.0\n",
      "125      4650.0\n",
      "         ...   \n",
      "7448        0.0\n",
      "7477        0.0\n",
      "7506    15000.0\n",
      "7535        0.0\n",
      "7564        0.0\n",
      "Name: Amount, Length: 250, dtype: float64\n",
      "9           0.000\n",
      "38          0.000\n",
      "67          0.000\n",
      "96       3683.568\n",
      "125     14842.800\n",
      "          ...    \n",
      "7448        0.000\n",
      "7477        0.000\n",
      "7506    47880.000\n",
      "7535        0.000\n",
      "7564        0.000\n",
      "Name: Amount, Length: 250, dtype: float64\n",
      "(6250, 9)\n"
     ]
    },
    {
     "name": "stderr",
     "output_type": "stream",
     "text": [
      "/Applications/anaconda3/lib/python3.8/site-packages/pandas/core/indexing.py:1773: SettingWithCopyWarning: \n",
      "A value is trying to be set on a copy of a slice from a DataFrame.\n",
      "Try using .loc[row_indexer,col_indexer] = value instead\n",
      "\n",
      "See the caveats in the documentation: https://pandas.pydata.org/pandas-docs/stable/user_guide/indexing.html#returning-a-view-versus-a-copy\n",
      "  self._setitem_single_column(ilocs[0], value, pi)\n"
     ]
    }
   ],
   "source": [
    "# Convert ethanol to energy\n",
    "ethanol_converted = clean_df.query(\"MSN == 'ENPRP'\")\n",
    "print(ethanol_converted['Amount'])\n",
    "ethanol_converted.loc[:, \"Amount\"] = ethanol_converted.loc[:, \"Amount\"] * 3.192\n",
    "print(ethanol_converted['Amount'])\n",
    "non_enprp = clean_df.query(\"MSN != 'ENPRP'\")\n",
    "clean_df = pd.concat([non_enprp, ethanol_converted])\n",
    "print(clean_df.shape)"
   ]
  },
  {
   "cell_type": "code",
   "execution_count": 9,
   "metadata": {},
   "outputs": [
    {
     "name": "stdout",
     "output_type": "stream",
     "text": [
      "      Unnamed: 0    MSN StateCode  Year    Amount          State  \\\n",
      "4              4  CLPRB        AK  2015   17747.0         Alaska   \n",
      "10            10  GETCB        AK  2015     186.0         Alaska   \n",
      "11            11  HYTCB        AK  2015   14621.0         Alaska   \n",
      "12            12  NCPRB        AK  2015   16298.0         Alaska   \n",
      "13            13  NGMPB        AK  2015  380887.0         Alaska   \n",
      "...          ...    ...       ...   ...       ...            ...   \n",
      "7448        7448  ENPRP        VT  2019       0.0        Vermont   \n",
      "7477        7477  ENPRP        WA  2019       0.0     Washington   \n",
      "7506        7506  ENPRP        WI  2019   47880.0      Wisconsin   \n",
      "7535        7535  ENPRP        WV  2019       0.0  West Virginia   \n",
      "7564        7564  ENPRP        WY  2019       0.0        Wyoming   \n",
      "\n",
      "      CO2 Emissions (Mmt)  TotalNumberofInvestments  TotalAmountofAssistance  \n",
      "4               35.027804                      16.0                3345612.0  \n",
      "10              35.027804                      16.0                3345612.0  \n",
      "11              35.027804                      16.0                3345612.0  \n",
      "12              35.027804                      16.0                3345612.0  \n",
      "13              35.027804                      16.0                3345612.0  \n",
      "...                   ...                       ...                      ...  \n",
      "7448             6.020391                      27.0                1121855.0  \n",
      "7477            84.169482                      88.0               18389113.0  \n",
      "7506            94.822424                     103.0                2915140.0  \n",
      "7535            85.445996                      44.0                 790383.0  \n",
      "7564            59.096649                      32.0                 570570.0  \n",
      "\n",
      "[4750 rows x 9 columns]\n"
     ]
    }
   ],
   "source": [
    "clean_df = clean_df.query(\"MSN != 'CLPRK'\").query(\"MSN != 'CLPRP'\").query(\"MSN != 'COPRK'\") \\\n",
    "                    .query(\"MSN != 'PAPRP'\").query(\"MSN != 'NGMPK'\").query(\"MSN != 'NGMPP'\")\n",
    "print(clean_df)\n"
   ]
  },
  {
   "cell_type": "code",
   "execution_count": 11,
   "metadata": {},
   "outputs": [
    {
     "name": "stdout",
     "output_type": "stream",
     "text": [
      "      Unnamed: 0    MSN StateCode  Year    Amount    State  \\\n",
      "1              1  BDPRP        AK  2015     21.84   Alaska   \n",
      "4              4  CLPRB        AK  2015  17747.00   Alaska   \n",
      "9              9  ENPRP        AK  2015      0.00   Alaska   \n",
      "10            10  GETCB        AK  2015    186.00   Alaska   \n",
      "11            11  HYTCB        AK  2015  14621.00   Alaska   \n",
      "...          ...    ...       ...   ...       ...      ...   \n",
      "7579        7579  WDPRB        WY  2019   4969.00  Wyoming   \n",
      "7580        7580  WDTCB        WY  2019   4969.00  Wyoming   \n",
      "7581        7581  WSTCB        WY  2019      0.00  Wyoming   \n",
      "7582        7582  WWPRB        WY  2019   4969.00  Wyoming   \n",
      "7583        7583  WYTCB        WY  2019  37070.00  Wyoming   \n",
      "\n",
      "      CO2 Emissions (Mmt)  TotalNumberofInvestments  TotalAmountofAssistance  \n",
      "1               35.027804                      16.0                3345612.0  \n",
      "4               35.027804                      16.0                3345612.0  \n",
      "9               35.027804                      16.0                3345612.0  \n",
      "10              35.027804                      16.0                3345612.0  \n",
      "11              35.027804                      16.0                3345612.0  \n",
      "...                   ...                       ...                      ...  \n",
      "7579            59.096649                      32.0                 570570.0  \n",
      "7580            59.096649                      32.0                 570570.0  \n",
      "7581            59.096649                      32.0                 570570.0  \n",
      "7582            59.096649                      32.0                 570570.0  \n",
      "7583            59.096649                      32.0                 570570.0  \n",
      "\n",
      "[4750 rows x 9 columns]\n"
     ]
    }
   ],
   "source": [
    "# Sort and reindex dataframe\n",
    "print(clean_df.sort_values('Unnamed: 0'))\n",
    "clean_df.reset_index(drop=True, inplace=True)"
   ]
  },
  {
   "cell_type": "code",
   "execution_count": 12,
   "metadata": {},
   "outputs": [
    {
     "name": "stdout",
     "output_type": "stream",
     "text": [
      "      Unnamed: 0    MSN StateCode  Year    Amount          State  \\\n",
      "0              4  CLPRB        AK  2015   17747.0         Alaska   \n",
      "1             10  GETCB        AK  2015     186.0         Alaska   \n",
      "2             11  HYTCB        AK  2015   14621.0         Alaska   \n",
      "3             12  NCPRB        AK  2015   16298.0         Alaska   \n",
      "4             13  NGMPB        AK  2015  380887.0         Alaska   \n",
      "...          ...    ...       ...   ...       ...            ...   \n",
      "4745        7448  ENPRP        VT  2019       0.0        Vermont   \n",
      "4746        7477  ENPRP        WA  2019       0.0     Washington   \n",
      "4747        7506  ENPRP        WI  2019   47880.0      Wisconsin   \n",
      "4748        7535  ENPRP        WV  2019       0.0  West Virginia   \n",
      "4749        7564  ENPRP        WY  2019       0.0        Wyoming   \n",
      "\n",
      "      CO2 Emissions (Mmt)  TotalNumberofInvestments  TotalAmountofAssistance  \n",
      "0               35.027804                      16.0                3345612.0  \n",
      "1               35.027804                      16.0                3345612.0  \n",
      "2               35.027804                      16.0                3345612.0  \n",
      "3               35.027804                      16.0                3345612.0  \n",
      "4               35.027804                      16.0                3345612.0  \n",
      "...                   ...                       ...                      ...  \n",
      "4745             6.020391                      27.0                1121855.0  \n",
      "4746            84.169482                      88.0               18389113.0  \n",
      "4747            94.822424                     103.0                2915140.0  \n",
      "4748            85.445996                      44.0                 790383.0  \n",
      "4749            59.096649                      32.0                 570570.0  \n",
      "\n",
      "[4750 rows x 9 columns]\n"
     ]
    }
   ],
   "source": [
    "print(clean_df)"
   ]
  },
  {
   "cell_type": "code",
   "execution_count": 69,
   "metadata": {},
   "outputs": [
    {
     "name": "stdout",
     "output_type": "stream",
     "text": [
      "      Unnamed: 0    MSN StateCode  Year  Amount          State  \\\n",
      "16            16  NUETB        AK  2015     0.0         Alaska   \n",
      "23            23  WDEXB        AK  2015     0.0         Alaska   \n",
      "52            52  WDEXB        AL  2015     0.0        Alabama   \n",
      "57            57  WYTCB        AL  2015     0.0        Alabama   \n",
      "81            81  WDEXB        AR  2015     0.0       Arkansas   \n",
      "...          ...    ...       ...   ...     ...            ...   \n",
      "7390        7390  ENPRP        UT  2019     0.0           Utah   \n",
      "7448        7448  ENPRP        VT  2019     0.0        Vermont   \n",
      "7477        7477  ENPRP        WA  2019     0.0     Washington   \n",
      "7535        7535  ENPRP        WV  2019     0.0  West Virginia   \n",
      "7564        7564  ENPRP        WY  2019     0.0        Wyoming   \n",
      "\n",
      "      CO2 Emissions (Mmt)  TotalNumberofInvestments  TotalAmountofAssistance  \n",
      "16              35.027804                      16.0                3345612.0  \n",
      "23              35.027804                      16.0                3345612.0  \n",
      "52             119.200889                     164.0                1864412.0  \n",
      "57             119.200889                     164.0                1864412.0  \n",
      "81              59.053365                     477.0               13453887.0  \n",
      "...                   ...                       ...                      ...  \n",
      "7390            61.503227                      71.0                 448561.0  \n",
      "7448             6.020391                      27.0                1121855.0  \n",
      "7477            84.169482                      88.0               18389113.0  \n",
      "7535            85.445996                      44.0                 790383.0  \n",
      "7564            59.096649                      32.0                 570570.0  \n",
      "\n",
      "[875 rows x 9 columns]\n"
     ]
    }
   ],
   "source": [
    "# See how many zeroes there are in the dataframe\n",
    "zeros_df = clean_df.query(\"Amount == 0\")\n",
    "print(zeros_df)"
   ]
  },
  {
   "cell_type": "code",
   "execution_count": 29,
   "metadata": {},
   "outputs": [
    {
     "name": "stdout",
     "output_type": "stream",
     "text": [
      "      Unnamed: 0    MSN StateCode  Year      Amount   State  \\\n",
      "0              4  CLPRB        AK  2015    17747.00  Alaska   \n",
      "1             10  GETCB        AK  2015      186.00  Alaska   \n",
      "2             11  HYTCB        AK  2015    14621.00  Alaska   \n",
      "3             12  NCPRB        AK  2015    16298.00  Alaska   \n",
      "4             13  NGMPB        AK  2015   380887.00  Alaska   \n",
      "5             16  NUETB        AK  2015        0.00  Alaska   \n",
      "6             17  PAPRB        AK  2015  1007501.00  Alaska   \n",
      "7             19  REPRB        AK  2015    23807.00  Alaska   \n",
      "8             20  SOTCB        AK  2015        3.00  Alaska   \n",
      "9             21  TEPRB        AK  2015  1429942.00  Alaska   \n",
      "10            22  TETCB        AK  2015   614242.00  Alaska   \n",
      "11            23  WDEXB        AK  2015        0.00  Alaska   \n",
      "12            24  WDPRB        AK  2015     6865.00  Alaska   \n",
      "13            25  WDTCB        AK  2015     6865.00  Alaska   \n",
      "14            26  WSTCB        AK  2015      622.00  Alaska   \n",
      "15            27  WWPRB        AK  2015     7488.00  Alaska   \n",
      "16            28  WYTCB        AK  2015     1488.00  Alaska   \n",
      "4250           1  BDPRP        AK  2015       21.84  Alaska   \n",
      "4500           9  ENPRP        AK  2015        0.00  Alaska   \n",
      "\n",
      "      CO2 Emissions (Mmt)  TotalNumberofInvestments  TotalAmountofAssistance  \n",
      "0               35.027804                      16.0                3345612.0  \n",
      "1               35.027804                      16.0                3345612.0  \n",
      "2               35.027804                      16.0                3345612.0  \n",
      "3               35.027804                      16.0                3345612.0  \n",
      "4               35.027804                      16.0                3345612.0  \n",
      "5               35.027804                      16.0                3345612.0  \n",
      "6               35.027804                      16.0                3345612.0  \n",
      "7               35.027804                      16.0                3345612.0  \n",
      "8               35.027804                      16.0                3345612.0  \n",
      "9               35.027804                      16.0                3345612.0  \n",
      "10              35.027804                      16.0                3345612.0  \n",
      "11              35.027804                      16.0                3345612.0  \n",
      "12              35.027804                      16.0                3345612.0  \n",
      "13              35.027804                      16.0                3345612.0  \n",
      "14              35.027804                      16.0                3345612.0  \n",
      "15              35.027804                      16.0                3345612.0  \n",
      "16              35.027804                      16.0                3345612.0  \n",
      "4250            35.027804                      16.0                3345612.0  \n",
      "4500            35.027804                      16.0                3345612.0  \n",
      "3345612.0\n",
      "<class 'numpy.float64'>\n",
      "['CLPRB' 'GETCB' 'HYTCB' 'NCPRB' 'NGMPB' 'NUETB' 'PAPRB' 'REPRB' 'SOTCB'\n",
      " 'TEPRB' 'TETCB' 'WDEXB' 'WDPRB' 'WDTCB' 'WSTCB' 'WWPRB' 'WYTCB' 'BDPRP'\n",
      " 'ENPRP']\n",
      "19\n"
     ]
    }
   ],
   "source": [
    "# Test Query Code\n",
    "test_query = clean_df.query(\"StateCode == 'AK' & Year == 2015\")\n",
    "print(test_query)\n",
    "print(test_query.iloc[0, 8])\n",
    "print(type(test_query.iloc[0, 8]))\n",
    "\n",
    "# See how many features we have remaining\n",
    "print(clean_df.MSN.unique())\n",
    "print(clean_df.MSN.unique().size)"
   ]
  },
  {
   "cell_type": "code",
   "execution_count": 33,
   "metadata": {},
   "outputs": [
    {
     "name": "stdout",
     "output_type": "stream",
     "text": [
      "      Unnamed: 0    MSN StateCode  Year    Amount          State  \\\n",
      "0              4  CLPRB        AK  2015   17747.0         Alaska   \n",
      "1             10  GETCB        AK  2015     186.0         Alaska   \n",
      "2             11  HYTCB        AK  2015   14621.0         Alaska   \n",
      "3             12  NCPRB        AK  2015   16298.0         Alaska   \n",
      "4             13  NGMPB        AK  2015  380887.0         Alaska   \n",
      "...          ...    ...       ...   ...       ...            ...   \n",
      "4745        7448  ENPRP        VT  2019       0.0        Vermont   \n",
      "4746        7477  ENPRP        WA  2019       0.0     Washington   \n",
      "4747        7506  ENPRP        WI  2019   47880.0      Wisconsin   \n",
      "4748        7535  ENPRP        WV  2019       0.0  West Virginia   \n",
      "4749        7564  ENPRP        WY  2019       0.0        Wyoming   \n",
      "\n",
      "      CO2 Emissions (Mmt)  TotalNumberofInvestments  TotalAmountofAssistance  \n",
      "0               35.027804                      16.0                3345612.0  \n",
      "1               35.027804                      16.0                3345612.0  \n",
      "2               35.027804                      16.0                3345612.0  \n",
      "3               35.027804                      16.0                3345612.0  \n",
      "4               35.027804                      16.0                3345612.0  \n",
      "...                   ...                       ...                      ...  \n",
      "4745             6.020391                      27.0                1121855.0  \n",
      "4746            84.169482                      88.0               18389113.0  \n",
      "4747            94.822424                     103.0                2915140.0  \n",
      "4748            85.445996                      44.0                 790383.0  \n",
      "4749            59.096649                      32.0                 570570.0  \n",
      "\n",
      "[4750 rows x 9 columns]\n",
      "['AK' 'AL' 'AR' 'AZ' 'CA' 'CO' 'CT' 'DE' 'FL' 'GA' 'HI' 'IA' 'ID' 'IL'\n",
      " 'IN' 'KS' 'KY' 'LA' 'MA' 'MD' 'ME' 'MI' 'MN' 'MO' 'MS' 'MT' 'NC' 'ND'\n",
      " 'NE' 'NH' 'NJ' 'NM' 'NV' 'NY' 'OH' 'OK' 'OR' 'PA' 'RI' 'SC' 'SD' 'TN'\n",
      " 'TX' 'UT' 'VA' 'VT' 'WA' 'WI' 'WV' 'WY']\n",
      "50\n"
     ]
    }
   ],
   "source": [
    "# alaska_df = clean_df.loc[clean_df[\"StateCode\"] == \"AK\"]\n",
    "print(clean_df)\n",
    "print(clean_df.StateCode.unique())\n",
    "print(clean_df.StateCode.unique().size)"
   ]
  },
  {
   "cell_type": "code",
   "execution_count": 34,
   "metadata": {},
   "outputs": [],
   "source": [
    "### Test on all states\n",
    "# Generate all years and all states\n",
    "all_years = [2015, 2016, 2017, 2018, 2019]\n",
    "all_states = clean_df.StateCode.unique()"
   ]
  },
  {
   "cell_type": "code",
   "execution_count": 39,
   "metadata": {},
   "outputs": [
    {
     "name": "stdout",
     "output_type": "stream",
     "text": [
      "      Unnamed: 0    MSN StateCode  Year    Amount          State  \\\n",
      "0              4  CLPRB        AK  2015   17747.0         Alaska   \n",
      "1             10  GETCB        AK  2015     186.0         Alaska   \n",
      "2             11  HYTCB        AK  2015   14621.0         Alaska   \n",
      "3             12  NCPRB        AK  2015   16298.0         Alaska   \n",
      "4             13  NGMPB        AK  2015  380887.0         Alaska   \n",
      "...          ...    ...       ...   ...       ...            ...   \n",
      "4745        7448  ENPRP        VT  2019       0.0        Vermont   \n",
      "4746        7477  ENPRP        WA  2019       0.0     Washington   \n",
      "4747        7506  ENPRP        WI  2019   47880.0      Wisconsin   \n",
      "4748        7535  ENPRP        WV  2019       0.0  West Virginia   \n",
      "4749        7564  ENPRP        WY  2019       0.0        Wyoming   \n",
      "\n",
      "      CO2 Emissions (Mmt)  TotalNumberofInvestments  TotalAmountofAssistance  \n",
      "0               35.027804                      16.0                3345612.0  \n",
      "1               35.027804                      16.0                3345612.0  \n",
      "2               35.027804                      16.0                3345612.0  \n",
      "3               35.027804                      16.0                3345612.0  \n",
      "4               35.027804                      16.0                3345612.0  \n",
      "...                   ...                       ...                      ...  \n",
      "4745             6.020391                      27.0                1121855.0  \n",
      "4746            84.169482                      88.0               18389113.0  \n",
      "4747            94.822424                     103.0                2915140.0  \n",
      "4748            85.445996                      44.0                 790383.0  \n",
      "4749            59.096649                      32.0                 570570.0  \n",
      "\n",
      "[4750 rows x 9 columns]\n",
      "['AK' 'AL' 'AR' 'AZ' 'CA' 'CO' 'CT' 'DE' 'FL' 'GA' 'HI' 'IA' 'ID' 'IL'\n",
      " 'IN' 'KS' 'KY' 'LA' 'MA' 'MD' 'ME' 'MI' 'MN' 'MO' 'MS' 'MT' 'NC' 'ND'\n",
      " 'NE' 'NH' 'NJ' 'NM' 'NV' 'NY' 'OH' 'OK' 'OR' 'PA' 'RI' 'SC' 'SD' 'TN'\n",
      " 'TX' 'UT' 'VA' 'VT' 'WA' 'WI' 'WV' 'WY']\n"
     ]
    }
   ],
   "source": [
    "print(clean_df)\n",
    "print(all_states)"
   ]
  },
  {
   "cell_type": "code",
   "execution_count": 199,
   "metadata": {},
   "outputs": [
    {
     "name": "stdout",
     "output_type": "stream",
     "text": [
      "    TotalAmountofAssistance\n",
      "0                 3345612.0\n",
      "1                 1864412.0\n",
      "2                13453887.0\n",
      "3                 1724853.0\n",
      "4                30077512.0\n",
      "..                      ...\n",
      "245               1121855.0\n",
      "246              18389113.0\n",
      "247               2915140.0\n",
      "248                790383.0\n",
      "249                570570.0\n",
      "\n",
      "[250 rows x 1 columns]\n"
     ]
    }
   ],
   "source": [
    "# Create Response Variable\n",
    "\n",
    "num_datapoints = len(all_years) * len(all_states) \n",
    "num_cols = 1\n",
    "y = pd.DataFrame(index=range(num_datapoints), columns=[\"TotalAmountofAssistance\"])\n",
    "investment_vals = []\n",
    "for year in all_years:\n",
    "    for state in all_states:\n",
    "        state_query = \"StateCode == \" + \"'\" + str(state) + \"'\"\n",
    "        year_query = \"Year == \" + str(year)\n",
    "        investment_year_state = clean_df.query(year_query + \" & \" + state_query)\n",
    "        # print(\"INVESTMENT YEAR QUERY DF\")\n",
    "        # print(investment_year.head())\n",
    "        # print(investment_year.shape)\n",
    "        investment_year_val = investment_year_state.iloc[0, 8]\n",
    "        investment_vals.append(investment_year_val)\n",
    "for yIdx in range(num_datapoints):\n",
    "    y.at[yIdx, \"TotalAmountofAssistance\"] = investment_vals[yIdx]\n",
    "# y.at[0][\"TotalAmountofAssistance\"] = data[\"TotalAmountofAssistance\"][0]\n",
    "# print(y)\n",
    "# y.at[1][\"TotalAmountofAssistance\"] = data[\"TotalAmountofAssistance\"][1519]\n",
    "# y.at[2][\"TotalAmountofAssistance\"] = data[\"TotalAmountofAssistance\"][3038]\n",
    "# y.at[3][\"TotalAmountofAssistance\"] = data[\"TotalAmountofAssistance\"][4557]\n",
    "# y.at[4][\"TotalAmountofAssistance\"] = data[\"TotalAmountofAssistance\"][6076]\n",
    "# for investment_idx in range(5):\n",
    "#     print(investment_idx)\n",
    "#     print(data[\"TotalAmountofAssistance\"][3038])\n",
    "#     row_idx = 1519 * investment_idx\n",
    "#     y.at[investment_idx][\"TotalAmountofAssistance\"] = data[\"TotalAmountofAssistance\"][row_idx]\n",
    "print(y)\n",
    "\n",
    "# y.to_csv('assistance.csv')"
   ]
  },
  {
   "cell_type": "code",
   "execution_count": 64,
   "metadata": {},
   "outputs": [
    {
     "name": "stdout",
     "output_type": "stream",
     "text": [
      "         CLPRB  GETCB     HYTCB     NCPRB      NGMPB     NUETB     PAPRB  \\\n",
      "0      14867.0  186.0   14456.0   15951.0   364363.0       0.0  968358.0   \n",
      "1     331420.0  141.0   91902.0   92144.0   182481.0  438728.0   55421.0   \n",
      "2     247632.0  141.0   64484.0   65056.0   176290.0  417334.0   46417.0   \n",
      "3     326748.0  141.0   85103.0   87057.0   159686.0  446097.0   39100.0   \n",
      "4     370533.0  141.0  101447.0  105013.0   149607.0  412584.0   33591.0   \n",
      "..         ...    ...       ...       ...        ...       ...       ...   \n",
      "245  4828513.0  663.0    8838.0   48259.0  1684374.0       0.0  582170.0   \n",
      "246        NaN    NaN       NaN       NaN        NaN       NaN       NaN   \n",
      "247        NaN    NaN       NaN       NaN        NaN       NaN       NaN   \n",
      "248        NaN    NaN       NaN       NaN        NaN       NaN       NaN   \n",
      "249        NaN    NaN       NaN       NaN        NaN       NaN       NaN   \n",
      "\n",
      "        REPRB   SOTCB      TEPRB      TETCB   WDEXB     WDPRB     WDTCB  \\\n",
      "0     22754.0    40.0  1370342.0   605689.0     0.0    6418.0    6418.0   \n",
      "1    258955.0   101.0  1267004.0  1917138.0     0.0  163313.0  163313.0   \n",
      "2    230734.0   431.0  1118407.0  1922727.0     0.0  162166.0  162166.0   \n",
      "3    258549.0  1812.0  1230179.0  1904206.0  1137.0  168195.0  167058.0   \n",
      "4    279560.0  3425.0  1245875.0  1956413.0  4462.0  171215.0  166753.0   \n",
      "..        ...     ...        ...        ...     ...       ...       ...   \n",
      "245   53228.0  1688.0  7148285.0   546671.0     0.0    4969.0    4969.0   \n",
      "246       NaN     NaN        NaN        NaN     NaN       NaN       NaN   \n",
      "247       NaN     NaN        NaN        NaN     NaN       NaN       NaN   \n",
      "248       NaN     NaN        NaN        NaN     NaN       NaN       NaN   \n",
      "249       NaN     NaN        NaN        NaN     NaN       NaN       NaN   \n",
      "\n",
      "      WSTCB     WWPRB    WYTCB    BDPRP ENPRP  \n",
      "0     386.0    6803.0   1270.0      0.0   0.0  \n",
      "1    1565.0  164877.0      0.0  1943.76   0.0  \n",
      "2    1606.0  163772.0      0.0  1916.46   0.0  \n",
      "3    1712.0  169907.0      0.0  1594.32   0.0  \n",
      "4    1680.0  172895.0      0.0  1659.84   0.0  \n",
      "..      ...       ...      ...      ...   ...  \n",
      "245     0.0    4969.0  37070.0      0.0   0.0  \n",
      "246     NaN       NaN      NaN      NaN   NaN  \n",
      "247     NaN       NaN      NaN      NaN   NaN  \n",
      "248     NaN       NaN      NaN      NaN   NaN  \n",
      "249     NaN       NaN      NaN      NaN   NaN  \n",
      "\n",
      "[250 rows x 19 columns]\n"
     ]
    }
   ],
   "source": [
    "# num_datapoints = len(all_years) * len(all_states) \n",
    "# num_features = 19\n",
    "\n",
    "# all_msns = clean_df.MSN.unique()\n",
    "\n",
    "# X = pd.DataFrame(index=range(num_datapoints), columns=all_msns)\n",
    "\n",
    "# for yearIdx in range(len(all_years)):\n",
    "#     for stateIdx in range(len(all_states)):\n",
    "#         dataPtIdx = stateIdx * (yearIdx + 1)\n",
    "#         # print(dataPtIdx)\n",
    "#         curYear = all_years[yearIdx]\n",
    "#         curState = all_states[stateIdx]\n",
    "#         for msnIdx in range(len(all_msns)):\n",
    "#             state_query = \"StateCode == \" + \"'\" + str(curState) + \"'\"\n",
    "#             year_query = \"Year == \" + str(curYear)\n",
    "#             msn_query = \"MSN == \" + \"'\" + str(all_msns[msnIdx]) + \"'\"\n",
    "#             state_year_msn = clean_df.query(year_query + \" & \" + state_query + \" & \" + msn_query)\n",
    "#             # print(state_year_msn)\n",
    "#             amount_val = state_year_msn.iloc[0, 4]\n",
    "#             X.at[dataPtIdx, all_msns[msnIdx]] = amount_val\n",
    "\n",
    "# print(X)"
   ]
  },
  {
   "cell_type": "code",
   "execution_count": 60,
   "metadata": {},
   "outputs": [
    {
     "name": "stdout",
     "output_type": "stream",
     "text": [
      "['CLPRB' 'GETCB' 'HYTCB' 'NCPRB' 'NGMPB' 'NUETB' 'PAPRB' 'REPRB' 'SOTCB'\n",
      " 'TEPRB' 'TETCB' 'WDEXB' 'WDPRB' 'WDTCB' 'WSTCB' 'WWPRB' 'WYTCB' 'BDPRP'\n",
      " 'ENPRP']\n",
      "         CLPRB      GETCB      HYTCB      NCPRB       NGMPB      NUETB  \\\n",
      "0      17747.0      186.0    14621.0    16298.0    380887.0        0.0   \n",
      "1      91902.0    92144.0   182481.0   438728.0     55421.0   258955.0   \n",
      "2    1031466.0   144716.0    35611.0   117840.0       124.0  1331452.0   \n",
      "3        212.0   128954.0    48229.0   615867.0   1495858.0        0.0   \n",
      "4     211839.0  2352883.0  7525491.0        0.0     98852.0    98852.0   \n",
      "..         ...        ...        ...        ...         ...        ...   \n",
      "245  11034.744        0.0        0.0        0.0    7702.296        0.0   \n",
      "246   3801.672        0.0        0.0  39076.464  158715.816        0.0   \n",
      "247        0.0   3466.512        0.0        0.0   48240.696        0.0   \n",
      "248   5014.632  112549.92  80237.304  40940.592    2694.048        0.0   \n",
      "249        0.0        0.0  11232.648  47669.328         0.0   2847.264   \n",
      "\n",
      "         PAPRB      REPRB       SOTCB      TEPRB      TETCB      WDEXB  \\\n",
      "0    1007501.0    23807.0         3.0  1429942.0   614242.0        0.0   \n",
      "1        101.0  1267004.0   1917138.0        0.0   163313.0   163313.0   \n",
      "2    1062359.0        0.0     75417.0    75417.0     3799.0    79217.0   \n",
      "3       8001.0     8001.0       658.0     8659.0     4213.0        0.0   \n",
      "4      40708.0   139561.0    113967.0   403605.0      759.0    15098.0   \n",
      "..         ...        ...         ...        ...        ...        ...   \n",
      "245  332079.72   5212.536  116345.208  90371.904  39982.992     2234.4   \n",
      "246        0.0        0.0         0.0  10559.136  48298.152        0.0   \n",
      "247        0.0        0.0         0.0        0.0   1694.952  14785.344   \n",
      "248        0.0        0.0         0.0  26129.712  96101.544  21057.624   \n",
      "249   8168.328        0.0         0.0  91958.328  13655.376   22870.68   \n",
      "\n",
      "         WDPRB      WDTCB     WSTCB      WWPRB       WYTCB      BDPRP  \\\n",
      "0       6865.0     6865.0     622.0     7488.0      1488.0   331420.0   \n",
      "1       1565.0   164877.0       0.0     1819.0       808.0    33261.0   \n",
      "2          0.0   146450.0     345.0    60906.0    113693.0       99.0   \n",
      "3     112878.0   128681.0  567365.0   271086.0    193529.0  1150741.0   \n",
      "4      91789.0  1965188.0       0.0   698737.0    126586.0     6270.0   \n",
      "..         ...        ...       ...        ...         ...        ...   \n",
      "245        0.0        0.0       0.0        0.0    27435.24  93164.904   \n",
      "246   3172.848   7060.704       0.0        0.0   92526.504  13968.192   \n",
      "247  10492.104        0.0       0.0        0.0    8912.064        0.0   \n",
      "248        0.0        0.0       0.0  39603.144  159973.464        0.0   \n",
      "249        0.0    296.856       0.0        0.0     47880.0        0.0   \n",
      "\n",
      "         ENPRP  \n",
      "0        141.0  \n",
      "1      34194.0  \n",
      "2     340153.0  \n",
      "3     737527.0  \n",
      "4    3194117.0  \n",
      "..         ...  \n",
      "245  21823.704  \n",
      "246  26385.072  \n",
      "247  332398.92  \n",
      "248        0.0  \n",
      "249        0.0  \n",
      "\n",
      "[250 rows x 19 columns]\n"
     ]
    }
   ],
   "source": [
    "# Test querying features\n",
    "\n",
    "# all_msns = clean_df.MSN.unique()\n",
    "# print(all_msns)\n",
    "# X = pd.DataFrame(index=range(250), columns=all_msns)\n",
    "# data_pt_idx= 0\n",
    "# clean_df_row_idx = 0\n",
    "# for year in all_years:\n",
    "#     for state in all_states:\n",
    "#         # data point\n",
    "#         for feature_idx in range(19):\n",
    "#             X.at[data_pt_idx, all_msns[feature_idx]] = clean_df.at[clean_df_row_idx, \"Amount\"]\n",
    "#             clean_df_row_idx += 1\n",
    "#         data_pt_idx += 1\n",
    "# print(X)"
   ]
  },
  {
   "cell_type": "code",
   "execution_count": 87,
   "metadata": {},
   "outputs": [
    {
     "name": "stdout",
     "output_type": "stream",
     "text": [
      "      BDPRP     CLPRB      ENPRP     GETCB     HYTCB     NCPRB      NGMPB  \\\n",
      "0     21.84   17747.0      0.000     186.0   14621.0   16298.0   380887.0   \n",
      "5   1943.76  331420.0      0.000     141.0   91902.0   92144.0   182481.0   \n",
      "10  4449.90    1819.0      0.000     808.0   33261.0   34194.0  1031466.0   \n",
      "15    10.92  146450.0   3683.568     345.0   60906.0  113693.0       99.0   \n",
      "20  4078.62       0.0  14842.800  112878.0  128681.0  567365.0   271086.0   \n",
      "\n",
      "       NUETB      PAPRB     REPRB     SOTCB      TEPRB      TETCB  WDEXB  \\\n",
      "0        0.0  1007501.0   23807.0       3.0  1429942.0   614242.0    0.0   \n",
      "5   438728.0    55421.0  258955.0     101.0  1267004.0  1917138.0    0.0   \n",
      "10  144716.0    35611.0  117840.0     124.0  1331452.0  1062359.0    0.0   \n",
      "15  340153.0      212.0  128954.0   48229.0   615867.0  1495858.0    0.0   \n",
      "20  193529.0  1150741.0  737527.0  211839.0  2352883.0  7525491.0    0.0   \n",
      "\n",
      "       WDPRB     WDTCB    WSTCB     WWPRB     WYTCB  \n",
      "0     6865.0    6865.0    622.0    7488.0    1488.0  \n",
      "5   163313.0  163313.0   1565.0  164877.0       0.0  \n",
      "10   75417.0   75417.0   3799.0   79217.0       0.0  \n",
      "15    8001.0    8001.0    658.0    8659.0    4213.0  \n",
      "20   98852.0   98852.0  40708.0  139561.0  113967.0  \n"
     ]
    }
   ],
   "source": [
    "# Create feature input matrix\n",
    "\n",
    "X = pd.read_csv(\"flipped.csv\")\n",
    "# print(X)\n",
    "\n",
    "sorted_X = X.sort_values([\"Year\", \"State\"], ascending=[True, True])\n",
    "# print(sorted_X)\n",
    "\n",
    "## edit sorted_X\n",
    "\n",
    "sorted_X.loc[:, 'ENPRP'] *= 3.192\n",
    "sorted_X.loc[:, 'BDPRP'] *= 5.46\n",
    "\n",
    "## Remove state and year columns\n",
    "\n",
    "# print(sorted_X)\n",
    "\n",
    "sorted_X.drop(columns=['State', 'Year'], inplace=True)\n",
    "\n",
    "print(sorted_X.head())\n",
    "\n",
    "# print(sorted_X)\n",
    "# print(sorted_X.columns.size)"
   ]
  },
  {
   "cell_type": "code",
   "execution_count": 25,
   "metadata": {},
   "outputs": [
    {
     "name": "stdout",
     "output_type": "stream",
     "text": [
      "      Unnamed: 0    MSN StateCode  Year    Amount   State  \\\n",
      "0              4  CLPRB        AK  2015   17747.0  Alaska   \n",
      "1             10  GETCB        AK  2015     186.0  Alaska   \n",
      "2             11  HYTCB        AK  2015   14621.0  Alaska   \n",
      "3             12  NCPRB        AK  2015   16298.0  Alaska   \n",
      "4             13  NGMPB        AK  2015  380887.0  Alaska   \n",
      "...          ...    ...       ...   ...       ...     ...   \n",
      "4500           9  ENPRP        AK  2015       0.0  Alaska   \n",
      "4550        1528  ENPRP        AK  2016       0.0  Alaska   \n",
      "4600        3047  ENPRP        AK  2017       0.0  Alaska   \n",
      "4650        4566  ENPRP        AK  2018       0.0  Alaska   \n",
      "4700        6085  ENPRP        AK  2019       0.0  Alaska   \n",
      "\n",
      "      CO2 Emissions (Mmt)  TotalNumberofInvestments  TotalAmountofAssistance  \n",
      "0               35.027804                      16.0                3345612.0  \n",
      "1               35.027804                      16.0                3345612.0  \n",
      "2               35.027804                      16.0                3345612.0  \n",
      "3               35.027804                      16.0                3345612.0  \n",
      "4               35.027804                      16.0                3345612.0  \n",
      "...                   ...                       ...                      ...  \n",
      "4500            35.027804                      16.0                3345612.0  \n",
      "4550            33.405611                      14.0                2247734.0  \n",
      "4600            33.729130                      18.0               13509662.0  \n",
      "4650            34.514589                      44.0               18236626.0  \n",
      "4700            34.259440                      32.0               13734021.0  \n",
      "\n",
      "[95 rows x 9 columns]\n"
     ]
    }
   ],
   "source": [
    "print(alaska_df)"
   ]
  },
  {
   "cell_type": "code",
   "execution_count": null,
   "metadata": {},
   "outputs": [],
   "source": []
  },
  {
   "cell_type": "code",
   "execution_count": 26,
   "metadata": {},
   "outputs": [
    {
     "name": "stdout",
     "output_type": "stream",
     "text": [
      "MSN     BDFDB     BDPRP     BFFDB     BFPRP     CLPRB     CLPRK     CLPRP  \\\n",
      "0   -0.898188 -0.898173 -0.733353 -0.738738 -0.579055 -0.128243 -0.526746   \n",
      "1   -0.296652 -0.296501 -0.586968 -0.586262   1.51242   0.94301  1.407429   \n",
      "2    1.252345  1.251893 -0.210018 -0.193868 -0.732947  0.316033 -0.785824   \n",
      "3    -0.90489 -0.905108 -0.210173 -0.220233  0.540098   0.51974   0.70079   \n",
      "\n",
      "MSN     COPRK     EMFDB     ENPRP  ...     REPRB     SOTCB     TEPRB  \\\n",
      "0    0.350264 -0.580166 -0.579933  ... -0.677567 -0.542169  0.167092   \n",
      "1    0.811137 -0.580166 -0.579933  ... -0.224796 -0.539738 -0.289706   \n",
      "2    0.903312 -0.580166 -0.579933  ... -0.474328 -0.539675 -0.479445   \n",
      "3   -0.663658  0.011308   0.01037  ... -0.388164 -0.140189 -1.017501   \n",
      "\n",
      "MSN     TETCB     WDEXB     WDPRB     WDTCB     WSTCB     WWPRB     WYTCB  \n",
      "0   -0.667942 -0.447214 -0.979919 -0.964505 -0.510625 -1.012773 -0.448595  \n",
      "1   -0.224551 -0.447214  1.401078  1.419738 -0.454722  1.158346 -0.476136  \n",
      "2   -0.517672  1.788854  0.098514  0.031651 -0.298319  0.016315 -0.476136  \n",
      "3   -0.353493 -0.447214  -0.94248 -0.927015 -0.518181  -0.98071 -0.386795  \n",
      "\n",
      "[4 rows x 29 columns]\n",
      "MSN     BDFDB     BDPRP     BFFDB     BFPRP     CLPRB     CLPRK     CLPRP  \\\n",
      "4    0.847385  0.847889  1.740512  1.739102 -0.740516 -1.650539 -0.795648   \n",
      "\n",
      "MSN     COPRK     EMFDB     ENPRP  ...     REPRB    SOTCB    TEPRB     TETCB  \\\n",
      "4   -1.401056  1.729189  1.729429  ...  1.764855  1.76177  1.61956  1.763658   \n",
      "\n",
      "MSN     WDEXB     WDPRB     WDTCB     WSTCB     WWPRB     WYTCB  \n",
      "4   -0.447214  0.422806  0.440132  1.781848  0.818822  1.787663  \n",
      "\n",
      "[1 rows x 29 columns]\n"
     ]
    }
   ],
   "source": [
    "numRows = 5\n",
    "numCols = 29\n",
    "\n",
    "x_comb = pd.DataFrame(index=range(numRows), columns=range(numCols))\n",
    "x_comb.columns = alaska_df[\"MSN\"][0:numCols]\n",
    "\n",
    "# x = pd.DataFrame(index=range(numRows), columns=range(numCols))\n",
    "# x.columns = alaska_df[\"MSN\"][0:numCols]\n",
    "# x_test = pd.DataFrame(index=range(4, 5), columns=range(numCols))\n",
    "# x_test.columns = alaska_df[\"MSN\"][0:numCols]\n",
    "# print(x.columns)\n",
    "avgs = [[0] * numCols] * numRows\n",
    "for row_idx in range(int(alaska_df.shape[0])):\n",
    "    yr_idx = int(row_idx / numCols)\n",
    "    x_comb.at[yr_idx, x_comb.columns[row_idx % numCols]] = data.loc[1519 * yr_idx + row_idx][\"Amount\"]\n",
    "    # if row_idx < int(alaska_df.shape[0] * 4 / 5):\n",
    "    #     x.at[yr_idx, x.columns[row_idx % numCols]] = data.loc[1519 * yr_idx + row_idx][\"Amount\"]\n",
    "    # else:\n",
    "    #     x_test.at[yr_idx, x.columns[row_idx % numCols]] = data.loc[1519 * yr_idx + row_idx][\"Amount\"]\n",
    "\n",
    "norm_x_comb = (x_comb - x_comb.mean())/x_comb.std()\n",
    "\n",
    "norm_x = norm_x_comb.head(4)\n",
    "norm_x_test = norm_x_comb.tail(1)\n",
    "\n",
    "# print(x)\n",
    "# print(x_test)\n",
    "print(norm_x)\n",
    "print(norm_x_test)\n"
   ]
  },
  {
   "cell_type": "code",
   "execution_count": 91,
   "metadata": {},
   "outputs": [
    {
     "name": "stdout",
     "output_type": "stream",
     "text": [
      "     BDPRP     CLPRB    ENPRP     GETCB     HYTCB     NCPRB     NGMPB  \\\n",
      "0     0.00   15523.0     0.00     186.0   15475.0   16851.0  376283.0   \n",
      "1  1567.02  313282.0     0.00     141.0  117112.0  120692.0  124831.0   \n",
      "2  8479.38       0.0     0.00     808.0   39747.0   43767.0  489956.0   \n",
      "3     0.00       0.0     0.00     345.0   56354.0  142484.0      68.0   \n",
      "4  4892.16       0.0  8650.32  101857.0  187545.0  845282.0  192081.0   \n",
      "\n",
      "      NUETB     PAPRB      REPRB     SOTCB      TEPRB      TETCB   WDEXB  \\\n",
      "0       0.0  932482.0    24682.0      62.0  1348969.0   640132.0     0.0   \n",
      "1  454756.0   24528.0   288515.0    3439.0  1205912.0  1838656.0  5592.0   \n",
      "2  157288.0   23578.0   111538.0    3212.0   782360.0  1034661.0     0.0   \n",
      "3  329471.0      28.0   152046.0   80134.0   481613.0  1508154.0     0.0   \n",
      "4  169773.0  814462.0  1013850.0  436716.0  2190166.0  6922764.0     0.0   \n",
      "\n",
      "      WDPRB     WDTCB    WSTCB     WWPRB     WYTCB  \n",
      "0    7423.0    7423.0    407.0    7831.0    1128.0  \n",
      "1  164778.0  159187.0   1487.0  166266.0       0.0  \n",
      "2   55743.0   55743.0   3591.0   59334.0       0.0  \n",
      "3    9297.0    9297.0    265.0    9562.0    5651.0  \n",
      "4  108611.0  108611.0  39694.0  148305.0  119164.0  \n",
      "   Unnamed: 0  TotalAmountofAssistance\n",
      "0           0                9567164.0\n",
      "1           1                1174323.0\n",
      "2           2               61208016.0\n",
      "3           3               23756565.0\n",
      "4           4               58722209.0\n"
     ]
    }
   ],
   "source": [
    "### Get testing data\n",
    "y_test = pd.read_csv(\"assistance_test.csv\")\n",
    "x_test = pd.read_csv(\"2020flipped.csv\")\n",
    "\n",
    "sorted_X_test = x_test.sort_values([\"Year\", \"State\"], ascending=[True, True])\n",
    "# print(sorted_X)\n",
    "\n",
    "## edit sorted_X\n",
    "\n",
    "sorted_X_test.loc[:, 'ENPRP'] *= 3.192\n",
    "sorted_X_test.loc[:, 'BDPRP'] *= 5.46\n",
    "\n",
    "## Remove state and year columns\n",
    "\n",
    "# print(sorted_X)\n",
    "\n",
    "sorted_X_test.drop(columns=['State', 'Year'], inplace=True)\n",
    "\n",
    "print(sorted_X_test.head())\n",
    "print(y_test.head())"
   ]
  },
  {
   "cell_type": "code",
   "execution_count": 92,
   "metadata": {},
   "outputs": [
    {
     "name": "stdout",
     "output_type": "stream",
     "text": [
      "   TotalAmountofAssistance\n",
      "0                9567164.0\n",
      "1                1174323.0\n",
      "2               61208016.0\n",
      "3               23756565.0\n",
      "4               58722209.0\n"
     ]
    }
   ],
   "source": [
    "y_test.drop(columns=y_test.columns[0], axis=1, inplace=True)\n",
    "print(y_test.head())"
   ]
  },
  {
   "cell_type": "code",
   "execution_count": 88,
   "metadata": {},
   "outputs": [
    {
     "data": {
      "text/plain": [
       "LinearRegression()"
      ]
     },
     "execution_count": 88,
     "metadata": {},
     "output_type": "execute_result"
    }
   ],
   "source": [
    "reg = linear_model.LinearRegression()\n",
    "reg.fit(sorted_X, y)"
   ]
  },
  {
   "cell_type": "code",
   "execution_count": 116,
   "metadata": {},
   "outputs": [],
   "source": [
    "lasso_reg = Lasso(1)"
   ]
  },
  {
   "cell_type": "code",
   "execution_count": 121,
   "metadata": {},
   "outputs": [
    {
     "name": "stderr",
     "output_type": "stream",
     "text": [
      "/Applications/anaconda3/lib/python3.8/site-packages/sklearn/linear_model/_coordinate_descent.py:647: ConvergenceWarning: Objective did not converge. You might want to increase the number of iterations, check the scale of the features or consider increasing regularisation. Duality gap: 2.035e+17, tolerance: 5.035e+13\n",
      "  model = cd_fast.enet_coordinate_descent(\n"
     ]
    },
    {
     "data": {
      "text/plain": [
       "Lasso(alpha=0.01)"
      ]
     },
     "execution_count": 121,
     "metadata": {},
     "output_type": "execute_result"
    }
   ],
   "source": [
    "lasso_reg.fit(sorted_X, y)"
   ]
  },
  {
   "cell_type": "code",
   "execution_count": 123,
   "metadata": {},
   "outputs": [
    {
     "name": "stdout",
     "output_type": "stream",
     "text": [
      "0.19139389064027312\n"
     ]
    }
   ],
   "source": [
    "lasso_train_score = lasso_reg.score(sorted_X, y)\n",
    "print(lasso_train_score)"
   ]
  },
  {
   "cell_type": "code",
   "execution_count": 125,
   "metadata": {},
   "outputs": [
    {
     "name": "stdout",
     "output_type": "stream",
     "text": [
      "[ 6.28008128e+06  2.47595029e+07  7.23373507e+06  3.18883211e+07\n",
      "  8.47406309e+07  1.83937423e+07  5.59908506e+06  1.12340885e+07\n",
      "  4.79993282e+07  8.55564880e+07  1.06501197e+07 -2.93103112e+05\n",
      "  1.17165918e+07  1.61651065e+07  1.05468586e+07  1.31821433e+07\n",
      "  1.52345455e+07  5.38795814e+07  1.02470337e+07  1.39255211e+07\n",
      "  6.58171522e+05  2.23895053e+06  8.43113285e+06  1.29195691e+07\n",
      "  4.75280385e+07  1.16675572e+07  1.26677558e+08 -7.20760757e+06\n",
      "  1.11012465e+07  5.39321882e+06  1.75425739e+07  2.47327431e+06\n",
      "  2.34118902e+07  1.34614269e+07  2.15969647e+07  1.36226926e+07\n",
      "  1.38101632e+07  7.31705611e+06  9.02692406e+06  4.28068148e+07\n",
      "  1.13647999e+07  2.32906077e+07  7.08482367e+07  1.76983260e+07\n",
      "  4.17664542e+07  8.01834358e+06  2.18263733e+07  3.85506934e+06\n",
      "  1.64453247e+07  5.13642480e+06]\n"
     ]
    }
   ],
   "source": [
    "y_pred_lasso = lasso_reg.predict(sorted_X_test)\n",
    "print(y_pred_lasso)"
   ]
  },
  {
   "cell_type": "code",
   "execution_count": 126,
   "metadata": {},
   "outputs": [
    {
     "name": "stdout",
     "output_type": "stream",
     "text": [
      "[-1.66133236e+02 -3.04511176e+00 -7.72338259e+01 -6.57342935e+01\n",
      " -2.64748518e+01  2.70051834e+01  6.43309891e-01 -8.95794657e+00\n",
      " -9.86714816e+00  2.59475621e+01  1.06246194e+02  1.20170588e+00\n",
      "  7.92001511e+00  4.40448117e+03 -2.29125512e+02 -1.27158719e+01\n",
      " -8.90743259e+02  7.91958270e+01 -4.44933930e+01]\n",
      "[9502865.62703156]\n"
     ]
    }
   ],
   "source": [
    "print(lasso_reg.coef_)\n",
    "print(lasso_reg.intercept_)"
   ]
  },
  {
   "cell_type": "code",
   "execution_count": 61,
   "metadata": {},
   "outputs": [
    {
     "name": "stdout",
     "output_type": "stream",
     "text": [
      "[9304626.40874828]\n",
      "[[  446070.88214614   445485.53466719   707433.75430459   706586.72209353\n",
      "   -517087.19220269    51579.55147729  -310055.3419393  -1293046.64744555\n",
      "    674952.8973394    673617.50995882    11148.79212505   149153.12733561\n",
      "    258908.56090911  -453317.75058139 -1943887.78525199  -341171.8581966\n",
      "    518574.50640231 -1552057.15946725 -1549762.78107775    46353.68936528\n",
      "    457809.92894808 -1260433.68622962    59272.21460338   987989.40591331\n",
      "  -1445936.0672543  -1484910.13242291    39043.89360253 -1300650.42063566\n",
      "     81084.47730676]]\n"
     ]
    }
   ],
   "source": [
    "print(reg.intercept_)\n",
    "print(reg.coef_)"
   ]
  },
  {
   "cell_type": "code",
   "execution_count": 230,
   "metadata": {},
   "outputs": [
    {
     "name": "stdout",
     "output_type": "stream",
     "text": [
      "[[-4.33020400e+06]\n",
      " [-1.03330080e+07]\n",
      " [ 7.11658245e+06]\n",
      " [ 3.00297071e+07]\n",
      " [ 8.59435946e+07]\n",
      " [ 8.95327864e+06]\n",
      " [ 5.04678280e+06]\n",
      " [ 1.07212881e+07]\n",
      " [ 4.81565702e+07]\n",
      " [ 8.41399954e+07]\n",
      " [ 1.82572662e+07]\n",
      " [ 2.41338449e+06]\n",
      " [ 1.11145715e+07]\n",
      " [ 1.62739063e+07]\n",
      " [ 1.12047407e+07]\n",
      " [ 2.22663062e+07]\n",
      " [ 1.62693483e+07]\n",
      " [ 5.08291914e+07]\n",
      " [ 1.78629382e+07]\n",
      " [ 1.30685582e+07]\n",
      " [ 8.67152049e+05]\n",
      " [ 5.13639080e+06]\n",
      " [ 9.58736445e+06]\n",
      " [ 1.32103001e+07]\n",
      " [ 1.13221420e+07]\n",
      " [ 5.98480166e+05]\n",
      " [ 1.22641695e+08]\n",
      " [-5.48347900e+06]\n",
      " [ 1.04617190e+07]\n",
      " [-1.93029445e+06]\n",
      " [ 1.49353918e+07]\n",
      " [ 1.60706807e+06]\n",
      " [ 2.58293400e+07]\n",
      " [ 1.22444801e+07]\n",
      " [ 1.98138317e+07]\n",
      " [ 1.48457573e+07]\n",
      " [ 1.26961874e+07]\n",
      " [-2.55032455e+06]\n",
      " [ 8.23504794e+06]\n",
      " [ 7.05127792e+06]\n",
      " [ 1.14040192e+07]\n",
      " [ 2.24490801e+07]\n",
      " [ 6.00356406e+07]\n",
      " [ 6.77896391e+06]\n",
      " [ 7.57952052e+07]\n",
      " [ 7.37442691e+06]\n",
      " [ 1.90488309e+07]\n",
      " [ 4.55344024e+06]\n",
      " [ 1.45327220e+07]\n",
      " [ 3.42095905e+06]]\n",
      "    TotalAmountofAssistance\n",
      "0                 9567164.0\n",
      "1                 1174323.0\n",
      "2                61208016.0\n",
      "3                23756565.0\n",
      "4                58722209.0\n",
      "5                 6304206.0\n",
      "6                  491729.0\n",
      "7                23750266.0\n",
      "8                 8467648.0\n",
      "9                 7307409.0\n",
      "10                1153848.0\n",
      "11               63476066.0\n",
      "12                 733911.0\n",
      "13                3526853.0\n",
      "14                8555854.0\n",
      "15                2802130.0\n",
      "16               11046095.0\n",
      "17                5171076.0\n",
      "18               21021782.0\n",
      "19                1459180.0\n",
      "20                1718854.0\n",
      "21                3543100.0\n",
      "22               29357835.0\n",
      "23                4677028.0\n",
      "24                2102663.0\n",
      "25                 542585.0\n",
      "26              176369306.0\n",
      "27                 686913.0\n",
      "28                9134015.0\n",
      "29                 996776.0\n",
      "30                 428543.0\n",
      "31               48503359.0\n",
      "32                  53672.0\n",
      "33               39346669.0\n",
      "34                3038155.0\n",
      "35                 560909.0\n",
      "36               25808865.0\n",
      "37                2136747.0\n",
      "38                 635939.0\n",
      "39              145497267.0\n",
      "40                6976448.0\n",
      "41                1536871.0\n",
      "42               39546994.0\n",
      "43                 736194.0\n",
      "44                2039514.0\n",
      "45                2405926.0\n",
      "46                2509973.0\n",
      "47                9860324.0\n",
      "48                1052654.0\n",
      "49                 229763.0\n"
     ]
    }
   ],
   "source": [
    "y_pred = reg.predict(sorted_X_test)\n",
    "print(y_pred)\n",
    "print(y_test)"
   ]
  },
  {
   "cell_type": "code",
   "execution_count": 129,
   "metadata": {},
   "outputs": [
    {
     "name": "stdout",
     "output_type": "stream",
     "text": [
      "[8848932.95507227]\n",
      "[[ 5.64273389e+02 -1.57101119e+06  1.20344927e+03 -1.41370796e+05\n",
      "  -1.41406391e+05  1.42115466e+05 -1.57100750e+06 -1.57101612e+06\n",
      "  -1.57101750e+06 -1.57169610e+06 -1.41281992e+05  1.57100905e+06\n",
      "   7.82328927e+00 -2.65199001e+07  3.49553490e+07 -2.65241724e+07\n",
      "   8.43052956e+06 -8.43061306e+06 -1.41415516e+05]]\n",
      "0.21969392167899515\n",
      "Index(['BDPRP', 'CLPRB', 'ENPRP', 'GETCB', 'HYTCB', 'NCPRB', 'NGMPB', 'NUETB',\n",
      "       'PAPRB', 'REPRB', 'SOTCB', 'TEPRB', 'TETCB', 'WDEXB', 'WDPRB', 'WDTCB',\n",
      "       'WSTCB', 'WWPRB', 'WYTCB'],\n",
      "      dtype='object')\n"
     ]
    }
   ],
   "source": [
    "print(reg.intercept_)\n",
    "print(reg.coef_)\n",
    "print(reg.score(sorted_X, y))\n",
    "print(sorted_X.columns)"
   ]
  },
  {
   "cell_type": "code",
   "execution_count": 98,
   "metadata": {},
   "outputs": [
    {
     "name": "stdout",
     "output_type": "stream",
     "text": [
      "1054264821397483.4\n",
      "32469444.426991407\n"
     ]
    }
   ],
   "source": [
    "mse = metrics.mean_squared_error(y_pred, y_test)\n",
    "print(mse)\n",
    "print(math.sqrt(mse))"
   ]
  },
  {
   "cell_type": "code",
   "execution_count": 127,
   "metadata": {},
   "outputs": [
    {
     "name": "stdout",
     "output_type": "stream",
     "text": [
      "873354863201628.4\n",
      "29552577.94510706\n"
     ]
    }
   ],
   "source": [
    "mse_lasso = metrics.mean_squared_error(y_pred_lasso, y_test)\n",
    "print(mse_lasso)\n",
    "print(math.sqrt(mse_lasso))"
   ]
  },
  {
   "cell_type": "code",
   "execution_count": 102,
   "metadata": {},
   "outputs": [
    {
     "name": "stderr",
     "output_type": "stream",
     "text": [
      "/Applications/anaconda3/lib/python3.8/site-packages/sklearn/ensemble/_gb.py:494: DataConversionWarning: A column-vector y was passed when a 1d array was expected. Please change the shape of y to (n_samples, ), for example using ravel().\n",
      "  y = column_or_1d(y, warn=True)\n"
     ]
    },
    {
     "data": {
      "text/plain": [
       "GradientBoostingRegressor(criterion='squared_error', learning_rate=1,\n",
       "                          n_estimators=3)"
      ]
     },
     "execution_count": 102,
     "metadata": {},
     "output_type": "execute_result"
    }
   ],
   "source": [
    "### Gradient Boosting\n",
    "params = {\"n_estimators\": 3, \"max_depth\": 3, \"learning_rate\": 1, \"criterion\": \"squared_error\"}\n",
    "gradient_boosting_regressor_model = ensemble.GradientBoostingRegressor(**params)\n",
    "gradient_boosting_regressor_model.fit(sorted_X, y)"
   ]
  },
  {
   "cell_type": "code",
   "execution_count": 103,
   "metadata": {},
   "outputs": [
    {
     "name": "stdout",
     "output_type": "stream",
     "text": [
      "0.8594088494586949\n"
     ]
    }
   ],
   "source": [
    "print(gradient_boosting_regressor_model.score(sorted_X, y))"
   ]
  },
  {
   "cell_type": "code",
   "execution_count": 109,
   "metadata": {},
   "outputs": [
    {
     "name": "stdout",
     "output_type": "stream",
     "text": [
      "[2.79923611e+06 1.08376685e+06 2.32641093e+07 4.25624095e+07\n",
      " 4.56641589e+07 2.79923611e+06 2.79923611e+06 2.79923611e+06\n",
      " 4.25624095e+07 2.20424347e+08 2.79923611e+06 2.79923611e+06\n",
      " 2.79923611e+06 2.79923611e+06 2.79923611e+06 2.79923611e+06\n",
      " 2.32641093e+07 2.32641093e+07 2.79923611e+06 2.79923611e+06\n",
      " 2.79923611e+06 2.79923611e+06 2.79923611e+06 2.79923611e+06\n",
      " 2.32641093e+07 2.79923611e+06 1.26884709e+08 2.79923611e+06\n",
      " 2.79923611e+06 2.79923611e+06 2.42604689e+08 2.79923611e+06\n",
      " 2.42771305e+07 2.79923611e+06 2.79923611e+06 2.79923611e+06\n",
      " 1.18795524e+08 2.79923611e+06 2.79923611e+06 2.32641093e+07\n",
      " 2.79923611e+06 2.79923611e+06 4.56641589e+07 2.79923611e+06\n",
      " 2.32641093e+07 2.79923611e+06 5.90098551e+06 2.79923611e+06\n",
      " 5.91571667e+05 5.91571667e+05]\n",
      "    TotalAmountofAssistance\n",
      "0                 9567164.0\n",
      "1                 1174323.0\n",
      "2                61208016.0\n",
      "3                23756565.0\n",
      "4                58722209.0\n",
      "5                 6304206.0\n",
      "6                  491729.0\n",
      "7                23750266.0\n",
      "8                 8467648.0\n",
      "9                 7307409.0\n",
      "10                1153848.0\n",
      "11               63476066.0\n",
      "12                 733911.0\n",
      "13                3526853.0\n",
      "14                8555854.0\n",
      "15                2802130.0\n",
      "16               11046095.0\n",
      "17                5171076.0\n",
      "18               21021782.0\n",
      "19                1459180.0\n",
      "20                1718854.0\n",
      "21                3543100.0\n",
      "22               29357835.0\n",
      "23                4677028.0\n",
      "24                2102663.0\n",
      "25                 542585.0\n",
      "26              176369306.0\n",
      "27                 686913.0\n",
      "28                9134015.0\n",
      "29                 996776.0\n",
      "30                 428543.0\n",
      "31               48503359.0\n",
      "32                  53672.0\n",
      "33               39346669.0\n",
      "34                3038155.0\n",
      "35                 560909.0\n",
      "36               25808865.0\n",
      "37                2136747.0\n",
      "38                 635939.0\n",
      "39              145497267.0\n",
      "40                6976448.0\n",
      "41                1536871.0\n",
      "42               39546994.0\n",
      "43                 736194.0\n",
      "44                2039514.0\n",
      "45                2405926.0\n",
      "46                2509973.0\n",
      "47                9860324.0\n",
      "48                1052654.0\n",
      "49                 229763.0\n"
     ]
    }
   ],
   "source": [
    "y_pred_gradient = gradient_boosting_regressor_model.predict(sorted_X_test)\n",
    "print(y_pred_gradient)\n",
    "print(y_test)"
   ]
  },
  {
   "cell_type": "code",
   "execution_count": 110,
   "metadata": {},
   "outputs": [
    {
     "name": "stdout",
     "output_type": "stream",
     "text": [
      "2881435954827484.5\n",
      "53679008.51196382\n"
     ]
    }
   ],
   "source": [
    "mse = metrics.mean_squared_error(y_pred_gradient, y_test)\n",
    "\n",
    "print(mse)\n",
    "\n",
    "print(math.sqrt(mse))\n"
   ]
  },
  {
   "cell_type": "code",
   "execution_count": 130,
   "metadata": {},
   "outputs": [
    {
     "data": {
      "text/plain": [
       "LinearRegression()"
      ]
     },
     "execution_count": 130,
     "metadata": {},
     "output_type": "execute_result"
    }
   ],
   "source": [
    "### Drop wood energy production\n",
    "sorted_X_drop = sorted_X.drop(columns=['WDPRB'])\n",
    "sorted_X_test_drop = sorted_X_test.drop(columns=['WDPRB'])\n",
    "\n",
    "### Lin Reg Model Again\n",
    "reg_drop = linear_model.LinearRegression()\n",
    "reg_drop.fit(sorted_X_drop, y)"
   ]
  },
  {
   "cell_type": "code",
   "execution_count": 135,
   "metadata": {},
   "outputs": [
    {
     "name": "stdout",
     "output_type": "stream",
     "text": [
      "[[-6.14656790e+02 -3.08993677e+06 -9.27032125e+02 -4.56783020e+05\n",
      "  -4.56778040e+05  4.56299264e+05 -3.08993290e+06 -3.08993842e+06\n",
      "  -3.08994309e+06 -3.08943032e+06 -4.56643965e+05  3.08993448e+06\n",
      "   8.10309352e+00  6.42519838e+06  6.42067588e+06  6.41995886e+06\n",
      "  -6.42131680e+06 -4.56793442e+05]]\n",
      "[9209276.52562891]\n",
      "0.19742345894701063\n"
     ]
    }
   ],
   "source": [
    "print(reg_drop.coef_)\n",
    "print(reg_drop.intercept_)\n",
    "print(reg_drop.score(sorted_X_drop, y))"
   ]
  },
  {
   "cell_type": "code",
   "execution_count": 176,
   "metadata": {},
   "outputs": [
    {
     "name": "stdout",
     "output_type": "stream",
     "text": [
      "[[-3.52277429e+06]\n",
      " [ 2.64205289e+07]\n",
      " [ 7.43907022e+06]\n",
      " [ 3.29068962e+07]\n",
      " [ 8.60485784e+07]\n",
      " [ 1.11927834e+07]\n",
      " [ 4.98488535e+06]\n",
      " [ 1.14027345e+07]\n",
      " [ 4.95510178e+07]\n",
      " [ 8.82860963e+07]\n",
      " [ 1.65185702e+07]\n",
      " [-2.57567493e+06]\n",
      " [ 1.12613894e+07]\n",
      " [ 1.70204690e+07]\n",
      " [ 9.31373790e+06]\n",
      " [ 1.99474129e+07]\n",
      " [ 1.79615242e+07]\n",
      " [ 5.08337492e+07]\n",
      " [ 1.54244252e+07]\n",
      " [ 1.34503614e+07]\n",
      " [ 9.89819922e+04]\n",
      " [ 5.88091541e+06]\n",
      " [ 8.62328981e+06]\n",
      " [ 1.36890377e+07]\n",
      " [ 4.85495085e+07]\n",
      " [ 1.47921416e+06]\n",
      " [ 1.30140542e+08]\n",
      " [-4.87784994e+06]\n",
      " [ 7.91342378e+06]\n",
      " [ 1.46280694e+06]\n",
      " [ 1.42061327e+07]\n",
      " [ 1.74740784e+06]\n",
      " [ 2.73033438e+07]\n",
      " [ 1.25621721e+07]\n",
      " [ 1.82066303e+07]\n",
      " [ 1.56375533e+07]\n",
      " [ 1.27179846e+07]\n",
      " [-3.95629001e+05]\n",
      " [ 8.11603097e+06]\n",
      " [ 4.54173081e+07]\n",
      " [ 1.05607295e+07]\n",
      " [ 2.40409983e+07]\n",
      " [ 6.26259368e+07]\n",
      " [ 7.86722069e+06]\n",
      " [ 4.25481778e+07]\n",
      " [ 7.19222069e+06]\n",
      " [ 2.03479351e+07]\n",
      " [ 3.61204776e+06]\n",
      " [ 1.51284126e+07]\n",
      " [ 3.81306932e+06]]\n",
      "    TotalAmountofAssistance\n",
      "0                 9567164.0\n",
      "1                 1174323.0\n",
      "2                61208016.0\n",
      "3                23756565.0\n",
      "4                58722209.0\n",
      "5                 6304206.0\n",
      "6                  491729.0\n",
      "7                23750266.0\n",
      "8                 8467648.0\n",
      "9                 7307409.0\n",
      "10                1153848.0\n",
      "11               63476066.0\n",
      "12                 733911.0\n",
      "13                3526853.0\n",
      "14                8555854.0\n",
      "15                2802130.0\n",
      "16               11046095.0\n",
      "17                5171076.0\n",
      "18               21021782.0\n",
      "19                1459180.0\n",
      "20                1718854.0\n",
      "21                3543100.0\n",
      "22               29357835.0\n",
      "23                4677028.0\n",
      "24                2102663.0\n",
      "25                 542585.0\n",
      "26              176369306.0\n",
      "27                 686913.0\n",
      "28                9134015.0\n",
      "29                 996776.0\n",
      "30                 428543.0\n",
      "31               48503359.0\n",
      "32                  53672.0\n",
      "33               39346669.0\n",
      "34                3038155.0\n",
      "35                 560909.0\n",
      "36               25808865.0\n",
      "37                2136747.0\n",
      "38                 635939.0\n",
      "39              145497267.0\n",
      "40                6976448.0\n",
      "41                1536871.0\n",
      "42               39546994.0\n",
      "43                 736194.0\n",
      "44                2039514.0\n",
      "45                2405926.0\n",
      "46                2509973.0\n",
      "47                9860324.0\n",
      "48                1052654.0\n",
      "49                 229763.0\n",
      "    PredictedAssistance\n",
      "0         -3.522774e+06\n",
      "1          2.642053e+07\n",
      "2          7.439070e+06\n",
      "3          3.290690e+07\n",
      "4          8.604858e+07\n",
      "5          1.119278e+07\n",
      "6          4.984885e+06\n",
      "7          1.140273e+07\n",
      "8          4.955102e+07\n",
      "9          8.828610e+07\n",
      "10         1.651857e+07\n",
      "11        -2.575675e+06\n",
      "12         1.126139e+07\n",
      "13         1.702047e+07\n",
      "14         9.313738e+06\n",
      "15         1.994741e+07\n",
      "16         1.796152e+07\n",
      "17         5.083375e+07\n",
      "18         1.542443e+07\n",
      "19         1.345036e+07\n",
      "20         9.898199e+04\n",
      "21         5.880915e+06\n",
      "22         8.623290e+06\n",
      "23         1.368904e+07\n",
      "24         4.854951e+07\n",
      "25         1.479214e+06\n",
      "26         1.301405e+08\n",
      "27        -4.877850e+06\n",
      "28         7.913424e+06\n",
      "29         1.462807e+06\n",
      "30         1.420613e+07\n",
      "31         1.747408e+06\n",
      "32         2.730334e+07\n",
      "33         1.256217e+07\n",
      "34         1.820663e+07\n",
      "35         1.563755e+07\n",
      "36         1.271798e+07\n",
      "37        -3.956290e+05\n",
      "38         8.116031e+06\n",
      "39         4.541731e+07\n",
      "40         1.056073e+07\n",
      "41         2.404100e+07\n",
      "42         6.262594e+07\n",
      "43         7.867221e+06\n",
      "44         4.254818e+07\n",
      "45         7.192221e+06\n",
      "46         2.034794e+07\n",
      "47         3.612048e+06\n",
      "48         1.512841e+07\n",
      "49         3.813069e+06\n"
     ]
    }
   ],
   "source": [
    "y_pred_drop = reg_drop.predict(sorted_X_test_drop)\n",
    "print(y_pred_drop)\n",
    "print(y_test)\n",
    "\n",
    "y_pred_df = pd.DataFrame(y_pred_drop, columns=['PredictedAssistance'])\n",
    "# print(y_pred_df)\n",
    "# print(all_states)\n",
    "# y_pred_df = y_pred_df.reindex(all_states)\n",
    "# print(y_pred_df)\n",
    "y_pred_df.to_csv(\"LinearRegPredictions.csv\")"
   ]
  },
  {
   "cell_type": "code",
   "execution_count": 134,
   "metadata": {},
   "outputs": [
    {
     "name": "stdout",
     "output_type": "stream",
     "text": [
      "29391026.10287109\n"
     ]
    }
   ],
   "source": [
    "mse = metrics.mean_squared_error(y_pred_drop, y_test)\n",
    "print(math.sqrt(mse))"
   ]
  },
  {
   "cell_type": "code",
   "execution_count": 136,
   "metadata": {},
   "outputs": [],
   "source": [
    "### Polynomial Regression Model\n",
    "poly = PolynomialFeatures(degree=2, include_bias=False)"
   ]
  },
  {
   "cell_type": "code",
   "execution_count": 144,
   "metadata": {},
   "outputs": [],
   "source": [
    "poly_features = poly.fit_transform(sorted_X_drop)"
   ]
  },
  {
   "cell_type": "code",
   "execution_count": 141,
   "metadata": {},
   "outputs": [],
   "source": [
    "poly_reg_model = linear_model.LinearRegression()"
   ]
  },
  {
   "cell_type": "code",
   "execution_count": 145,
   "metadata": {},
   "outputs": [
    {
     "data": {
      "text/plain": [
       "LinearRegression()"
      ]
     },
     "execution_count": 145,
     "metadata": {},
     "output_type": "execute_result"
    }
   ],
   "source": [
    "poly_reg_model.fit(poly_features, y)"
   ]
  },
  {
   "cell_type": "code",
   "execution_count": 146,
   "metadata": {},
   "outputs": [
    {
     "name": "stdout",
     "output_type": "stream",
     "text": [
      "0.9452227862433634\n"
     ]
    }
   ],
   "source": [
    "print(poly_reg_model.score(poly_features, y))"
   ]
  },
  {
   "cell_type": "code",
   "execution_count": 148,
   "metadata": {},
   "outputs": [
    {
     "name": "stdout",
     "output_type": "stream",
     "text": [
      "[[ 1.83723727e+07]\n",
      " [-1.23020523e+08]\n",
      " [-9.30730734e+06]\n",
      " [ 1.30845973e+08]\n",
      " [ 3.60144565e+09]\n",
      " [-8.13498673e+07]\n",
      " [-1.08668593e+07]\n",
      " [ 1.13245035e+07]\n",
      " [-1.57853931e+08]\n",
      " [ 2.93541653e+08]\n",
      " [ 2.14523167e+07]\n",
      " [-1.45799908e+09]\n",
      " [ 1.28020656e+05]\n",
      " [-2.86731499e+08]\n",
      " [-3.00227819e+08]\n",
      " [-2.08087275e+08]\n",
      " [-7.80269873e+07]\n",
      " [ 9.09770447e+07]\n",
      " [-1.15009134e+06]\n",
      " [-1.36783153e+07]\n",
      " [-2.11351534e+06]\n",
      " [ 4.90647247e+07]\n",
      " [-3.43718123e+08]\n",
      " [ 2.47083727e+07]\n",
      " [-1.16080939e+08]\n",
      " [ 1.19631567e+07]\n",
      " [-3.53863915e+08]\n",
      " [ 1.54153749e+08]\n",
      " [-7.29894193e+07]\n",
      " [-2.46307633e+07]\n",
      " [ 2.46785487e+07]\n",
      " [-1.11496427e+08]\n",
      " [ 7.65927637e+08]\n",
      " [-2.22379243e+08]\n",
      " [-1.33516523e+08]\n",
      " [-1.40905707e+08]\n",
      " [-1.36549611e+08]\n",
      " [ 9.14223893e+08]\n",
      " [ 1.08514682e+07]\n",
      " [ 9.92161487e+07]\n",
      " [-1.61359339e+08]\n",
      " [-5.03019344e+05]\n",
      " [-2.14518367e+10]\n",
      " [-5.44330033e+07]\n",
      " [-1.86564913e+07]\n",
      " [ 1.01907167e+07]\n",
      " [-2.92113643e+08]\n",
      " [-3.92194353e+07]\n",
      " [-8.61176113e+07]\n",
      " [-7.24861233e+07]]\n"
     ]
    }
   ],
   "source": [
    "poly_test_features = poly.fit_transform(sorted_X_test_drop)\n",
    "poly_reg_y_pred = poly_reg_model.predict(poly_test_features)"
   ]
  },
  {
   "cell_type": "code",
   "execution_count": 150,
   "metadata": {},
   "outputs": [
    {
     "name": "stdout",
     "output_type": "stream",
     "text": [
      "[[ 1.83723727e+07]\n",
      " [-1.23020523e+08]\n",
      " [-9.30730734e+06]\n",
      " [ 1.30845973e+08]\n",
      " [ 3.60144565e+09]\n",
      " [-8.13498673e+07]\n",
      " [-1.08668593e+07]\n",
      " [ 1.13245035e+07]\n",
      " [-1.57853931e+08]\n",
      " [ 2.93541653e+08]\n",
      " [ 2.14523167e+07]\n",
      " [-1.45799908e+09]\n",
      " [ 1.28020656e+05]\n",
      " [-2.86731499e+08]\n",
      " [-3.00227819e+08]\n",
      " [-2.08087275e+08]\n",
      " [-7.80269873e+07]\n",
      " [ 9.09770447e+07]\n",
      " [-1.15009134e+06]\n",
      " [-1.36783153e+07]\n",
      " [-2.11351534e+06]\n",
      " [ 4.90647247e+07]\n",
      " [-3.43718123e+08]\n",
      " [ 2.47083727e+07]\n",
      " [-1.16080939e+08]\n",
      " [ 1.19631567e+07]\n",
      " [-3.53863915e+08]\n",
      " [ 1.54153749e+08]\n",
      " [-7.29894193e+07]\n",
      " [-2.46307633e+07]\n",
      " [ 2.46785487e+07]\n",
      " [-1.11496427e+08]\n",
      " [ 7.65927637e+08]\n",
      " [-2.22379243e+08]\n",
      " [-1.33516523e+08]\n",
      " [-1.40905707e+08]\n",
      " [-1.36549611e+08]\n",
      " [ 9.14223893e+08]\n",
      " [ 1.08514682e+07]\n",
      " [ 9.92161487e+07]\n",
      " [-1.61359339e+08]\n",
      " [-5.03019344e+05]\n",
      " [-2.14518367e+10]\n",
      " [-5.44330033e+07]\n",
      " [-1.86564913e+07]\n",
      " [ 1.01907167e+07]\n",
      " [-2.92113643e+08]\n",
      " [-3.92194353e+07]\n",
      " [-8.61176113e+07]\n",
      " [-7.24861233e+07]]\n",
      "    TotalAmountofAssistance\n",
      "0                 9567164.0\n",
      "1                 1174323.0\n",
      "2                61208016.0\n",
      "3                23756565.0\n",
      "4                58722209.0\n",
      "5                 6304206.0\n",
      "6                  491729.0\n",
      "7                23750266.0\n",
      "8                 8467648.0\n",
      "9                 7307409.0\n",
      "10                1153848.0\n",
      "11               63476066.0\n",
      "12                 733911.0\n",
      "13                3526853.0\n",
      "14                8555854.0\n",
      "15                2802130.0\n",
      "16               11046095.0\n",
      "17                5171076.0\n",
      "18               21021782.0\n",
      "19                1459180.0\n",
      "20                1718854.0\n",
      "21                3543100.0\n",
      "22               29357835.0\n",
      "23                4677028.0\n",
      "24                2102663.0\n",
      "25                 542585.0\n",
      "26              176369306.0\n",
      "27                 686913.0\n",
      "28                9134015.0\n",
      "29                 996776.0\n",
      "30                 428543.0\n",
      "31               48503359.0\n",
      "32                  53672.0\n",
      "33               39346669.0\n",
      "34                3038155.0\n",
      "35                 560909.0\n",
      "36               25808865.0\n",
      "37                2136747.0\n",
      "38                 635939.0\n",
      "39              145497267.0\n",
      "40                6976448.0\n",
      "41                1536871.0\n",
      "42               39546994.0\n",
      "43                 736194.0\n",
      "44                2039514.0\n",
      "45                2405926.0\n",
      "46                2509973.0\n",
      "47                9860324.0\n",
      "48                1052654.0\n",
      "49                 229763.0\n"
     ]
    }
   ],
   "source": [
    "print(poly_reg_y_pred)\n",
    "print(y_test)"
   ]
  },
  {
   "cell_type": "code",
   "execution_count": 151,
   "metadata": {},
   "outputs": [
    {
     "name": "stdout",
     "output_type": "stream",
     "text": [
      "3096183506.0380974\n"
     ]
    }
   ],
   "source": [
    "poly_reg_rmse = np.sqrt(metrics.mean_squared_error(y_test, poly_reg_y_pred))\n",
    "print(poly_reg_rmse)"
   ]
  },
  {
   "cell_type": "code",
   "execution_count": 160,
   "metadata": {},
   "outputs": [],
   "source": [
    "### Interaction only\n",
    "interaction_poly = PolynomialFeatures(interaction_only=True, include_bias=False)\n",
    "interaction_features = interaction_poly.fit_transform(sorted_X_drop)"
   ]
  },
  {
   "cell_type": "code",
   "execution_count": 161,
   "metadata": {},
   "outputs": [
    {
     "data": {
      "text/plain": [
       "LinearRegression()"
      ]
     },
     "execution_count": 161,
     "metadata": {},
     "output_type": "execute_result"
    }
   ],
   "source": [
    "interaction_reg = linear_model.LinearRegression()\n",
    "interaction_reg.fit(interaction_features, y)"
   ]
  },
  {
   "cell_type": "code",
   "execution_count": 163,
   "metadata": {},
   "outputs": [
    {
     "name": "stdout",
     "output_type": "stream",
     "text": [
      "0.8508430340641762\n"
     ]
    }
   ],
   "source": [
    "print(interaction_reg.score(interaction_features, y))"
   ]
  },
  {
   "cell_type": "code",
   "execution_count": 164,
   "metadata": {},
   "outputs": [],
   "source": [
    "interaction_test_features = interaction_poly.fit_transform(sorted_X_test_drop)\n",
    "interaction_reg_y_pred = interaction_reg.predict(interaction_test_features)"
   ]
  },
  {
   "cell_type": "code",
   "execution_count": 165,
   "metadata": {},
   "outputs": [
    {
     "name": "stdout",
     "output_type": "stream",
     "text": [
      "[[-7.25356334e+06]\n",
      " [-1.25671915e+08]\n",
      " [ 5.93714127e+07]\n",
      " [ 2.18958101e+08]\n",
      " [-6.20413054e+09]\n",
      " [ 5.25770447e+07]\n",
      " [ 1.56742447e+07]\n",
      " [ 1.30399795e+07]\n",
      " [-1.16735793e+07]\n",
      " [ 4.50884885e+08]\n",
      " [-2.17109173e+07]\n",
      " [ 3.35974165e+08]\n",
      " [ 1.98396687e+07]\n",
      " [-3.78414571e+08]\n",
      " [-3.88950251e+08]\n",
      " [-1.30542315e+08]\n",
      " [-6.24839473e+07]\n",
      " [ 1.34158357e+08]\n",
      " [-1.37359793e+07]\n",
      " [-2.16887633e+07]\n",
      " [ 4.12212656e+05]\n",
      " [-2.93096753e+07]\n",
      " [-7.15114033e+07]\n",
      " [ 1.95241967e+07]\n",
      " [-3.46202993e+07]\n",
      " [ 1.69474066e+06]\n",
      " [-2.88836331e+08]\n",
      " [ 7.07141327e+07]\n",
      " [ 2.27331605e+08]\n",
      " [-4.03508593e+07]\n",
      " [ 3.16222607e+07]\n",
      " [-4.98623793e+07]\n",
      " [ 5.55090127e+07]\n",
      " [-3.48484913e+07]\n",
      " [-5.36437553e+07]\n",
      " [-1.40424427e+08]\n",
      " [ 2.40811727e+07]\n",
      " [-1.07269355e+08]\n",
      " [ 5.71488916e+06]\n",
      " [ 4.58533327e+07]\n",
      " [ 7.28615247e+07]\n",
      " [-9.94664113e+07]\n",
      " [-1.03212987e+10]\n",
      " [-2.01121134e+06]\n",
      " [ 5.31227666e+06]\n",
      " [ 1.08391967e+07]\n",
      " [-2.26574571e+08]\n",
      " [ 3.67259666e+06]\n",
      " [ 1.48849941e+08]\n",
      " [ 6.86743247e+07]]\n",
      "    TotalAmountofAssistance\n",
      "0                 9567164.0\n",
      "1                 1174323.0\n",
      "2                61208016.0\n",
      "3                23756565.0\n",
      "4                58722209.0\n",
      "5                 6304206.0\n",
      "6                  491729.0\n",
      "7                23750266.0\n",
      "8                 8467648.0\n",
      "9                 7307409.0\n",
      "10                1153848.0\n",
      "11               63476066.0\n",
      "12                 733911.0\n",
      "13                3526853.0\n",
      "14                8555854.0\n",
      "15                2802130.0\n",
      "16               11046095.0\n",
      "17                5171076.0\n",
      "18               21021782.0\n",
      "19                1459180.0\n",
      "20                1718854.0\n",
      "21                3543100.0\n",
      "22               29357835.0\n",
      "23                4677028.0\n",
      "24                2102663.0\n",
      "25                 542585.0\n",
      "26              176369306.0\n",
      "27                 686913.0\n",
      "28                9134015.0\n",
      "29                 996776.0\n",
      "30                 428543.0\n",
      "31               48503359.0\n",
      "32                  53672.0\n",
      "33               39346669.0\n",
      "34                3038155.0\n",
      "35                 560909.0\n",
      "36               25808865.0\n",
      "37                2136747.0\n",
      "38                 635939.0\n",
      "39              145497267.0\n",
      "40                6976448.0\n",
      "41                1536871.0\n",
      "42               39546994.0\n",
      "43                 736194.0\n",
      "44                2039514.0\n",
      "45                2405926.0\n",
      "46                2509973.0\n",
      "47                9860324.0\n",
      "48                1052654.0\n",
      "49                 229763.0\n"
     ]
    }
   ],
   "source": [
    "print(interaction_reg_y_pred)\n",
    "print(y_test)"
   ]
  },
  {
   "cell_type": "code",
   "execution_count": 166,
   "metadata": {},
   "outputs": [
    {
     "name": "stdout",
     "output_type": "stream",
     "text": [
      "1718642332.8903716\n"
     ]
    }
   ],
   "source": [
    "interaction_reg_rmse = np.sqrt(metrics.mean_squared_error(y_test, interaction_reg_y_pred))\n",
    "print(interaction_reg_rmse)"
   ]
  },
  {
   "cell_type": "code",
   "execution_count": 184,
   "metadata": {},
   "outputs": [
    {
     "name": "stderr",
     "output_type": "stream",
     "text": [
      "/Applications/anaconda3/lib/python3.8/site-packages/sklearn/linear_model/_coordinate_descent.py:647: ConvergenceWarning: Objective did not converge. You might want to increase the number of iterations, check the scale of the features or consider increasing regularisation. Duality gap: 2.035e+17, tolerance: 5.035e+13\n",
      "  model = cd_fast.enet_coordinate_descent(\n"
     ]
    },
    {
     "data": {
      "text/plain": [
       "Lasso()"
      ]
     },
     "execution_count": 184,
     "metadata": {},
     "output_type": "execute_result"
    }
   ],
   "source": [
    "lasso_reg_drop = Lasso()\n",
    "lasso_reg_drop.fit(sorted_X_drop, y)"
   ]
  },
  {
   "cell_type": "code",
   "execution_count": 188,
   "metadata": {},
   "outputs": [
    {
     "name": "stdout",
     "output_type": "stream",
     "text": [
      "[-1.66133145e+02 -3.04510876e+00 -7.72338829e+01 -6.57344977e+01\n",
      " -2.64749263e+01  2.70051903e+01  6.43309158e-01 -8.95796949e+00\n",
      " -9.86714498e+00  2.59475907e+01  1.06246166e+02  1.20170501e+00\n",
      "  7.92001434e+00  4.17670683e+03 -2.40486148e+02 -8.89387685e+02\n",
      "  7.78407660e+01 -4.44934329e+01]\n",
      "[9502862.53902255]\n",
      "0.19139417248137436\n"
     ]
    }
   ],
   "source": [
    "print(lasso_reg_drop.coef_)\n",
    "print(lasso_reg_drop.intercept_)\n",
    "print(lasso_reg_drop.score(sorted_X_drop, y))"
   ]
  },
  {
   "cell_type": "code",
   "execution_count": 190,
   "metadata": {},
   "outputs": [
    {
     "name": "stdout",
     "output_type": "stream",
     "text": [
      "[ 6.28007899e+06  2.47592659e+07  7.23373922e+06  3.18883093e+07\n",
      "  8.47406416e+07  1.83937377e+07  5.59908552e+06  1.12340857e+07\n",
      "  4.79993156e+07  8.55564428e+07  1.06501202e+07 -2.93099333e+05\n",
      "  1.17165918e+07  1.61650845e+07  1.05468672e+07  1.31821399e+07\n",
      "  1.52345481e+07  5.38795640e+07  1.02470425e+07  1.39255179e+07\n",
      "  6.58184564e+05  2.23896264e+06  8.43113882e+06  1.29195718e+07\n",
      "  4.75277800e+07  1.16675530e+07  1.26677468e+08 -7.20760660e+06\n",
      "  1.11012406e+07  5.39321826e+06  1.75425704e+07  2.47327435e+06\n",
      "  2.34118814e+07  1.34614290e+07  2.15969651e+07  1.36226926e+07\n",
      "  1.38101645e+07  7.31705185e+06  9.02692282e+06  4.28065538e+07\n",
      "  1.13647939e+07  2.32905947e+07  7.08482097e+07  1.76983221e+07\n",
      "  4.17666613e+07  8.01834447e+06  2.18263644e+07  3.85508301e+06\n",
      "  1.64453215e+07  5.13642845e+06]\n",
      "    TotalAmountofAssistance\n",
      "0                 9567164.0\n",
      "1                 1174323.0\n",
      "2                61208016.0\n",
      "3                23756565.0\n",
      "4                58722209.0\n",
      "5                 6304206.0\n",
      "6                  491729.0\n",
      "7                23750266.0\n",
      "8                 8467648.0\n",
      "9                 7307409.0\n",
      "10                1153848.0\n",
      "11               63476066.0\n",
      "12                 733911.0\n",
      "13                3526853.0\n",
      "14                8555854.0\n",
      "15                2802130.0\n",
      "16               11046095.0\n",
      "17                5171076.0\n",
      "18               21021782.0\n",
      "19                1459180.0\n",
      "20                1718854.0\n",
      "21                3543100.0\n",
      "22               29357835.0\n",
      "23                4677028.0\n",
      "24                2102663.0\n",
      "25                 542585.0\n",
      "26              176369306.0\n",
      "27                 686913.0\n",
      "28                9134015.0\n",
      "29                 996776.0\n",
      "30                 428543.0\n",
      "31               48503359.0\n",
      "32                  53672.0\n",
      "33               39346669.0\n",
      "34                3038155.0\n",
      "35                 560909.0\n",
      "36               25808865.0\n",
      "37                2136747.0\n",
      "38                 635939.0\n",
      "39              145497267.0\n",
      "40                6976448.0\n",
      "41                1536871.0\n",
      "42               39546994.0\n",
      "43                 736194.0\n",
      "44                2039514.0\n",
      "45                2405926.0\n",
      "46                2509973.0\n",
      "47                9860324.0\n",
      "48                1052654.0\n",
      "49                 229763.0\n"
     ]
    }
   ],
   "source": [
    "y_pred_lasso = lasso_reg_drop.predict(sorted_X_test_drop)\n",
    "print(y_pred_lasso)\n",
    "print(y_test)"
   ]
  },
  {
   "cell_type": "code",
   "execution_count": 193,
   "metadata": {},
   "outputs": [
    {
     "name": "stdout",
     "output_type": "stream",
     "text": [
      "29552587.77832985\n"
     ]
    }
   ],
   "source": [
    "mse_lasso_drop = metrics.mean_squared_error(y_test, y_pred_lasso)\n",
    "print(math.sqrt(mse_lasso_drop))"
   ]
  },
  {
   "cell_type": "code",
   "execution_count": 194,
   "metadata": {},
   "outputs": [
    {
     "name": "stdout",
     "output_type": "stream",
     "text": [
      "     BDPRP     CLPRB    ENPRP     GETCB     HYTCB     NCPRB     NGMPB  \\\n",
      "0     0.00   15523.0     0.00     186.0   15475.0   16851.0  376283.0   \n",
      "1  1567.02  313282.0     0.00     141.0  117112.0  120692.0  124831.0   \n",
      "2  8479.38       0.0     0.00     808.0   39747.0   43767.0  489956.0   \n",
      "3     0.00       0.0     0.00     345.0   56354.0  142484.0      68.0   \n",
      "4  4892.16       0.0  8650.32  101857.0  187545.0  845282.0  192081.0   \n",
      "\n",
      "      NUETB     PAPRB      REPRB     SOTCB      TEPRB      TETCB   WDEXB  \\\n",
      "0       0.0  932482.0    24682.0      62.0  1348969.0   640132.0     0.0   \n",
      "1  454756.0   24528.0   288515.0    3439.0  1205912.0  1838656.0  5592.0   \n",
      "2  157288.0   23578.0   111538.0    3212.0   782360.0  1034661.0     0.0   \n",
      "3  329471.0      28.0   152046.0   80134.0   481613.0  1508154.0     0.0   \n",
      "4  169773.0  814462.0  1013850.0  436716.0  2190166.0  6922764.0     0.0   \n",
      "\n",
      "      WDTCB    WSTCB     WWPRB     WYTCB  \n",
      "0    7423.0    407.0    7831.0    1128.0  \n",
      "1  159187.0   1487.0  166266.0       0.0  \n",
      "2   55743.0   3591.0   59334.0       0.0  \n",
      "3    9297.0    265.0    9562.0    5651.0  \n",
      "4  108611.0  39694.0  148305.0  119164.0  \n",
      "      BDPRP     CLPRB     ENPRP     GETCB     HYTCB     NCPRB     NGMPB  \\\n",
      "0 -0.526398 -0.328587 -0.422901 -0.258285 -0.320242 -0.609128 -0.212115   \n",
      "1 -0.351578  0.163218 -0.422901 -0.261287  0.621032 -0.085415 -0.333903   \n",
      "2  0.419581 -0.354226 -0.422901 -0.216789 -0.095456 -0.473379 -0.157059   \n",
      "3 -0.526398 -0.354226 -0.422901 -0.247678  0.058344  0.024491 -0.394330   \n",
      "4  0.019383 -0.354226 -0.250264  6.524578  1.273321  3.568988 -0.301331   \n",
      "\n",
      "      NUETB     PAPRB     REPRB     SOTCB     TEPRB     TETCB     WDEXB  \\\n",
      "0 -0.737594  0.357079 -0.843641 -0.376626 -0.131159 -0.571653 -0.408958   \n",
      "1  1.295800 -0.252954  0.228798 -0.323982 -0.170418 -0.007519  0.669409   \n",
      "2 -0.034297 -0.253592 -0.490585 -0.327521 -0.286654 -0.385952 -0.408958   \n",
      "3  0.735602 -0.269415 -0.325927  0.871613 -0.369189 -0.163083 -0.408958   \n",
      "4  0.021529  0.277785  3.177168  6.430355  0.099692  2.385522 -0.408958   \n",
      "\n",
      "      WDTCB     WSTCB     WWPRB     WYTCB  \n",
      "0 -0.765590 -0.721607 -0.840221 -0.456211  \n",
      "1  2.664840 -0.628478  2.160813 -0.465058  \n",
      "2  0.326621 -0.447048  0.135335 -0.465058  \n",
      "3 -0.723231 -0.733852 -0.807433 -0.420736  \n",
      "4  1.521634  2.666151  1.820601  0.469566  \n"
     ]
    }
   ],
   "source": [
    "### Normalize the data\n",
    "sorted_X_drop_norm = (sorted_X_drop - sorted_X_drop.mean()) / (sorted_X_drop.std())\n",
    "sorted_X_test_drop_norm = (sorted_X_test_drop - sorted_X_test_drop.mean()) / (sorted_X_test_drop.std())"
   ]
  },
  {
   "cell_type": "code",
   "execution_count": 195,
   "metadata": {},
   "outputs": [
    {
     "name": "stdout",
     "output_type": "stream",
     "text": [
      "        BDPRP     CLPRB     ENPRP     GETCB     HYTCB     NCPRB     NGMPB  \\\n",
      "0   -0.533821 -0.340082 -0.438343 -0.256144 -0.316994 -0.552139 -0.180050   \n",
      "5   -0.286166  0.024479 -0.438343 -0.259039  0.353660 -0.129830 -0.296753   \n",
      "10   0.036771 -0.358594 -0.438343 -0.216122 -0.155234 -0.452494  0.202621   \n",
      "15  -0.535228 -0.190499 -0.370271 -0.245913  0.084673 -0.009846 -0.404030   \n",
      "20  -0.011071 -0.360708 -0.164050  6.994911  0.672832  2.516187 -0.244635   \n",
      "..        ...       ...       ...       ...       ...       ...       ...   \n",
      "229 -0.536635 -0.360708 -0.438343 -0.266246 -0.340555 -0.542311 -0.404088   \n",
      "234  0.735413 -0.360708 -0.438343 -0.195017  4.657928  2.980924 -0.404088   \n",
      "239 -0.084242 -0.360708  0.446472 -0.228540 -0.239785 -0.407149 -0.404088   \n",
      "244 -0.536635  2.454478 -0.438343 -0.266053 -0.312039 -0.476336  1.124101   \n",
      "249 -0.536635  5.251144 -0.438343 -0.225452 -0.367180 -0.374181  0.586663   \n",
      "\n",
      "        NUETB     PAPRB     REPRB     SOTCB     TEPRB     TETCB     WDEXB  \\\n",
      "0   -0.753300  0.532132 -0.855303 -0.313001 -0.097736 -0.624817 -0.355354   \n",
      "5    1.210534 -0.242152  0.180146 -0.310929 -0.149622 -0.025528 -0.355354   \n",
      "10  -0.105522 -0.258262 -0.441239 -0.310443 -0.129099 -0.418698 -0.355354   \n",
      "15   0.769292 -0.287051 -0.392300  0.706189 -0.356973 -0.219302 -0.355354   \n",
      "20   0.112974  0.648623  2.287488  4.163858  0.196169  2.554128 -0.355354   \n",
      "..        ...       ...       ...       ...       ...       ...       ...   \n",
      "229 -0.753300 -0.287223 -0.779609 -0.254587 -0.540036 -0.844376 -0.355354   \n",
      "234 -0.338876 -0.287223  2.470445 -0.263590 -0.275517  0.048768 -0.355354   \n",
      "239 -0.284481 -0.287223  0.063443 -0.281723 -0.445716 -0.057400 -0.355354   \n",
      "244 -0.753300 -0.207260 -0.775311 -0.309619  1.090265 -0.525826 -0.355354   \n",
      "249 -0.753300  0.186230 -0.725751 -0.277390  1.723232 -0.655897 -0.355354   \n",
      "\n",
      "        WDTCB     WSTCB     WWPRB     WYTCB  \n",
      "0   -0.831227 -0.697933 -0.896268 -0.458595  \n",
      "5    2.588675 -0.625990  2.008140 -0.474159  \n",
      "10   0.667297 -0.455556  0.427397 -0.474159  \n",
      "15  -0.806394 -0.695186 -0.874658 -0.430092  \n",
      "20   1.179578  2.360268  1.540966  0.717903  \n",
      "..        ...       ...       ...       ...  \n",
      "229 -0.494107 -0.696102 -0.611250 -0.439004  \n",
      "234  1.434200 -0.141237  1.150819  0.147786  \n",
      "239  1.037447 -0.071660  0.832714 -0.299252  \n",
      "244 -0.722628 -0.728067 -0.811897 -0.322232  \n",
      "249 -0.872673 -0.745386 -0.942752 -0.086418  \n",
      "\n",
      "[250 rows x 18 columns]\n",
      "       BDPRP     CLPRB     ENPRP     GETCB     HYTCB     NCPRB     NGMPB  \\\n",
      "0  -0.526398 -0.328587 -0.422901 -0.258285 -0.320242 -0.609128 -0.212115   \n",
      "1  -0.351578  0.163218 -0.422901 -0.261287  0.621032 -0.085415 -0.333903   \n",
      "2   0.419581 -0.354226 -0.422901 -0.216789 -0.095456 -0.473379 -0.157059   \n",
      "3  -0.526398 -0.354226 -0.422901 -0.247678  0.058344  0.024491 -0.394330   \n",
      "4   0.019383 -0.354226 -0.250264  6.524578  1.273321  3.568988 -0.301331   \n",
      "5  -0.526398 -0.006555 -0.218285 -0.220058 -0.327994  0.074834  0.779446   \n",
      "6  -0.231579 -0.354226 -0.422901 -0.269293 -0.437071 -0.632156 -0.394363   \n",
      "7  -0.526398 -0.354226 -0.422901 -0.242007 -0.463558 -0.683432 -0.394363   \n",
      "8  -0.507515 -0.354226 -0.422901  0.400180 -0.444730 -0.156401 -0.393861   \n",
      "9  -0.377771 -0.354226 -0.348432 -0.249679 -0.084731 -0.302720 -0.394363   \n",
      "10 -0.473404 -0.354226 -0.422901 -0.264556 -0.455529 -0.577828 -0.394363   \n",
      "11  4.564106 -0.354226  5.446573 -0.185234 -0.380263  0.880584 -0.394363   \n",
      "12 -0.526398 -0.354226 -0.399649 -0.117452  0.308959 -0.110249 -0.394309   \n",
      "13  1.757841  0.784554  1.730732 -0.134464 -0.452593  0.068903 -0.393418   \n",
      "14  0.924551  0.390302  1.051714  0.039325 -0.441563 -0.356463 -0.392223   \n",
      "15  0.325775 -0.354226  0.387474 -0.205715 -0.460928  0.377343 -0.302842   \n",
      "16  0.240497  0.589035 -0.363784 -0.089766 -0.056874 -0.454456 -0.354789   \n",
      "17 -0.526398 -0.338637 -0.422901 -0.147807 -0.365761 -0.617974  1.209649   \n",
      "18 -0.515434 -0.354226 -0.422901 -0.213387 -0.395007 -0.475502 -0.394363   \n",
      "19 -0.526398 -0.308963 -0.422901 -0.232667 -0.325697 -0.524106 -0.394358   \n",
      "20 -0.520916 -0.354226 -0.422901 -0.265891 -0.206960 -0.442105 -0.394363   \n",
      "21 -0.396045 -0.354226  0.047296  0.075751 -0.324354 -0.277821 -0.360530   \n",
      "22  0.675416 -0.354226  1.315192 -0.198977 -0.382162 -0.041331 -0.394363   \n",
      "23  2.845748 -0.348557 -0.034436 -0.247211 -0.310861 -0.440612 -0.394363   \n",
      "24 -0.162138 -0.310330 -0.422901 -0.206782 -0.463558 -0.669517 -0.380339   \n",
      "25 -0.526398  0.420542 -0.422901 -0.248212  0.409656 -0.078561 -0.373843   \n",
      "26 -0.508734 -0.354226 -0.422901 -0.206182  0.182971  0.070396 -0.394363   \n",
      "27  0.680898  0.247422  0.359381 -0.205448 -0.264471  0.022534  0.192328   \n",
      "28 -0.526398 -0.354226  2.307634 -0.189837 -0.350619 -0.219756 -0.394181   \n",
      "29 -0.490460 -0.354226 -0.422901 -0.268759 -0.363760 -0.608916 -0.394363   \n",
      "30 -0.526398 -0.354226 -0.422901 -0.239605 -0.462308 -0.512526 -0.394363   \n",
      "31 -0.526398 -0.038177 -0.422901 -0.214988 -0.447092 -0.266721  0.708927   \n",
      "32 -0.526398 -0.354226 -0.422901  2.057152 -0.307286 -0.129747 -0.394357   \n",
      "33 -0.526398 -0.354226 -0.311229 -0.191638  1.937307  0.964743 -0.389514   \n",
      "34  0.507296 -0.208456  0.387729 -0.041532 -0.433154 -0.539816  0.870630   \n",
      "35  0.013291 -0.354199 -0.422901 -0.269093 -0.231641  0.738143  1.177037   \n",
      "36 -0.364979 -0.354226 -0.372575 -0.076090  2.129930  1.187460 -0.394200   \n",
      "37 -0.110362  1.146825 -0.277083 -0.126459 -0.246431 -0.363060  3.268967   \n",
      "38 -0.463658 -0.354226 -0.422901 -0.266891 -0.463271 -0.662109 -0.394363   \n",
      "39 -0.526398 -0.354226 -0.422901 -0.227464 -0.149717 -0.427171 -0.394363   \n",
      "40 -0.526398 -0.354226  1.339400 -0.146073  0.010167 -0.181220 -0.394150   \n",
      "41 -0.015338 -0.350300 -0.165984 -0.256484  0.629422 -0.077658 -0.392975   \n",
      "42  2.532046  0.079359 -0.069409 -0.105377 -0.375864  3.908449  5.158521   \n",
      "43 -0.526398  0.134951 -0.422901  0.003700 -0.397202 -0.463494 -0.265565   \n",
      "44 -0.491678  0.061833 -0.420863 -0.157214 -0.298608 -0.522830 -0.342099   \n",
      "45 -0.526398 -0.354226 -0.422901 -0.268759 -0.371771 -0.610757 -0.394363   \n",
      "46  0.550544 -0.354226 -0.422901 -0.194907  5.744569  3.116125 -0.394363   \n",
      "47 -0.073814 -0.354226  0.277203 -0.229665 -0.237059 -0.478564 -0.394363   \n",
      "48 -0.526398  2.533521 -0.422901 -0.268559 -0.334208 -0.538590  1.117700   \n",
      "49 -0.526398  5.959517 -0.422901 -0.226463 -0.375327 -0.390904  0.327259   \n",
      "\n",
      "       NUETB     PAPRB     REPRB     SOTCB     TEPRB     TETCB     WDEXB  \\\n",
      "0  -0.737594  0.357079 -0.843641 -0.376626 -0.131159 -0.571653 -0.408958   \n",
      "1   1.295800 -0.252954  0.228798 -0.323982 -0.170418 -0.007519  0.669409   \n",
      "2  -0.034297 -0.253592 -0.490585 -0.327521 -0.286654 -0.385952 -0.408958   \n",
      "3   0.735602 -0.269415 -0.325927  0.871613 -0.369189 -0.163083 -0.408958   \n",
      "4   0.021529  0.277785  3.177168  6.430355  0.099692  2.385522 -0.408958   \n",
      "5  -0.737594  0.372297 -0.187373 -0.071550  0.534702 -0.189932 -0.408958   \n",
      "6  -0.003860 -0.269434 -0.791969 -0.232646 -0.446064 -0.559001 -0.408958   \n",
      "7  -0.737594 -0.269434 -0.929454 -0.351996 -0.500379 -0.742507 -0.408958   \n",
      "8   0.636006 -0.263744  0.105463  1.096016 -0.343595  1.011280  1.892021   \n",
      "9   0.795049 -0.269434  0.329122  0.189612 -0.321342  0.410882  3.328300   \n",
      "10 -0.737594 -0.269434 -0.830329 -0.114108 -0.493687 -0.763513 -0.408958   \n",
      "11 -0.601963 -0.269434  2.714447 -0.345292 -0.246042 -0.154642 -0.408958   \n",
      "12 -0.737594 -0.269429 -0.327675 -0.287956 -0.459718 -0.614031 -0.408958   \n",
      "13  3.942924 -0.242033  0.605759 -0.288517  0.091473  0.827612 -0.408958   \n",
      "14 -0.737594 -0.264073  0.059985 -0.303280 -0.306471  0.334092 -0.408958   \n",
      "15 -0.243495 -0.161377  0.272641 -0.362705 -0.292903 -0.369533 -0.408958   \n",
      "16 -0.737594 -0.260773 -0.576804 -0.363656 -0.293884 -0.121983 -0.408958   \n",
      "17  0.053790 -0.129075 -0.410731 -0.335580  0.551987  1.104112  0.982583   \n",
      "18 -0.737594 -0.269434 -0.643391  0.136765 -0.481066 -0.271221 -0.408958   \n",
      "19 -0.033478 -0.269434 -0.751991 -0.167656 -0.437659 -0.302177 -0.408958   \n",
      "20 -0.737594 -0.269434 -0.403561 -0.359260 -0.464874 -0.701107 -0.408958   \n",
      "21  0.678640 -0.253386 -0.029291 -0.327240 -0.326959  0.355819 -0.408958   \n",
      "22 -0.052308 -0.269434  0.486785 -0.131692 -0.362704 -0.057957 -0.408958   \n",
      "23 -0.376113 -0.269196 -0.374863 -0.314036 -0.439712 -0.071778 -0.408958   \n",
      "24 -0.435466 -0.215267 -0.682454 -0.316499 -0.427796 -0.384728  1.312534   \n",
      "25 -0.737594 -0.196841 -0.383249 -0.368348 -0.293496 -0.670876 -0.408958   \n",
      "26  1.238750 -0.269434  0.198832  0.807418 -0.302906  0.290071  4.427879   \n",
      "27 -0.737594  1.393430 -0.031783 -0.377406  0.671824 -0.578358 -0.408958   \n",
      "28 -0.448648 -0.263033  0.447393 -0.367008 -0.386972 -0.466443 -0.408958   \n",
      "29 -0.276986 -0.269434 -0.758165 -0.354459 -0.460545 -0.733845 -0.408958   \n",
      "30  0.510824 -0.269434 -0.733093  0.171591 -0.410501  0.018462 -0.408958   \n",
      "31 -0.737594  1.146854 -0.551928 -0.085268  0.781251 -0.543597 -0.408958   \n",
      "32 -0.737594 -0.268684 -0.475399  0.515436 -0.469414 -0.538727 -0.408958   \n",
      "33  1.056719 -0.268382  0.788307  0.071697 -0.271104  0.705843 -0.408958   \n",
      "34  0.113058 -0.178358 -0.289164 -0.318464  0.373240  0.729499 -0.408958   \n",
      "35 -0.737594  0.387240  0.371986 -0.364420  0.746089 -0.129650 -0.408958   \n",
      "36 -0.737594 -0.269434  0.899549 -0.173128 -0.376804 -0.410278 -0.408958   \n",
      "37  2.835212 -0.248281 -0.175109 -0.266116  2.103564  0.733507 -0.408958   \n",
      "38 -0.737594 -0.269434 -0.897549 -0.309391 -0.498225 -0.790219 -0.408958   \n",
      "39  1.818752 -0.269434 -0.290745 -0.090865 -0.300362 -0.151228  1.292092   \n",
      "40 -0.737594 -0.265430  0.121007 -0.377000 -0.427703 -0.686268 -0.408958   \n",
      "41  0.975389 -0.268803 -0.122705 -0.320599 -0.339082  0.086823 -0.074957   \n",
      "42  1.197193  6.523086  3.361655  1.020082  5.900897  5.472307  1.125092   \n",
      "43 -0.737594 -0.151088 -0.737329  0.049670 -0.284812 -0.482736 -0.408958   \n",
      "44  0.669653 -0.269415 -0.345576 -0.152332 -0.275839  0.196969  1.403362   \n",
      "45 -0.737594 -0.269434 -0.791615 -0.327334 -0.491073 -0.813790 -0.408958   \n",
      "46 -0.297443 -0.269434  2.597482 -0.335128 -0.235249 -0.035411 -0.408958   \n",
      "47 -0.281368 -0.269434 -0.127156 -0.343344 -0.418212 -0.068956 -0.408958   \n",
      "48 -0.737594 -0.196558 -0.775522 -0.374662  0.876341 -0.494559 -0.408958   \n",
      "49 -0.737594  0.071219 -0.680255 -0.353180  1.113510 -0.635545 -0.408958   \n",
      "\n",
      "       WDTCB     WSTCB     WWPRB     WYTCB  \n",
      "0  -0.765590 -0.721607 -0.840221 -0.456211  \n",
      "1   2.664840 -0.628478  2.160813 -0.465058  \n",
      "2   0.326621 -0.447048  0.135335 -0.465058  \n",
      "3  -0.723231 -0.733852 -0.807433 -0.420736  \n",
      "4   1.521634  2.666151  1.820601  0.469566  \n",
      "5  -0.609398 -0.663229 -0.696510  0.456021  \n",
      "6  -0.636681  0.050074 -0.562706 -0.464219  \n",
      "7  -0.918821 -0.686856 -0.961013 -0.464705  \n",
      "8   0.894268  4.296521  1.879017 -0.465058  \n",
      "9   3.623034 -0.181973  3.323022 -0.465058  \n",
      "10 -0.931253 -0.382978 -0.904699 -0.424305  \n",
      "11 -0.773818  0.266083 -0.630176  1.886961  \n",
      "12 -0.203730 -0.627529 -0.348740 -0.274422  \n",
      "13 -0.752322  0.063354 -0.656695  0.651418  \n",
      "14 -0.509286  0.693961 -0.314512 -0.032421  \n",
      "15 -0.841335 -0.505857 -0.856340  1.183844  \n",
      "16 -0.309741 -0.488697 -0.407080 -0.465058  \n",
      "17  1.226226  0.392584  1.210317 -0.465058  \n",
      "18 -0.618010  0.670679 -0.410755 -0.448666  \n",
      "19 -0.791155 -0.133511 -0.732480 -0.427513  \n",
      "20  0.883712 -0.537418  0.582322 -0.300249  \n",
      "21  0.876253  0.909711  0.893952 -0.001628  \n",
      "22  0.154336 -0.006579  0.087716  0.349024  \n",
      "23 -0.460508 -0.403242 -0.514650 -0.234884  \n",
      "24  0.102257 -0.630288  0.076161 -0.465058  \n",
      "25 -0.585303 -0.714191 -0.687513 -0.254602  \n",
      "26  1.202832  0.089051  1.462450 -0.427473  \n",
      "27 -0.915656 -0.670903 -0.954856  0.473064  \n",
      "28 -0.870901 -0.588121 -0.899168  0.162153  \n",
      "29 -0.370228 -0.447651 -0.448733 -0.428940  \n",
      "30 -0.863532  0.345502 -0.687911 -0.463677  \n",
      "31 -0.676803 -0.726264 -0.766860  0.032027  \n",
      "32 -0.875534 -0.686597 -0.924682 -0.442713  \n",
      "33  0.354040  1.858425  0.664738 -0.153927  \n",
      "34 -0.126741  0.389911 -0.060731 -0.307543  \n",
      "35 -0.276559 -0.249320 -0.326692  1.559069  \n",
      "36  0.623205 -0.268722  0.423041  0.138890  \n",
      "37  0.717168  2.155491  1.034310 -0.207151  \n",
      "38 -0.897415 -0.504477 -0.903013 -0.450281  \n",
      "39  1.211037 -0.404794  1.052835 -0.465058  \n",
      "40 -0.866809 -0.740578 -0.929228 -0.083574  \n",
      "41  0.113491 -0.386427  0.002857 -0.462360  \n",
      "42  0.297847  1.434686  0.675270  5.895638  \n",
      "43 -0.842714 -0.662108 -0.891780 -0.409834  \n",
      "44  0.984435  0.839606  1.147222 -0.465058  \n",
      "45 -0.475946 -0.694962 -0.591668 -0.438666  \n",
      "46  1.290172 -0.086343  1.022017  0.172490  \n",
      "47  0.946799 -0.019342  0.748991 -0.343724  \n",
      "48 -0.699338 -0.735145 -0.787696 -0.334477  \n",
      "49 -0.825851 -0.756703 -0.898448 -0.085746  \n"
     ]
    }
   ],
   "source": [
    "print(sorted_X_drop_norm)\n",
    "print(sorted_X_test_drop_norm)"
   ]
  },
  {
   "cell_type": "code",
   "execution_count": 201,
   "metadata": {},
   "outputs": [
    {
     "data": {
      "text/plain": [
       "LinearRegression()"
      ]
     },
     "execution_count": 201,
     "metadata": {},
     "output_type": "execute_result"
    }
   ],
   "source": [
    "linreg_norm = linear_model.LinearRegression()\n",
    "linreg_norm.fit(sorted_X_drop_norm, y)"
   ]
  },
  {
   "cell_type": "code",
   "execution_count": 202,
   "metadata": {},
   "outputs": [
    {
     "name": "stdout",
     "output_type": "stream",
     "text": [
      "[[-4.77001990e+06 -2.65862329e+12 -5.01644681e+07 -7.09907584e+09\n",
      "  -5.26356076e+10  8.19507061e+10 -5.25318961e+12 -6.90304169e+11\n",
      "  -3.79947443e+12 -7.01601861e+11 -2.16074802e+10  9.70324874e+12\n",
      "   1.76166938e+07  2.52341125e+10  2.93722471e+11  8.41509453e+10\n",
      "  -3.47969275e+11 -4.36717117e+10]]\n",
      "[16605972.65616275]\n",
      "0.19742345894631597\n"
     ]
    }
   ],
   "source": [
    "print(linreg_norm.coef_)\n",
    "print(linreg_norm.intercept_)\n",
    "print(linreg_norm.score(sorted_X_drop_norm, y))"
   ]
  },
  {
   "cell_type": "code",
   "execution_count": 203,
   "metadata": {},
   "outputs": [
    {
     "name": "stdout",
     "output_type": "stream",
     "text": [
      "[[ 4.52871808e+11]\n",
      " [-4.43074544e+11]\n",
      " [ 3.12812226e+11]\n",
      " [ 1.72159453e+11]\n",
      " [ 2.39864082e+11]\n",
      " [ 3.41144430e+11]\n",
      " [ 2.68296797e+11]\n",
      " [ 3.37535049e+11]\n",
      " [ 1.88415868e+11]\n",
      " [ 1.13533426e+11]\n",
      " [ 3.36736876e+11]\n",
      " [ 1.83125123e+11]\n",
      " [ 3.07278308e+11]\n",
      " [-1.34807140e+12]\n",
      " [-4.70979652e+11]\n",
      " [ 2.91225024e+11]\n",
      " [-6.55413996e+11]\n",
      " [ 6.37446151e+11]\n",
      " [ 3.37328199e+11]\n",
      " [ 2.19868741e+11]\n",
      " [ 3.17483086e+11]\n",
      " [ 1.91408083e+11]\n",
      " [ 2.21919520e+11]\n",
      " [ 2.75777911e+11]\n",
      " [ 2.51147186e+11]\n",
      " [-4.86346249e+11]\n",
      " [ 6.58407088e+10]\n",
      " [ 8.91443275e+10]\n",
      " [ 2.52582017e+11]\n",
      " [ 2.88462680e+11]\n",
      " [ 2.20752545e+11]\n",
      " [ 4.97286879e+11]\n",
      " [ 3.17769645e+11]\n",
      " [ 9.69521355e+10]\n",
      " [ 4.10332945e+11]\n",
      " [ 7.90399367e+11]\n",
      " [ 2.44441230e+11]\n",
      " [-6.80272935e+11]\n",
      " [ 3.37861434e+11]\n",
      " [ 5.58279229e+10]\n",
      " [ 2.88440887e+11]\n",
      " [ 1.26981354e+11]\n",
      " [ 2.04198445e+12]\n",
      " [-1.30293743e+11]\n",
      " [-2.46337804e+11]\n",
      " [ 3.31647955e+11]\n",
      " [ 9.72375293e+10]\n",
      " [ 2.65393714e+11]\n",
      " [-2.30913506e+12]\n",
      " [-6.04596139e+12]]\n",
      "    TotalAmountofAssistance\n",
      "0                 9567164.0\n",
      "1                 1174323.0\n",
      "2                61208016.0\n",
      "3                23756565.0\n",
      "4                58722209.0\n",
      "5                 6304206.0\n",
      "6                  491729.0\n",
      "7                23750266.0\n",
      "8                 8467648.0\n",
      "9                 7307409.0\n",
      "10                1153848.0\n",
      "11               63476066.0\n",
      "12                 733911.0\n",
      "13                3526853.0\n",
      "14                8555854.0\n",
      "15                2802130.0\n",
      "16               11046095.0\n",
      "17                5171076.0\n",
      "18               21021782.0\n",
      "19                1459180.0\n",
      "20                1718854.0\n",
      "21                3543100.0\n",
      "22               29357835.0\n",
      "23                4677028.0\n",
      "24                2102663.0\n",
      "25                 542585.0\n",
      "26              176369306.0\n",
      "27                 686913.0\n",
      "28                9134015.0\n",
      "29                 996776.0\n",
      "30                 428543.0\n",
      "31               48503359.0\n",
      "32                  53672.0\n",
      "33               39346669.0\n",
      "34                3038155.0\n",
      "35                 560909.0\n",
      "36               25808865.0\n",
      "37                2136747.0\n",
      "38                 635939.0\n",
      "39              145497267.0\n",
      "40                6976448.0\n",
      "41                1536871.0\n",
      "42               39546994.0\n",
      "43                 736194.0\n",
      "44                2039514.0\n",
      "45                2405926.0\n",
      "46                2509973.0\n",
      "47                9860324.0\n",
      "48                1052654.0\n",
      "49                 229763.0\n"
     ]
    }
   ],
   "source": [
    "y_pred_norm = linreg_norm.predict(sorted_X_test_drop_norm)\n",
    "print(y_pred_norm)\n",
    "print(y_test)"
   ]
  },
  {
   "cell_type": "code",
   "execution_count": 205,
   "metadata": {},
   "outputs": [
    {
     "name": "stdout",
     "output_type": "stream",
     "text": [
      "1032310556577.1436\n"
     ]
    }
   ],
   "source": [
    "mse_norm = metrics.mean_squared_error(y_test, y_pred_norm)\n",
    "print(math.sqrt(mse_norm))"
   ]
  },
  {
   "cell_type": "code",
   "execution_count": null,
   "metadata": {},
   "outputs": [],
   "source": [
    "#### Attempt adding CO2 emissions and number of investments\n",
    "# sorted_X_drop_add = sorted_X_drop.copy(deep=True)\n"
   ]
  },
  {
   "cell_type": "code",
   "execution_count": 207,
   "metadata": {},
   "outputs": [
    {
     "name": "stdout",
     "output_type": "stream",
     "text": [
      "      BDPRP       CLPRB         ENPRP     GETCB     HYTCB     NCPRB  \\\n",
      "0     21.84   17747.000  23720.058432     186.0   14621.0   16298.0   \n",
      "5   1943.76  331420.000  23720.058432     141.0   91902.0   92144.0   \n",
      "10  4449.90    1819.000  23720.058432     808.0   33261.0   34194.0   \n",
      "15    10.92  146450.000   3683.568000     345.0   60906.0  113693.0   \n",
      "20  4078.62  310357.992  14842.800000  112878.0  128681.0  567365.0   \n",
      "\n",
      "        NGMPB       NUETB      PAPRB     REPRB     SOTCB      TEPRB  \\\n",
      "0    380887.0  168290.108  1007501.0   23807.0       3.0  1429942.0   \n",
      "5    182481.0  438728.000    55421.0  258955.0     101.0  1267004.0   \n",
      "10  1031466.0  144716.000    35611.0  117840.0     124.0  1331452.0   \n",
      "15       99.0  340153.000      212.0  128954.0   48229.0   615867.0   \n",
      "20   271086.0  193529.000  1150741.0  737527.0  211839.0  2352883.0   \n",
      "\n",
      "        TETCB     WDEXB     WDTCB    WSTCB     WWPRB       WYTCB  \n",
      "0    614242.0  1395.604    6865.0    622.0    7488.0    1488.000  \n",
      "5   1917138.0  1395.604  163313.0   1565.0  164877.0   45331.964  \n",
      "10  1062359.0  1395.604   75417.0   3799.0   79217.0   45331.964  \n",
      "15  1495858.0  1395.604    8001.0    658.0    8659.0    4213.000  \n",
      "20  7525491.0  1395.604   98852.0  40708.0  139561.0  113967.000  \n",
      "       BDPRP      CLPRB      ENPRP     GETCB     HYTCB     NCPRB      NGMPB  \\\n",
      "0      21.84    17747.0      0.000     186.0   14621.0   16298.0   380887.0   \n",
      "5    1943.76   331420.0      0.000     141.0   91902.0   92144.0   182481.0   \n",
      "10   4449.90     1819.0      0.000     808.0   33261.0   34194.0  1031466.0   \n",
      "15     10.92   146450.0   3683.568     345.0   60906.0  113693.0       99.0   \n",
      "20   4078.62        0.0  14842.800  112878.0  128681.0  567365.0   271086.0   \n",
      "..       ...        ...        ...       ...       ...       ...        ...   \n",
      "229     0.00        0.0      0.000      29.0   11906.0   18063.0        0.0   \n",
      "234  9871.68        0.0      0.000    1136.0  587893.0  650831.0        0.0   \n",
      "239  3510.78        0.0  47880.000     615.0   23518.0   42338.0        0.0   \n",
      "244     0.00  2422224.0      0.000      32.0   15192.0   29912.0  2598072.0   \n",
      "249     0.00  4828513.0      0.000     663.0    8838.0   48259.0  1684374.0   \n",
      "\n",
      "        NUETB      PAPRB     REPRB     SOTCB      TEPRB      TETCB  WDEXB  \\\n",
      "0         0.0  1007501.0   23807.0       3.0  1429942.0   614242.0    0.0   \n",
      "5    438728.0    55421.0  258955.0     101.0  1267004.0  1917138.0    0.0   \n",
      "10   144716.0    35611.0  117840.0     124.0  1331452.0  1062359.0    0.0   \n",
      "15   340153.0      212.0  128954.0   48229.0   615867.0  1495858.0    0.0   \n",
      "20   193529.0  1150741.0  737527.0  211839.0  2352883.0  7525491.0    0.0   \n",
      "..        ...        ...       ...       ...        ...        ...    ...   \n",
      "229       0.0        0.0   40997.0    2767.0    40997.0   136905.0    0.0   \n",
      "234   92584.0        0.0  779076.0    2341.0   871660.0  2078663.0    0.0   \n",
      "239  104736.0        0.0  232452.0    1483.0   337188.0  1847846.0    0.0   \n",
      "244       0.0    98325.0   41973.0     163.0  5160593.0   829454.0    0.0   \n",
      "249       0.0   582170.0   53228.0    1688.0  7148285.0   546671.0    0.0   \n",
      "\n",
      "        WDTCB    WSTCB     WWPRB     WYTCB  \n",
      "0      6865.0    622.0    7488.0    1488.0  \n",
      "5    163313.0   1565.0  164877.0       0.0  \n",
      "10    75417.0   3799.0   79217.0       0.0  \n",
      "15     8001.0    658.0    8659.0    4213.0  \n",
      "20    98852.0  40708.0  139561.0  113967.0  \n",
      "..        ...      ...       ...       ...  \n",
      "229   22287.0    646.0   22933.0    3361.0  \n",
      "234  110500.0   7919.0  118419.0   59461.0  \n",
      "239   92350.0   8831.0  101181.0   16722.0  \n",
      "244   11833.0    227.0   12060.0   14525.0  \n",
      "249    4969.0      0.0    4969.0   37070.0  \n",
      "\n",
      "[250 rows x 18 columns]\n"
     ]
    }
   ],
   "source": [
    "### Replace zeros with the means for each column\n",
    "sorted_X_drop_filled = sorted_X_drop.mask(sorted_X_drop==0).fillna(sorted_X_drop.mean())"
   ]
  },
  {
   "cell_type": "code",
   "execution_count": 214,
   "metadata": {},
   "outputs": [
    {
     "name": "stdout",
     "output_type": "stream",
     "text": [
      "0      3\n",
      "5      3\n",
      "10     3\n",
      "15     1\n",
      "20     2\n",
      "      ..\n",
      "229    7\n",
      "234    5\n",
      "239    4\n",
      "244    4\n",
      "249    5\n",
      "Length: 250, dtype: int64\n"
     ]
    }
   ],
   "source": [
    "# print(sorted_X_drop_filled.head())\n",
    "# print(sorted_X_drop.head())\n",
    "# print((sorted_X_drop == 0).sum(axis=1))"
   ]
  },
  {
   "cell_type": "code",
   "execution_count": 225,
   "metadata": {},
   "outputs": [],
   "source": [
    "sorted_X_test_drop_filled = sorted_X_test_drop.mask(sorted_X_test_drop==0).fillna(sorted_X_test_drop.mean())"
   ]
  },
  {
   "cell_type": "code",
   "execution_count": 227,
   "metadata": {},
   "outputs": [
    {
     "name": "stdout",
     "output_type": "stream",
     "text": [
      "0     0\n",
      "1     0\n",
      "2     0\n",
      "3     0\n",
      "4     0\n",
      "5     0\n",
      "6     0\n",
      "7     0\n",
      "8     0\n",
      "9     0\n",
      "10    0\n",
      "11    0\n",
      "12    0\n",
      "13    0\n",
      "14    0\n",
      "15    0\n",
      "16    0\n",
      "17    0\n",
      "18    0\n",
      "19    0\n",
      "20    0\n",
      "21    0\n",
      "22    0\n",
      "23    0\n",
      "24    0\n",
      "25    0\n",
      "26    0\n",
      "27    0\n",
      "28    0\n",
      "29    0\n",
      "30    0\n",
      "31    0\n",
      "32    0\n",
      "33    0\n",
      "34    0\n",
      "35    0\n",
      "36    0\n",
      "37    0\n",
      "38    0\n",
      "39    0\n",
      "40    0\n",
      "41    0\n",
      "42    0\n",
      "43    0\n",
      "44    0\n",
      "45    0\n",
      "46    0\n",
      "47    0\n",
      "48    0\n",
      "49    0\n",
      "dtype: int64\n"
     ]
    }
   ],
   "source": [
    "print((sorted_X_test_drop_filled == 0).sum(axis=1))"
   ]
  },
  {
   "cell_type": "code",
   "execution_count": 218,
   "metadata": {},
   "outputs": [
    {
     "data": {
      "text/plain": [
       "LinearRegression()"
      ]
     },
     "execution_count": 218,
     "metadata": {},
     "output_type": "execute_result"
    }
   ],
   "source": [
    "linreg_drop_filled = linear_model.LinearRegression()\n",
    "linreg_drop_filled.fit(sorted_X_drop_filled, y)"
   ]
  },
  {
   "cell_type": "code",
   "execution_count": 219,
   "metadata": {},
   "outputs": [
    {
     "name": "stdout",
     "output_type": "stream",
     "text": [
      "[[-6.78687076e+01  7.82218255e+00  1.77905493e+02  1.14757616e+02\n",
      "   6.92068414e+01  7.16267985e+01  8.41314932e+00  9.94033165e+00\n",
      "  -1.67220986e+00 -1.08839642e+02  1.81871744e+02 -7.41918723e+00\n",
      "   8.59681088e+00  4.41167940e+03 -2.40256082e+02 -9.30243733e+02\n",
      "   2.04892910e+02  7.71375869e+01]]\n",
      "[-4736132.78732648]\n",
      "0.19916387049455386\n"
     ]
    }
   ],
   "source": [
    "print(linreg_drop_filled.coef_)\n",
    "print(linreg_drop_filled.intercept_)\n",
    "print(linreg_drop_filled.score(sorted_X_drop_filled, y))"
   ]
  },
  {
   "cell_type": "code",
   "execution_count": 228,
   "metadata": {},
   "outputs": [
    {
     "name": "stdout",
     "output_type": "stream",
     "text": [
      "[[ 6.08547095e+06]\n",
      " [ 2.34385171e+07]\n",
      " [ 1.26487693e+07]\n",
      " [ 3.45003713e+07]\n",
      " [ 8.35617485e+07]\n",
      " [ 1.57661087e+07]\n",
      " [ 1.33969800e+07]\n",
      " [ 2.28906637e+07]\n",
      " [ 4.62142903e+07]\n",
      " [ 8.87184287e+07]\n",
      " [ 1.86526376e+07]\n",
      " [ 8.05300664e+06]\n",
      " [ 9.94765843e+06]\n",
      " [ 2.77031408e+07]\n",
      " [ 9.71598978e+06]\n",
      " [ 1.58900302e+07]\n",
      " [ 1.79890409e+07]\n",
      " [ 4.87691622e+07]\n",
      " [ 1.76506106e+07]\n",
      " [ 1.36049035e+07]\n",
      " [ 8.21789292e+06]\n",
      " [ 3.18727675e+06]\n",
      " [ 1.44566465e+07]\n",
      " [ 8.66302266e+06]\n",
      " [ 4.74650405e+07]\n",
      " [ 1.31935110e+07]\n",
      " [ 1.31882401e+08]\n",
      " [-9.10337233e+06]\n",
      " [ 1.05209597e+07]\n",
      " [ 1.28149608e+07]\n",
      " [ 2.65621077e+07]\n",
      " [ 1.61937350e+06]\n",
      " [ 2.72248349e+07]\n",
      " [ 1.31968685e+07]\n",
      " [ 1.77802500e+07]\n",
      " [ 1.68206158e+07]\n",
      " [ 1.15639630e+07]\n",
      " [ 5.96034130e+06]\n",
      " [ 1.72582018e+07]\n",
      " [ 5.10485462e+07]\n",
      " [ 1.07806048e+07]\n",
      " [ 1.31268647e+07]\n",
      " [ 7.15155979e+07]\n",
      " [ 1.85420176e+07]\n",
      " [ 3.67103881e+07]\n",
      " [ 1.57734832e+07]\n",
      " [ 2.81316478e+07]\n",
      " [ 7.29587111e+06]\n",
      " [ 1.85740444e+07]\n",
      " [ 5.64019825e+06]]\n",
      "    TotalAmountofAssistance\n",
      "0                 9567164.0\n",
      "1                 1174323.0\n",
      "2                61208016.0\n",
      "3                23756565.0\n",
      "4                58722209.0\n",
      "5                 6304206.0\n",
      "6                  491729.0\n",
      "7                23750266.0\n",
      "8                 8467648.0\n",
      "9                 7307409.0\n",
      "10                1153848.0\n",
      "11               63476066.0\n",
      "12                 733911.0\n",
      "13                3526853.0\n",
      "14                8555854.0\n",
      "15                2802130.0\n",
      "16               11046095.0\n",
      "17                5171076.0\n",
      "18               21021782.0\n",
      "19                1459180.0\n",
      "20                1718854.0\n",
      "21                3543100.0\n",
      "22               29357835.0\n",
      "23                4677028.0\n",
      "24                2102663.0\n",
      "25                 542585.0\n",
      "26              176369306.0\n",
      "27                 686913.0\n",
      "28                9134015.0\n",
      "29                 996776.0\n",
      "30                 428543.0\n",
      "31               48503359.0\n",
      "32                  53672.0\n",
      "33               39346669.0\n",
      "34                3038155.0\n",
      "35                 560909.0\n",
      "36               25808865.0\n",
      "37                2136747.0\n",
      "38                 635939.0\n",
      "39              145497267.0\n",
      "40                6976448.0\n",
      "41                1536871.0\n",
      "42               39546994.0\n",
      "43                 736194.0\n",
      "44                2039514.0\n",
      "45                2405926.0\n",
      "46                2509973.0\n",
      "47                9860324.0\n",
      "48                1052654.0\n",
      "49                 229763.0\n"
     ]
    }
   ],
   "source": [
    "y_pred_drop_filled = linreg_drop_filled.predict(sorted_X_test_drop_filled)\n",
    "print(y_pred_drop_filled)\n",
    "print(y_test)"
   ]
  },
  {
   "cell_type": "code",
   "execution_count": 229,
   "metadata": {},
   "outputs": [
    {
     "name": "stdout",
     "output_type": "stream",
     "text": [
      "28641664.952540006\n"
     ]
    }
   ],
   "source": [
    "mse_drop_filled = metrics.mean_squared_error(y_test, y_pred_drop_filled)\n",
    "print(math.sqrt(mse_drop_filled))"
   ]
  }
 ],
 "metadata": {
  "kernelspec": {
   "display_name": "base",
   "language": "python",
   "name": "python3"
  },
  "language_info": {
   "codemirror_mode": {
    "name": "ipython",
    "version": 3
   },
   "file_extension": ".py",
   "mimetype": "text/x-python",
   "name": "python",
   "nbconvert_exporter": "python",
   "pygments_lexer": "ipython3",
   "version": "3.8.8"
  },
  "orig_nbformat": 4,
  "vscode": {
   "interpreter": {
    "hash": "cd78fef2128015050713e82ca51c6520b11aee7c9ee8df750520bbbc7384cbaa"
   }
  }
 },
 "nbformat": 4,
 "nbformat_minor": 2
}
