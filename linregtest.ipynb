{
 "cells": [
  {
   "cell_type": "code",
   "execution_count": 2,
   "metadata": {},
   "outputs": [],
   "source": [
    "import numpy as np\n",
    "import pandas as pd\n",
    "import matplotlib as plt\n",
    "from sklearn import linear_model, metrics\n",
    "from sklearn.linear_model import Lasso"
   ]
  },
  {
   "cell_type": "code",
   "execution_count": 3,
   "metadata": {},
   "outputs": [],
   "source": [
    "data = pd.read_csv(\"./chevron.csv\")\n",
    "# Clean data:\n",
    "# get rid of zeros\n",
    "# make sure that empty cells is filled in with 0\n",
    "# drop non states (US, etc.)\n",
    "# lots of 0's\n",
    "# get rid of random features that are duplicates\n",
    "# drop conversion factor columns\n",
    "\n",
    "## Filter stuff out\n",
    "# states\n",
    "## dropping DC, US, Gulf of Mexico, \n",
    "## factors\n",
    "\n",
    "## Convert stuff to billion btu\n",
    "# fuel ethanol\n",
    "\n",
    "# add additional data\n",
    "## add CO2 emissions data\n",
    "## some other stuff?\n",
    "## aggregate data?\n",
    "\n",
    "# normalize the features\n",
    "# adjust the weights\n",
    "# LASSO, some other method\n",
    "\n",
    "# other thoughts:\n",
    "## LP normalization: is this what we want?\n",
    "## if everything is in the same unit... then do we need to normalize?\n",
    "## "
   ]
  },
  {
   "cell_type": "code",
   "execution_count": 4,
   "metadata": {},
   "outputs": [
    {
     "name": "stdout",
     "output_type": "stream",
     "text": [
      "   Unnamed: 0    MSN StateCode  Year   Amount   State  CO2 Emissions (Mmt)  \\\n",
      "0           0  BDFDB        AK  2015     21.0  Alaska            35.027804   \n",
      "1           1  BDPRP        AK  2015      4.0  Alaska            35.027804   \n",
      "2           2  BFFDB        AK  2015     21.0  Alaska            35.027804   \n",
      "3           3  BFPRP        AK  2015      4.0  Alaska            35.027804   \n",
      "4           4  CLPRB        AK  2015  17747.0  Alaska            35.027804   \n",
      "\n",
      "   TotalNumberofInvestments  TotalAmountofAssistance  \n",
      "0                      16.0                3345612.0  \n",
      "1                      16.0                3345612.0  \n",
      "2                      16.0                3345612.0  \n",
      "3                      16.0                3345612.0  \n",
      "4                      16.0                3345612.0  \n",
      "(7595, 9)\n"
     ]
    }
   ],
   "source": [
    "print(data.head())\n",
    "print(data.shape)"
   ]
  },
  {
   "cell_type": "code",
   "execution_count": 5,
   "metadata": {},
   "outputs": [],
   "source": [
    "# Clean the data\n",
    "# Drop unnecessary rows"
   ]
  },
  {
   "cell_type": "code",
   "execution_count": 6,
   "metadata": {},
   "outputs": [
    {
     "name": "stdout",
     "output_type": "stream",
     "text": [
      "   Unnamed: 0    MSN StateCode  Year   Amount   State  CO2 Emissions (Mmt)  \\\n",
      "0           0  BDFDB        AK  2015     21.0  Alaska            35.027804   \n",
      "1           1  BDPRP        AK  2015      4.0  Alaska            35.027804   \n",
      "2           2  BFFDB        AK  2015     21.0  Alaska            35.027804   \n",
      "3           3  BFPRP        AK  2015      4.0  Alaska            35.027804   \n",
      "4           4  CLPRB        AK  2015  17747.0  Alaska            35.027804   \n",
      "\n",
      "   TotalNumberofInvestments  TotalAmountofAssistance  \n",
      "0                      16.0                3345612.0  \n",
      "1                      16.0                3345612.0  \n",
      "2                      16.0                3345612.0  \n",
      "3                      16.0                3345612.0  \n",
      "4                      16.0                3345612.0  \n",
      "(7250, 9)\n",
      "['AK' 'AL' 'AR' 'AZ' 'CA' 'CO' 'CT' 'DE' 'FL' 'GA' 'HI' 'IA' 'ID' 'IL'\n",
      " 'IN' 'KS' 'KY' 'LA' 'MA' 'MD' 'ME' 'MI' 'MN' 'MO' 'MS' 'MT' 'NC' 'ND'\n",
      " 'NE' 'NH' 'NJ' 'NM' 'NV' 'NY' 'OH' 'OK' 'OR' 'PA' 'RI' 'SC' 'SD' 'TN'\n",
      " 'TX' 'UT' 'VA' 'VT' 'WA' 'WI' 'WV' 'WY']\n",
      "50\n"
     ]
    }
   ],
   "source": [
    "# Drop DC, US, Gulf of Mexico, Pacific\n",
    "clean_df = data.query(\"StateCode != 'DC'\").query(\"StateCode != 'US'\").query(\"StateCode != 'X3'\").query(\"StateCode != 'X5'\")\n",
    "print(clean_df.head())\n",
    "print(clean_df.shape)\n",
    "print(clean_df.StateCode.unique())\n",
    "print(clean_df.StateCode.unique().size)"
   ]
  },
  {
   "cell_type": "code",
   "execution_count": 7,
   "metadata": {},
   "outputs": [
    {
     "name": "stdout",
     "output_type": "stream",
     "text": [
      "(6250, 9)\n",
      "      Unnamed: 0    MSN StateCode  Year   Amount          State  \\\n",
      "1              1  BDPRP        AK  2015    21.84         Alaska   \n",
      "30            30  BDPRP        AL  2015  1943.76        Alabama   \n",
      "59            59  BDPRP        AR  2015  4449.90       Arkansas   \n",
      "88            88  BDPRP        AZ  2015    10.92        Arizona   \n",
      "117          117  BDPRP        CA  2015  4078.62     California   \n",
      "...          ...    ...       ...   ...      ...            ...   \n",
      "7440        7440  BDPRP        VT  2019     0.00        Vermont   \n",
      "7469        7469  BDPRP        WA  2019  9871.68     Washington   \n",
      "7498        7498  BDPRP        WI  2019  3510.78      Wisconsin   \n",
      "7527        7527  BDPRP        WV  2019     0.00  West Virginia   \n",
      "7556        7556  BDPRP        WY  2019     0.00        Wyoming   \n",
      "\n",
      "      CO2 Emissions (Mmt)  TotalNumberofInvestments  TotalAmountofAssistance  \n",
      "1               35.027804                      16.0                3345612.0  \n",
      "30             119.200889                     164.0                1864412.0  \n",
      "59              59.053365                     477.0               13453887.0  \n",
      "88              94.978784                      65.0                1724853.0  \n",
      "117            351.408516                    1023.0               30077512.0  \n",
      "...                   ...                       ...                      ...  \n",
      "7440             6.020391                      27.0                1121855.0  \n",
      "7469            84.169482                      88.0               18389113.0  \n",
      "7498            94.822424                     103.0                2915140.0  \n",
      "7527            85.445996                      44.0                 790383.0  \n",
      "7556            59.096649                      32.0                 570570.0  \n",
      "\n",
      "[250 rows x 9 columns]\n",
      "(6250, 9)\n"
     ]
    },
    {
     "name": "stderr",
     "output_type": "stream",
     "text": [
      "/Applications/anaconda3/lib/python3.8/site-packages/pandas/core/indexing.py:1773: SettingWithCopyWarning: \n",
      "A value is trying to be set on a copy of a slice from a DataFrame.\n",
      "Try using .loc[row_indexer,col_indexer] = value instead\n",
      "\n",
      "See the caveats in the documentation: https://pandas.pydata.org/pandas-docs/stable/user_guide/indexing.html#returning-a-view-versus-a-copy\n",
      "  self._setitem_single_column(ilocs[0], value, pi)\n"
     ]
    }
   ],
   "source": [
    "# Convert everything to billion btu\n",
    "## Convert biodiesel to billion btu\n",
    "clean_df = clean_df\n",
    "# Remove the BDFDB, BFFDB, BFPRP, EMFDB\n",
    "clean_df = clean_df.query(\"MSN != 'BDFDB'\").query(\"MSN != 'BFFDB'\").query(\"MSN != 'BFPRP'\").query(\"MSN != 'EMFDB'\")\n",
    "print(clean_df.shape)\n",
    "# Convert biodiesel to energy\n",
    "biodiesel_converted = clean_df.query(\"MSN == 'BDPRP'\")\n",
    "# print(biodiesel_converted['Amount'])\n",
    "biodiesel_converted.loc[:, \"Amount\"] = biodiesel_converted.loc[:, \"Amount\"] * 5.46\n",
    "print(biodiesel_converted)\n",
    "non_bdprp = clean_df.query(\"MSN != 'BDPRP'\")\n",
    "clean_df = pd.concat([non_bdprp, biodiesel_converted])\n",
    "print(clean_df.shape)\n"
   ]
  },
  {
   "cell_type": "code",
   "execution_count": null,
   "metadata": {},
   "outputs": [],
   "source": []
  },
  {
   "cell_type": "code",
   "execution_count": 8,
   "metadata": {},
   "outputs": [
    {
     "name": "stdout",
     "output_type": "stream",
     "text": [
      "9           0.0\n",
      "38          0.0\n",
      "67          0.0\n",
      "96       1154.0\n",
      "125      4650.0\n",
      "         ...   \n",
      "7448        0.0\n",
      "7477        0.0\n",
      "7506    15000.0\n",
      "7535        0.0\n",
      "7564        0.0\n",
      "Name: Amount, Length: 250, dtype: float64\n",
      "9           0.000\n",
      "38          0.000\n",
      "67          0.000\n",
      "96       3683.568\n",
      "125     14842.800\n",
      "          ...    \n",
      "7448        0.000\n",
      "7477        0.000\n",
      "7506    47880.000\n",
      "7535        0.000\n",
      "7564        0.000\n",
      "Name: Amount, Length: 250, dtype: float64\n",
      "(6250, 9)\n"
     ]
    },
    {
     "name": "stderr",
     "output_type": "stream",
     "text": [
      "/Applications/anaconda3/lib/python3.8/site-packages/pandas/core/indexing.py:1773: SettingWithCopyWarning: \n",
      "A value is trying to be set on a copy of a slice from a DataFrame.\n",
      "Try using .loc[row_indexer,col_indexer] = value instead\n",
      "\n",
      "See the caveats in the documentation: https://pandas.pydata.org/pandas-docs/stable/user_guide/indexing.html#returning-a-view-versus-a-copy\n",
      "  self._setitem_single_column(ilocs[0], value, pi)\n"
     ]
    }
   ],
   "source": [
    "# Convert ethanol to energy\n",
    "ethanol_converted = clean_df.query(\"MSN == 'ENPRP'\")\n",
    "print(ethanol_converted['Amount'])\n",
    "ethanol_converted.loc[:, \"Amount\"] = ethanol_converted.loc[:, \"Amount\"] * 3.192\n",
    "print(ethanol_converted['Amount'])\n",
    "non_enprp = clean_df.query(\"MSN != 'ENPRP'\")\n",
    "clean_df = pd.concat([non_enprp, ethanol_converted])\n",
    "print(clean_df.shape)"
   ]
  },
  {
   "cell_type": "code",
   "execution_count": 9,
   "metadata": {},
   "outputs": [
    {
     "name": "stdout",
     "output_type": "stream",
     "text": [
      "      Unnamed: 0    MSN StateCode  Year    Amount          State  \\\n",
      "4              4  CLPRB        AK  2015   17747.0         Alaska   \n",
      "10            10  GETCB        AK  2015     186.0         Alaska   \n",
      "11            11  HYTCB        AK  2015   14621.0         Alaska   \n",
      "12            12  NCPRB        AK  2015   16298.0         Alaska   \n",
      "13            13  NGMPB        AK  2015  380887.0         Alaska   \n",
      "...          ...    ...       ...   ...       ...            ...   \n",
      "7448        7448  ENPRP        VT  2019       0.0        Vermont   \n",
      "7477        7477  ENPRP        WA  2019       0.0     Washington   \n",
      "7506        7506  ENPRP        WI  2019   47880.0      Wisconsin   \n",
      "7535        7535  ENPRP        WV  2019       0.0  West Virginia   \n",
      "7564        7564  ENPRP        WY  2019       0.0        Wyoming   \n",
      "\n",
      "      CO2 Emissions (Mmt)  TotalNumberofInvestments  TotalAmountofAssistance  \n",
      "4               35.027804                      16.0                3345612.0  \n",
      "10              35.027804                      16.0                3345612.0  \n",
      "11              35.027804                      16.0                3345612.0  \n",
      "12              35.027804                      16.0                3345612.0  \n",
      "13              35.027804                      16.0                3345612.0  \n",
      "...                   ...                       ...                      ...  \n",
      "7448             6.020391                      27.0                1121855.0  \n",
      "7477            84.169482                      88.0               18389113.0  \n",
      "7506            94.822424                     103.0                2915140.0  \n",
      "7535            85.445996                      44.0                 790383.0  \n",
      "7564            59.096649                      32.0                 570570.0  \n",
      "\n",
      "[4750 rows x 9 columns]\n"
     ]
    }
   ],
   "source": [
    "clean_df = clean_df.query(\"MSN != 'CLPRK'\").query(\"MSN != 'CLPRP'\").query(\"MSN != 'COPRK'\") \\\n",
    "                    .query(\"MSN != 'PAPRP'\").query(\"MSN != 'NGMPK'\").query(\"MSN != 'NGMPP'\")\n",
    "print(clean_df)\n"
   ]
  },
  {
   "cell_type": "code",
   "execution_count": 11,
   "metadata": {},
   "outputs": [
    {
     "name": "stdout",
     "output_type": "stream",
     "text": [
      "      Unnamed: 0    MSN StateCode  Year    Amount    State  \\\n",
      "1              1  BDPRP        AK  2015     21.84   Alaska   \n",
      "4              4  CLPRB        AK  2015  17747.00   Alaska   \n",
      "9              9  ENPRP        AK  2015      0.00   Alaska   \n",
      "10            10  GETCB        AK  2015    186.00   Alaska   \n",
      "11            11  HYTCB        AK  2015  14621.00   Alaska   \n",
      "...          ...    ...       ...   ...       ...      ...   \n",
      "7579        7579  WDPRB        WY  2019   4969.00  Wyoming   \n",
      "7580        7580  WDTCB        WY  2019   4969.00  Wyoming   \n",
      "7581        7581  WSTCB        WY  2019      0.00  Wyoming   \n",
      "7582        7582  WWPRB        WY  2019   4969.00  Wyoming   \n",
      "7583        7583  WYTCB        WY  2019  37070.00  Wyoming   \n",
      "\n",
      "      CO2 Emissions (Mmt)  TotalNumberofInvestments  TotalAmountofAssistance  \n",
      "1               35.027804                      16.0                3345612.0  \n",
      "4               35.027804                      16.0                3345612.0  \n",
      "9               35.027804                      16.0                3345612.0  \n",
      "10              35.027804                      16.0                3345612.0  \n",
      "11              35.027804                      16.0                3345612.0  \n",
      "...                   ...                       ...                      ...  \n",
      "7579            59.096649                      32.0                 570570.0  \n",
      "7580            59.096649                      32.0                 570570.0  \n",
      "7581            59.096649                      32.0                 570570.0  \n",
      "7582            59.096649                      32.0                 570570.0  \n",
      "7583            59.096649                      32.0                 570570.0  \n",
      "\n",
      "[4750 rows x 9 columns]\n"
     ]
    }
   ],
   "source": [
    "# Sort and reindex dataframe\n",
    "print(clean_df.sort_values('Unnamed: 0'))\n",
    "clean_df.reset_index(drop=True, inplace=True)"
   ]
  },
  {
   "cell_type": "code",
   "execution_count": 12,
   "metadata": {},
   "outputs": [
    {
     "name": "stdout",
     "output_type": "stream",
     "text": [
      "      Unnamed: 0    MSN StateCode  Year    Amount          State  \\\n",
      "0              4  CLPRB        AK  2015   17747.0         Alaska   \n",
      "1             10  GETCB        AK  2015     186.0         Alaska   \n",
      "2             11  HYTCB        AK  2015   14621.0         Alaska   \n",
      "3             12  NCPRB        AK  2015   16298.0         Alaska   \n",
      "4             13  NGMPB        AK  2015  380887.0         Alaska   \n",
      "...          ...    ...       ...   ...       ...            ...   \n",
      "4745        7448  ENPRP        VT  2019       0.0        Vermont   \n",
      "4746        7477  ENPRP        WA  2019       0.0     Washington   \n",
      "4747        7506  ENPRP        WI  2019   47880.0      Wisconsin   \n",
      "4748        7535  ENPRP        WV  2019       0.0  West Virginia   \n",
      "4749        7564  ENPRP        WY  2019       0.0        Wyoming   \n",
      "\n",
      "      CO2 Emissions (Mmt)  TotalNumberofInvestments  TotalAmountofAssistance  \n",
      "0               35.027804                      16.0                3345612.0  \n",
      "1               35.027804                      16.0                3345612.0  \n",
      "2               35.027804                      16.0                3345612.0  \n",
      "3               35.027804                      16.0                3345612.0  \n",
      "4               35.027804                      16.0                3345612.0  \n",
      "...                   ...                       ...                      ...  \n",
      "4745             6.020391                      27.0                1121855.0  \n",
      "4746            84.169482                      88.0               18389113.0  \n",
      "4747            94.822424                     103.0                2915140.0  \n",
      "4748            85.445996                      44.0                 790383.0  \n",
      "4749            59.096649                      32.0                 570570.0  \n",
      "\n",
      "[4750 rows x 9 columns]\n"
     ]
    }
   ],
   "source": [
    "print(clean_df)"
   ]
  },
  {
   "cell_type": "code",
   "execution_count": 69,
   "metadata": {},
   "outputs": [
    {
     "name": "stdout",
     "output_type": "stream",
     "text": [
      "      Unnamed: 0    MSN StateCode  Year  Amount          State  \\\n",
      "16            16  NUETB        AK  2015     0.0         Alaska   \n",
      "23            23  WDEXB        AK  2015     0.0         Alaska   \n",
      "52            52  WDEXB        AL  2015     0.0        Alabama   \n",
      "57            57  WYTCB        AL  2015     0.0        Alabama   \n",
      "81            81  WDEXB        AR  2015     0.0       Arkansas   \n",
      "...          ...    ...       ...   ...     ...            ...   \n",
      "7390        7390  ENPRP        UT  2019     0.0           Utah   \n",
      "7448        7448  ENPRP        VT  2019     0.0        Vermont   \n",
      "7477        7477  ENPRP        WA  2019     0.0     Washington   \n",
      "7535        7535  ENPRP        WV  2019     0.0  West Virginia   \n",
      "7564        7564  ENPRP        WY  2019     0.0        Wyoming   \n",
      "\n",
      "      CO2 Emissions (Mmt)  TotalNumberofInvestments  TotalAmountofAssistance  \n",
      "16              35.027804                      16.0                3345612.0  \n",
      "23              35.027804                      16.0                3345612.0  \n",
      "52             119.200889                     164.0                1864412.0  \n",
      "57             119.200889                     164.0                1864412.0  \n",
      "81              59.053365                     477.0               13453887.0  \n",
      "...                   ...                       ...                      ...  \n",
      "7390            61.503227                      71.0                 448561.0  \n",
      "7448             6.020391                      27.0                1121855.0  \n",
      "7477            84.169482                      88.0               18389113.0  \n",
      "7535            85.445996                      44.0                 790383.0  \n",
      "7564            59.096649                      32.0                 570570.0  \n",
      "\n",
      "[875 rows x 9 columns]\n"
     ]
    }
   ],
   "source": [
    "# See how many zeroes there are in the dataframe\n",
    "zeros_df = clean_df.query(\"Amount == 0\")\n",
    "print(zeros_df)"
   ]
  },
  {
   "cell_type": "code",
   "execution_count": 29,
   "metadata": {},
   "outputs": [
    {
     "name": "stdout",
     "output_type": "stream",
     "text": [
      "      Unnamed: 0    MSN StateCode  Year      Amount   State  \\\n",
      "0              4  CLPRB        AK  2015    17747.00  Alaska   \n",
      "1             10  GETCB        AK  2015      186.00  Alaska   \n",
      "2             11  HYTCB        AK  2015    14621.00  Alaska   \n",
      "3             12  NCPRB        AK  2015    16298.00  Alaska   \n",
      "4             13  NGMPB        AK  2015   380887.00  Alaska   \n",
      "5             16  NUETB        AK  2015        0.00  Alaska   \n",
      "6             17  PAPRB        AK  2015  1007501.00  Alaska   \n",
      "7             19  REPRB        AK  2015    23807.00  Alaska   \n",
      "8             20  SOTCB        AK  2015        3.00  Alaska   \n",
      "9             21  TEPRB        AK  2015  1429942.00  Alaska   \n",
      "10            22  TETCB        AK  2015   614242.00  Alaska   \n",
      "11            23  WDEXB        AK  2015        0.00  Alaska   \n",
      "12            24  WDPRB        AK  2015     6865.00  Alaska   \n",
      "13            25  WDTCB        AK  2015     6865.00  Alaska   \n",
      "14            26  WSTCB        AK  2015      622.00  Alaska   \n",
      "15            27  WWPRB        AK  2015     7488.00  Alaska   \n",
      "16            28  WYTCB        AK  2015     1488.00  Alaska   \n",
      "4250           1  BDPRP        AK  2015       21.84  Alaska   \n",
      "4500           9  ENPRP        AK  2015        0.00  Alaska   \n",
      "\n",
      "      CO2 Emissions (Mmt)  TotalNumberofInvestments  TotalAmountofAssistance  \n",
      "0               35.027804                      16.0                3345612.0  \n",
      "1               35.027804                      16.0                3345612.0  \n",
      "2               35.027804                      16.0                3345612.0  \n",
      "3               35.027804                      16.0                3345612.0  \n",
      "4               35.027804                      16.0                3345612.0  \n",
      "5               35.027804                      16.0                3345612.0  \n",
      "6               35.027804                      16.0                3345612.0  \n",
      "7               35.027804                      16.0                3345612.0  \n",
      "8               35.027804                      16.0                3345612.0  \n",
      "9               35.027804                      16.0                3345612.0  \n",
      "10              35.027804                      16.0                3345612.0  \n",
      "11              35.027804                      16.0                3345612.0  \n",
      "12              35.027804                      16.0                3345612.0  \n",
      "13              35.027804                      16.0                3345612.0  \n",
      "14              35.027804                      16.0                3345612.0  \n",
      "15              35.027804                      16.0                3345612.0  \n",
      "16              35.027804                      16.0                3345612.0  \n",
      "4250            35.027804                      16.0                3345612.0  \n",
      "4500            35.027804                      16.0                3345612.0  \n",
      "3345612.0\n",
      "<class 'numpy.float64'>\n",
      "['CLPRB' 'GETCB' 'HYTCB' 'NCPRB' 'NGMPB' 'NUETB' 'PAPRB' 'REPRB' 'SOTCB'\n",
      " 'TEPRB' 'TETCB' 'WDEXB' 'WDPRB' 'WDTCB' 'WSTCB' 'WWPRB' 'WYTCB' 'BDPRP'\n",
      " 'ENPRP']\n",
      "19\n"
     ]
    }
   ],
   "source": [
    "# Test Query Code\n",
    "test_query = clean_df.query(\"StateCode == 'AK' & Year == 2015\")\n",
    "print(test_query)\n",
    "print(test_query.iloc[0, 8])\n",
    "print(type(test_query.iloc[0, 8]))\n",
    "\n",
    "# See how many features we have remaining\n",
    "print(clean_df.MSN.unique())\n",
    "print(clean_df.MSN.unique().size)"
   ]
  },
  {
   "cell_type": "code",
   "execution_count": 33,
   "metadata": {},
   "outputs": [
    {
     "name": "stdout",
     "output_type": "stream",
     "text": [
      "      Unnamed: 0    MSN StateCode  Year    Amount          State  \\\n",
      "0              4  CLPRB        AK  2015   17747.0         Alaska   \n",
      "1             10  GETCB        AK  2015     186.0         Alaska   \n",
      "2             11  HYTCB        AK  2015   14621.0         Alaska   \n",
      "3             12  NCPRB        AK  2015   16298.0         Alaska   \n",
      "4             13  NGMPB        AK  2015  380887.0         Alaska   \n",
      "...          ...    ...       ...   ...       ...            ...   \n",
      "4745        7448  ENPRP        VT  2019       0.0        Vermont   \n",
      "4746        7477  ENPRP        WA  2019       0.0     Washington   \n",
      "4747        7506  ENPRP        WI  2019   47880.0      Wisconsin   \n",
      "4748        7535  ENPRP        WV  2019       0.0  West Virginia   \n",
      "4749        7564  ENPRP        WY  2019       0.0        Wyoming   \n",
      "\n",
      "      CO2 Emissions (Mmt)  TotalNumberofInvestments  TotalAmountofAssistance  \n",
      "0               35.027804                      16.0                3345612.0  \n",
      "1               35.027804                      16.0                3345612.0  \n",
      "2               35.027804                      16.0                3345612.0  \n",
      "3               35.027804                      16.0                3345612.0  \n",
      "4               35.027804                      16.0                3345612.0  \n",
      "...                   ...                       ...                      ...  \n",
      "4745             6.020391                      27.0                1121855.0  \n",
      "4746            84.169482                      88.0               18389113.0  \n",
      "4747            94.822424                     103.0                2915140.0  \n",
      "4748            85.445996                      44.0                 790383.0  \n",
      "4749            59.096649                      32.0                 570570.0  \n",
      "\n",
      "[4750 rows x 9 columns]\n",
      "['AK' 'AL' 'AR' 'AZ' 'CA' 'CO' 'CT' 'DE' 'FL' 'GA' 'HI' 'IA' 'ID' 'IL'\n",
      " 'IN' 'KS' 'KY' 'LA' 'MA' 'MD' 'ME' 'MI' 'MN' 'MO' 'MS' 'MT' 'NC' 'ND'\n",
      " 'NE' 'NH' 'NJ' 'NM' 'NV' 'NY' 'OH' 'OK' 'OR' 'PA' 'RI' 'SC' 'SD' 'TN'\n",
      " 'TX' 'UT' 'VA' 'VT' 'WA' 'WI' 'WV' 'WY']\n",
      "50\n"
     ]
    }
   ],
   "source": [
    "# alaska_df = clean_df.loc[clean_df[\"StateCode\"] == \"AK\"]\n",
    "print(clean_df)\n",
    "print(clean_df.StateCode.unique())\n",
    "print(clean_df.StateCode.unique().size)"
   ]
  },
  {
   "cell_type": "code",
   "execution_count": 34,
   "metadata": {},
   "outputs": [],
   "source": [
    "### Test on all states\n",
    "# Generate all years and all states\n",
    "all_years = [2015, 2016, 2017, 2018, 2019]\n",
    "all_states = clean_df.StateCode.unique()"
   ]
  },
  {
   "cell_type": "code",
   "execution_count": 39,
   "metadata": {},
   "outputs": [
    {
     "name": "stdout",
     "output_type": "stream",
     "text": [
      "      Unnamed: 0    MSN StateCode  Year    Amount          State  \\\n",
      "0              4  CLPRB        AK  2015   17747.0         Alaska   \n",
      "1             10  GETCB        AK  2015     186.0         Alaska   \n",
      "2             11  HYTCB        AK  2015   14621.0         Alaska   \n",
      "3             12  NCPRB        AK  2015   16298.0         Alaska   \n",
      "4             13  NGMPB        AK  2015  380887.0         Alaska   \n",
      "...          ...    ...       ...   ...       ...            ...   \n",
      "4745        7448  ENPRP        VT  2019       0.0        Vermont   \n",
      "4746        7477  ENPRP        WA  2019       0.0     Washington   \n",
      "4747        7506  ENPRP        WI  2019   47880.0      Wisconsin   \n",
      "4748        7535  ENPRP        WV  2019       0.0  West Virginia   \n",
      "4749        7564  ENPRP        WY  2019       0.0        Wyoming   \n",
      "\n",
      "      CO2 Emissions (Mmt)  TotalNumberofInvestments  TotalAmountofAssistance  \n",
      "0               35.027804                      16.0                3345612.0  \n",
      "1               35.027804                      16.0                3345612.0  \n",
      "2               35.027804                      16.0                3345612.0  \n",
      "3               35.027804                      16.0                3345612.0  \n",
      "4               35.027804                      16.0                3345612.0  \n",
      "...                   ...                       ...                      ...  \n",
      "4745             6.020391                      27.0                1121855.0  \n",
      "4746            84.169482                      88.0               18389113.0  \n",
      "4747            94.822424                     103.0                2915140.0  \n",
      "4748            85.445996                      44.0                 790383.0  \n",
      "4749            59.096649                      32.0                 570570.0  \n",
      "\n",
      "[4750 rows x 9 columns]\n",
      "['AK' 'AL' 'AR' 'AZ' 'CA' 'CO' 'CT' 'DE' 'FL' 'GA' 'HI' 'IA' 'ID' 'IL'\n",
      " 'IN' 'KS' 'KY' 'LA' 'MA' 'MD' 'ME' 'MI' 'MN' 'MO' 'MS' 'MT' 'NC' 'ND'\n",
      " 'NE' 'NH' 'NJ' 'NM' 'NV' 'NY' 'OH' 'OK' 'OR' 'PA' 'RI' 'SC' 'SD' 'TN'\n",
      " 'TX' 'UT' 'VA' 'VT' 'WA' 'WI' 'WV' 'WY']\n"
     ]
    }
   ],
   "source": [
    "print(clean_df)\n",
    "print(all_states)"
   ]
  },
  {
   "cell_type": "code",
   "execution_count": 75,
   "metadata": {},
   "outputs": [
    {
     "name": "stdout",
     "output_type": "stream",
     "text": [
      "    TotalAmountofAssistance\n",
      "0                 3345612.0\n",
      "1                 1864412.0\n",
      "2                13453887.0\n",
      "3                 1724853.0\n",
      "4                30077512.0\n",
      "..                      ...\n",
      "245               1121855.0\n",
      "246              18389113.0\n",
      "247               2915140.0\n",
      "248                790383.0\n",
      "249                570570.0\n",
      "\n",
      "[250 rows x 1 columns]\n"
     ]
    }
   ],
   "source": [
    "# Create Response Variable\n",
    "\n",
    "num_datapoints = len(all_years) * len(all_states) \n",
    "num_cols = 1\n",
    "y = pd.DataFrame(index=range(num_datapoints), columns=[\"TotalAmountofAssistance\"])\n",
    "investment_vals = []\n",
    "for year in all_years:\n",
    "    for state in all_states:\n",
    "        state_query = \"StateCode == \" + \"'\" + str(state) + \"'\"\n",
    "        year_query = \"Year == \" + str(year)\n",
    "        investment_year_state = clean_df.query(year_query + \" & \" + state_query)\n",
    "        # print(\"INVESTMENT YEAR QUERY DF\")\n",
    "        # print(investment_year.head())\n",
    "        # print(investment_year.shape)\n",
    "        investment_year_val = investment_year_state.iloc[0, 8]\n",
    "        investment_vals.append(investment_year_val)\n",
    "for yIdx in range(num_datapoints):\n",
    "    y.at[yIdx, \"TotalAmountofAssistance\"] = investment_vals[yIdx]\n",
    "# y.at[0][\"TotalAmountofAssistance\"] = data[\"TotalAmountofAssistance\"][0]\n",
    "# print(y)\n",
    "# y.at[1][\"TotalAmountofAssistance\"] = data[\"TotalAmountofAssistance\"][1519]\n",
    "# y.at[2][\"TotalAmountofAssistance\"] = data[\"TotalAmountofAssistance\"][3038]\n",
    "# y.at[3][\"TotalAmountofAssistance\"] = data[\"TotalAmountofAssistance\"][4557]\n",
    "# y.at[4][\"TotalAmountofAssistance\"] = data[\"TotalAmountofAssistance\"][6076]\n",
    "# for investment_idx in range(5):\n",
    "#     print(investment_idx)\n",
    "#     print(data[\"TotalAmountofAssistance\"][3038])\n",
    "#     row_idx = 1519 * investment_idx\n",
    "#     y.at[investment_idx][\"TotalAmountofAssistance\"] = data[\"TotalAmountofAssistance\"][row_idx]\n",
    "print(y)\n",
    "\n",
    "y.to_csv('assistance.csv')"
   ]
  },
  {
   "cell_type": "code",
   "execution_count": 64,
   "metadata": {},
   "outputs": [
    {
     "name": "stdout",
     "output_type": "stream",
     "text": [
      "         CLPRB  GETCB     HYTCB     NCPRB      NGMPB     NUETB     PAPRB  \\\n",
      "0      14867.0  186.0   14456.0   15951.0   364363.0       0.0  968358.0   \n",
      "1     331420.0  141.0   91902.0   92144.0   182481.0  438728.0   55421.0   \n",
      "2     247632.0  141.0   64484.0   65056.0   176290.0  417334.0   46417.0   \n",
      "3     326748.0  141.0   85103.0   87057.0   159686.0  446097.0   39100.0   \n",
      "4     370533.0  141.0  101447.0  105013.0   149607.0  412584.0   33591.0   \n",
      "..         ...    ...       ...       ...        ...       ...       ...   \n",
      "245  4828513.0  663.0    8838.0   48259.0  1684374.0       0.0  582170.0   \n",
      "246        NaN    NaN       NaN       NaN        NaN       NaN       NaN   \n",
      "247        NaN    NaN       NaN       NaN        NaN       NaN       NaN   \n",
      "248        NaN    NaN       NaN       NaN        NaN       NaN       NaN   \n",
      "249        NaN    NaN       NaN       NaN        NaN       NaN       NaN   \n",
      "\n",
      "        REPRB   SOTCB      TEPRB      TETCB   WDEXB     WDPRB     WDTCB  \\\n",
      "0     22754.0    40.0  1370342.0   605689.0     0.0    6418.0    6418.0   \n",
      "1    258955.0   101.0  1267004.0  1917138.0     0.0  163313.0  163313.0   \n",
      "2    230734.0   431.0  1118407.0  1922727.0     0.0  162166.0  162166.0   \n",
      "3    258549.0  1812.0  1230179.0  1904206.0  1137.0  168195.0  167058.0   \n",
      "4    279560.0  3425.0  1245875.0  1956413.0  4462.0  171215.0  166753.0   \n",
      "..        ...     ...        ...        ...     ...       ...       ...   \n",
      "245   53228.0  1688.0  7148285.0   546671.0     0.0    4969.0    4969.0   \n",
      "246       NaN     NaN        NaN        NaN     NaN       NaN       NaN   \n",
      "247       NaN     NaN        NaN        NaN     NaN       NaN       NaN   \n",
      "248       NaN     NaN        NaN        NaN     NaN       NaN       NaN   \n",
      "249       NaN     NaN        NaN        NaN     NaN       NaN       NaN   \n",
      "\n",
      "      WSTCB     WWPRB    WYTCB    BDPRP ENPRP  \n",
      "0     386.0    6803.0   1270.0      0.0   0.0  \n",
      "1    1565.0  164877.0      0.0  1943.76   0.0  \n",
      "2    1606.0  163772.0      0.0  1916.46   0.0  \n",
      "3    1712.0  169907.0      0.0  1594.32   0.0  \n",
      "4    1680.0  172895.0      0.0  1659.84   0.0  \n",
      "..      ...       ...      ...      ...   ...  \n",
      "245     0.0    4969.0  37070.0      0.0   0.0  \n",
      "246     NaN       NaN      NaN      NaN   NaN  \n",
      "247     NaN       NaN      NaN      NaN   NaN  \n",
      "248     NaN       NaN      NaN      NaN   NaN  \n",
      "249     NaN       NaN      NaN      NaN   NaN  \n",
      "\n",
      "[250 rows x 19 columns]\n"
     ]
    }
   ],
   "source": [
    "# num_datapoints = len(all_years) * len(all_states) \n",
    "# num_features = 19\n",
    "\n",
    "# all_msns = clean_df.MSN.unique()\n",
    "\n",
    "# X = pd.DataFrame(index=range(num_datapoints), columns=all_msns)\n",
    "\n",
    "# for yearIdx in range(len(all_years)):\n",
    "#     for stateIdx in range(len(all_states)):\n",
    "#         dataPtIdx = stateIdx * (yearIdx + 1)\n",
    "#         # print(dataPtIdx)\n",
    "#         curYear = all_years[yearIdx]\n",
    "#         curState = all_states[stateIdx]\n",
    "#         for msnIdx in range(len(all_msns)):\n",
    "#             state_query = \"StateCode == \" + \"'\" + str(curState) + \"'\"\n",
    "#             year_query = \"Year == \" + str(curYear)\n",
    "#             msn_query = \"MSN == \" + \"'\" + str(all_msns[msnIdx]) + \"'\"\n",
    "#             state_year_msn = clean_df.query(year_query + \" & \" + state_query + \" & \" + msn_query)\n",
    "#             # print(state_year_msn)\n",
    "#             amount_val = state_year_msn.iloc[0, 4]\n",
    "#             X.at[dataPtIdx, all_msns[msnIdx]] = amount_val\n",
    "\n",
    "# print(X)"
   ]
  },
  {
   "cell_type": "code",
   "execution_count": 60,
   "metadata": {},
   "outputs": [
    {
     "name": "stdout",
     "output_type": "stream",
     "text": [
      "['CLPRB' 'GETCB' 'HYTCB' 'NCPRB' 'NGMPB' 'NUETB' 'PAPRB' 'REPRB' 'SOTCB'\n",
      " 'TEPRB' 'TETCB' 'WDEXB' 'WDPRB' 'WDTCB' 'WSTCB' 'WWPRB' 'WYTCB' 'BDPRP'\n",
      " 'ENPRP']\n",
      "         CLPRB      GETCB      HYTCB      NCPRB       NGMPB      NUETB  \\\n",
      "0      17747.0      186.0    14621.0    16298.0    380887.0        0.0   \n",
      "1      91902.0    92144.0   182481.0   438728.0     55421.0   258955.0   \n",
      "2    1031466.0   144716.0    35611.0   117840.0       124.0  1331452.0   \n",
      "3        212.0   128954.0    48229.0   615867.0   1495858.0        0.0   \n",
      "4     211839.0  2352883.0  7525491.0        0.0     98852.0    98852.0   \n",
      "..         ...        ...        ...        ...         ...        ...   \n",
      "245  11034.744        0.0        0.0        0.0    7702.296        0.0   \n",
      "246   3801.672        0.0        0.0  39076.464  158715.816        0.0   \n",
      "247        0.0   3466.512        0.0        0.0   48240.696        0.0   \n",
      "248   5014.632  112549.92  80237.304  40940.592    2694.048        0.0   \n",
      "249        0.0        0.0  11232.648  47669.328         0.0   2847.264   \n",
      "\n",
      "         PAPRB      REPRB       SOTCB      TEPRB      TETCB      WDEXB  \\\n",
      "0    1007501.0    23807.0         3.0  1429942.0   614242.0        0.0   \n",
      "1        101.0  1267004.0   1917138.0        0.0   163313.0   163313.0   \n",
      "2    1062359.0        0.0     75417.0    75417.0     3799.0    79217.0   \n",
      "3       8001.0     8001.0       658.0     8659.0     4213.0        0.0   \n",
      "4      40708.0   139561.0    113967.0   403605.0      759.0    15098.0   \n",
      "..         ...        ...         ...        ...        ...        ...   \n",
      "245  332079.72   5212.536  116345.208  90371.904  39982.992     2234.4   \n",
      "246        0.0        0.0         0.0  10559.136  48298.152        0.0   \n",
      "247        0.0        0.0         0.0        0.0   1694.952  14785.344   \n",
      "248        0.0        0.0         0.0  26129.712  96101.544  21057.624   \n",
      "249   8168.328        0.0         0.0  91958.328  13655.376   22870.68   \n",
      "\n",
      "         WDPRB      WDTCB     WSTCB      WWPRB       WYTCB      BDPRP  \\\n",
      "0       6865.0     6865.0     622.0     7488.0      1488.0   331420.0   \n",
      "1       1565.0   164877.0       0.0     1819.0       808.0    33261.0   \n",
      "2          0.0   146450.0     345.0    60906.0    113693.0       99.0   \n",
      "3     112878.0   128681.0  567365.0   271086.0    193529.0  1150741.0   \n",
      "4      91789.0  1965188.0       0.0   698737.0    126586.0     6270.0   \n",
      "..         ...        ...       ...        ...         ...        ...   \n",
      "245        0.0        0.0       0.0        0.0    27435.24  93164.904   \n",
      "246   3172.848   7060.704       0.0        0.0   92526.504  13968.192   \n",
      "247  10492.104        0.0       0.0        0.0    8912.064        0.0   \n",
      "248        0.0        0.0       0.0  39603.144  159973.464        0.0   \n",
      "249        0.0    296.856       0.0        0.0     47880.0        0.0   \n",
      "\n",
      "         ENPRP  \n",
      "0        141.0  \n",
      "1      34194.0  \n",
      "2     340153.0  \n",
      "3     737527.0  \n",
      "4    3194117.0  \n",
      "..         ...  \n",
      "245  21823.704  \n",
      "246  26385.072  \n",
      "247  332398.92  \n",
      "248        0.0  \n",
      "249        0.0  \n",
      "\n",
      "[250 rows x 19 columns]\n"
     ]
    }
   ],
   "source": [
    "# Test querying features\n",
    "\n",
    "# all_msns = clean_df.MSN.unique()\n",
    "# print(all_msns)\n",
    "# X = pd.DataFrame(index=range(250), columns=all_msns)\n",
    "# data_pt_idx= 0\n",
    "# clean_df_row_idx = 0\n",
    "# for year in all_years:\n",
    "#     for state in all_states:\n",
    "#         # data point\n",
    "#         for feature_idx in range(19):\n",
    "#             X.at[data_pt_idx, all_msns[feature_idx]] = clean_df.at[clean_df_row_idx, \"Amount\"]\n",
    "#             clean_df_row_idx += 1\n",
    "#         data_pt_idx += 1\n",
    "# print(X)"
   ]
  },
  {
   "cell_type": "code",
   "execution_count": 73,
   "metadata": {},
   "outputs": [
    {
     "name": "stdout",
     "output_type": "stream",
     "text": [
      "    State  Year   BDPRP      CLPRB    ENPRP     GETCB     HYTCB     NCPRB  \\\n",
      "0      AK  2015     4.0    17747.0      0.0     186.0   14621.0   16298.0   \n",
      "5      AL  2015   356.0   331420.0      0.0     141.0   91902.0   92144.0   \n",
      "10     AR  2015   815.0     1819.0      0.0     808.0   33261.0   34194.0   \n",
      "15     AZ  2015     2.0   146450.0   1154.0     345.0   60906.0  113693.0   \n",
      "20     CA  2015   747.0        0.0   4650.0  112878.0  128681.0  567365.0   \n",
      "..    ...   ...     ...        ...      ...       ...       ...       ...   \n",
      "229    VT  2019     0.0        0.0      0.0      29.0   11906.0   18063.0   \n",
      "234    WA  2019  1808.0        0.0      0.0    1136.0  587893.0  650831.0   \n",
      "239    WI  2019   643.0        0.0  15000.0     615.0   23518.0   42338.0   \n",
      "244    WV  2019     0.0  2422224.0      0.0      32.0   15192.0   29912.0   \n",
      "249    WY  2019     0.0  4828513.0      0.0     663.0    8838.0   48259.0   \n",
      "\n",
      "         NGMPB     NUETB  ...     REPRB     SOTCB      TEPRB      TETCB  \\\n",
      "0     380887.0       0.0  ...   23807.0       3.0  1429942.0   614242.0   \n",
      "5     182481.0  438728.0  ...  258955.0     101.0  1267004.0  1917138.0   \n",
      "10   1031466.0  144716.0  ...  117840.0     124.0  1331452.0  1062359.0   \n",
      "15        99.0  340153.0  ...  128954.0   48229.0   615867.0  1495858.0   \n",
      "20    271086.0  193529.0  ...  737527.0  211839.0  2352883.0  7525491.0   \n",
      "..         ...       ...  ...       ...       ...        ...        ...   \n",
      "229        0.0       0.0  ...   40997.0    2767.0    40997.0   136905.0   \n",
      "234        0.0   92584.0  ...  779076.0    2341.0   871660.0  2078663.0   \n",
      "239        0.0  104736.0  ...  232452.0    1483.0   337188.0  1847846.0   \n",
      "244  2598072.0       0.0  ...   41973.0     163.0  5160593.0   829454.0   \n",
      "249  1684374.0       0.0  ...   53228.0    1688.0  7148285.0   546671.0   \n",
      "\n",
      "     WDEXB     WDPRB     WDTCB    WSTCB     WWPRB     WYTCB  \n",
      "0      0.0    6865.0    6865.0    622.0    7488.0    1488.0  \n",
      "5      0.0  163313.0  163313.0   1565.0  164877.0       0.0  \n",
      "10     0.0   75417.0   75417.0   3799.0   79217.0       0.0  \n",
      "15     0.0    8001.0    8001.0    658.0    8659.0    4213.0  \n",
      "20     0.0   98852.0   98852.0  40708.0  139561.0  113967.0  \n",
      "..     ...       ...       ...      ...       ...       ...  \n",
      "229    0.0   22287.0   22287.0    646.0   22933.0    3361.0  \n",
      "234    0.0  110500.0  110500.0   7919.0  118419.0   59461.0  \n",
      "239    0.0   92350.0   92350.0   8831.0  101181.0   16722.0  \n",
      "244    0.0   11833.0   11833.0    227.0   12060.0   14525.0  \n",
      "249    0.0    4969.0    4969.0      0.0    4969.0   37070.0  \n",
      "\n",
      "[250 rows x 21 columns]\n"
     ]
    }
   ],
   "source": [
    "# Create feature input matrix\n",
    "\n",
    "X = pd.read_csv(\"flipped.csv\")\n",
    "# print(X)\n",
    "\n",
    "sorted_X = X.sort_values([\"Year\", \"State\"], ascending=[True, True])\n",
    "print(sorted_X)\n",
    "\n"
   ]
  },
  {
   "cell_type": "code",
   "execution_count": 25,
   "metadata": {},
   "outputs": [
    {
     "name": "stdout",
     "output_type": "stream",
     "text": [
      "      Unnamed: 0    MSN StateCode  Year    Amount   State  \\\n",
      "0              4  CLPRB        AK  2015   17747.0  Alaska   \n",
      "1             10  GETCB        AK  2015     186.0  Alaska   \n",
      "2             11  HYTCB        AK  2015   14621.0  Alaska   \n",
      "3             12  NCPRB        AK  2015   16298.0  Alaska   \n",
      "4             13  NGMPB        AK  2015  380887.0  Alaska   \n",
      "...          ...    ...       ...   ...       ...     ...   \n",
      "4500           9  ENPRP        AK  2015       0.0  Alaska   \n",
      "4550        1528  ENPRP        AK  2016       0.0  Alaska   \n",
      "4600        3047  ENPRP        AK  2017       0.0  Alaska   \n",
      "4650        4566  ENPRP        AK  2018       0.0  Alaska   \n",
      "4700        6085  ENPRP        AK  2019       0.0  Alaska   \n",
      "\n",
      "      CO2 Emissions (Mmt)  TotalNumberofInvestments  TotalAmountofAssistance  \n",
      "0               35.027804                      16.0                3345612.0  \n",
      "1               35.027804                      16.0                3345612.0  \n",
      "2               35.027804                      16.0                3345612.0  \n",
      "3               35.027804                      16.0                3345612.0  \n",
      "4               35.027804                      16.0                3345612.0  \n",
      "...                   ...                       ...                      ...  \n",
      "4500            35.027804                      16.0                3345612.0  \n",
      "4550            33.405611                      14.0                2247734.0  \n",
      "4600            33.729130                      18.0               13509662.0  \n",
      "4650            34.514589                      44.0               18236626.0  \n",
      "4700            34.259440                      32.0               13734021.0  \n",
      "\n",
      "[95 rows x 9 columns]\n"
     ]
    }
   ],
   "source": [
    "print(alaska_df)"
   ]
  },
  {
   "cell_type": "code",
   "execution_count": null,
   "metadata": {},
   "outputs": [],
   "source": []
  },
  {
   "cell_type": "code",
   "execution_count": 26,
   "metadata": {},
   "outputs": [
    {
     "name": "stdout",
     "output_type": "stream",
     "text": [
      "MSN     BDFDB     BDPRP     BFFDB     BFPRP     CLPRB     CLPRK     CLPRP  \\\n",
      "0   -0.898188 -0.898173 -0.733353 -0.738738 -0.579055 -0.128243 -0.526746   \n",
      "1   -0.296652 -0.296501 -0.586968 -0.586262   1.51242   0.94301  1.407429   \n",
      "2    1.252345  1.251893 -0.210018 -0.193868 -0.732947  0.316033 -0.785824   \n",
      "3    -0.90489 -0.905108 -0.210173 -0.220233  0.540098   0.51974   0.70079   \n",
      "\n",
      "MSN     COPRK     EMFDB     ENPRP  ...     REPRB     SOTCB     TEPRB  \\\n",
      "0    0.350264 -0.580166 -0.579933  ... -0.677567 -0.542169  0.167092   \n",
      "1    0.811137 -0.580166 -0.579933  ... -0.224796 -0.539738 -0.289706   \n",
      "2    0.903312 -0.580166 -0.579933  ... -0.474328 -0.539675 -0.479445   \n",
      "3   -0.663658  0.011308   0.01037  ... -0.388164 -0.140189 -1.017501   \n",
      "\n",
      "MSN     TETCB     WDEXB     WDPRB     WDTCB     WSTCB     WWPRB     WYTCB  \n",
      "0   -0.667942 -0.447214 -0.979919 -0.964505 -0.510625 -1.012773 -0.448595  \n",
      "1   -0.224551 -0.447214  1.401078  1.419738 -0.454722  1.158346 -0.476136  \n",
      "2   -0.517672  1.788854  0.098514  0.031651 -0.298319  0.016315 -0.476136  \n",
      "3   -0.353493 -0.447214  -0.94248 -0.927015 -0.518181  -0.98071 -0.386795  \n",
      "\n",
      "[4 rows x 29 columns]\n",
      "MSN     BDFDB     BDPRP     BFFDB     BFPRP     CLPRB     CLPRK     CLPRP  \\\n",
      "4    0.847385  0.847889  1.740512  1.739102 -0.740516 -1.650539 -0.795648   \n",
      "\n",
      "MSN     COPRK     EMFDB     ENPRP  ...     REPRB    SOTCB    TEPRB     TETCB  \\\n",
      "4   -1.401056  1.729189  1.729429  ...  1.764855  1.76177  1.61956  1.763658   \n",
      "\n",
      "MSN     WDEXB     WDPRB     WDTCB     WSTCB     WWPRB     WYTCB  \n",
      "4   -0.447214  0.422806  0.440132  1.781848  0.818822  1.787663  \n",
      "\n",
      "[1 rows x 29 columns]\n"
     ]
    }
   ],
   "source": [
    "numRows = 5\n",
    "numCols = 29\n",
    "\n",
    "x_comb = pd.DataFrame(index=range(numRows), columns=range(numCols))\n",
    "x_comb.columns = alaska_df[\"MSN\"][0:numCols]\n",
    "\n",
    "# x = pd.DataFrame(index=range(numRows), columns=range(numCols))\n",
    "# x.columns = alaska_df[\"MSN\"][0:numCols]\n",
    "# x_test = pd.DataFrame(index=range(4, 5), columns=range(numCols))\n",
    "# x_test.columns = alaska_df[\"MSN\"][0:numCols]\n",
    "# print(x.columns)\n",
    "avgs = [[0] * numCols] * numRows\n",
    "for row_idx in range(int(alaska_df.shape[0])):\n",
    "    yr_idx = int(row_idx / numCols)\n",
    "    x_comb.at[yr_idx, x_comb.columns[row_idx % numCols]] = data.loc[1519 * yr_idx + row_idx][\"Amount\"]\n",
    "    # if row_idx < int(alaska_df.shape[0] * 4 / 5):\n",
    "    #     x.at[yr_idx, x.columns[row_idx % numCols]] = data.loc[1519 * yr_idx + row_idx][\"Amount\"]\n",
    "    # else:\n",
    "    #     x_test.at[yr_idx, x.columns[row_idx % numCols]] = data.loc[1519 * yr_idx + row_idx][\"Amount\"]\n",
    "\n",
    "norm_x_comb = (x_comb - x_comb.mean())/x_comb.std()\n",
    "\n",
    "norm_x = norm_x_comb.head(4)\n",
    "norm_x_test = norm_x_comb.tail(1)\n",
    "\n",
    "# print(x)\n",
    "# print(x_test)\n",
    "print(norm_x)\n",
    "print(norm_x_test)\n"
   ]
  },
  {
   "cell_type": "code",
   "execution_count": 32,
   "metadata": {},
   "outputs": [
    {
     "data": {
      "text/plain": [
       "LinearRegression()"
      ]
     },
     "execution_count": 32,
     "metadata": {},
     "output_type": "execute_result"
    }
   ],
   "source": [
    "reg = linear_model.LinearRegression()\n",
    "reg.fit(norm_x, y)"
   ]
  },
  {
   "cell_type": "code",
   "execution_count": 56,
   "metadata": {},
   "outputs": [],
   "source": [
    "lasso_reg = Lasso(0.01)"
   ]
  },
  {
   "cell_type": "code",
   "execution_count": 57,
   "metadata": {},
   "outputs": [
    {
     "data": {
      "text/plain": [
       "Lasso(alpha=0.01)"
      ]
     },
     "execution_count": 57,
     "metadata": {},
     "output_type": "execute_result"
    }
   ],
   "source": [
    "lasso_reg.fit(norm_x, y)"
   ]
  },
  {
   "cell_type": "code",
   "execution_count": 58,
   "metadata": {},
   "outputs": [
    {
     "name": "stdout",
     "output_type": "stream",
     "text": [
      "0.9999999999999981\n"
     ]
    }
   ],
   "source": [
    "lasso_train_score = lasso_reg.score(norm_x, y)\n",
    "print(lasso_train_score)"
   ]
  },
  {
   "cell_type": "code",
   "execution_count": 59,
   "metadata": {},
   "outputs": [
    {
     "name": "stdout",
     "output_type": "stream",
     "text": [
      "[44282914.96467288]\n"
     ]
    }
   ],
   "source": [
    "y_pred_lasso = lasso_reg.predict(norm_x_test)\n",
    "print(y_pred_lasso)"
   ]
  },
  {
   "cell_type": "code",
   "execution_count": 60,
   "metadata": {},
   "outputs": [
    {
     "name": "stdout",
     "output_type": "stream",
     "text": [
      "[ 1.50974904e+06 -1.35226473e+03  2.45032759e+07 -5.31672615e+05\n",
      " -3.91997302e+05 -2.72634955e+06  1.42367108e+06 -4.65758728e+06\n",
      " -1.01021503e+06 -0.00000000e+00 -1.26510818e+07 -4.04209822e+06\n",
      "  2.07693012e+06 -1.02497433e+05  3.19311881e+05  5.32550054e+04\n",
      " -2.28053508e+05 -2.62631040e+04  1.22792058e+01 -4.48191328e+05\n",
      "  1.54834116e+06  4.25570521e+04 -2.39660431e+05 -5.12497658e+03\n",
      " -2.07445485e+04 -9.44101376e+01  1.83503449e+04 -6.02462601e+02\n",
      "  3.22705908e+05]\n",
      "[16324509.79293481]\n"
     ]
    }
   ],
   "source": [
    "print(lasso_reg.coef_)\n",
    "print(lasso_reg.intercept_)"
   ]
  },
  {
   "cell_type": "code",
   "execution_count": 61,
   "metadata": {},
   "outputs": [
    {
     "name": "stdout",
     "output_type": "stream",
     "text": [
      "[9304626.40874828]\n",
      "[[  446070.88214614   445485.53466719   707433.75430459   706586.72209353\n",
      "   -517087.19220269    51579.55147729  -310055.3419393  -1293046.64744555\n",
      "    674952.8973394    673617.50995882    11148.79212505   149153.12733561\n",
      "    258908.56090911  -453317.75058139 -1943887.78525199  -341171.8581966\n",
      "    518574.50640231 -1552057.15946725 -1549762.78107775    46353.68936528\n",
      "    457809.92894808 -1260433.68622962    59272.21460338   987989.40591331\n",
      "  -1445936.0672543  -1484910.13242291    39043.89360253 -1300650.42063566\n",
      "     81084.47730676]]\n"
     ]
    }
   ],
   "source": [
    "print(reg.intercept_)\n",
    "print(reg.coef_)"
   ]
  },
  {
   "cell_type": "code",
   "execution_count": 37,
   "metadata": {},
   "outputs": [
    {
     "name": "stdout",
     "output_type": "stream",
     "text": [
      "[[9183498.04374109]]\n",
      "  TotalAmountofAssistance\n",
      "0               3345612.0\n",
      "1               2247734.0\n",
      "2              13509662.0\n",
      "3              18236626.0\n"
     ]
    }
   ],
   "source": [
    "y_pred = reg.predict(norm_x_test)\n",
    "print(y_pred)\n",
    "print(y)"
   ]
  },
  {
   "cell_type": "code",
   "execution_count": 41,
   "metadata": {},
   "outputs": [
    {
     "name": "stdout",
     "output_type": "stream",
     "text": [
      "20707259175439.33\n"
     ]
    }
   ],
   "source": [
    "mse = metrics.mean_squared_error([[13734021]], [[9183498.04374109]])\n",
    "print(mse)"
   ]
  }
 ],
 "metadata": {
  "kernelspec": {
   "display_name": "base",
   "language": "python",
   "name": "python3"
  },
  "language_info": {
   "codemirror_mode": {
    "name": "ipython",
    "version": 3
   },
   "file_extension": ".py",
   "mimetype": "text/x-python",
   "name": "python",
   "nbconvert_exporter": "python",
   "pygments_lexer": "ipython3",
   "version": "3.8.8"
  },
  "orig_nbformat": 4,
  "vscode": {
   "interpreter": {
    "hash": "cd78fef2128015050713e82ca51c6520b11aee7c9ee8df750520bbbc7384cbaa"
   }
  }
 },
 "nbformat": 4,
 "nbformat_minor": 2
}
