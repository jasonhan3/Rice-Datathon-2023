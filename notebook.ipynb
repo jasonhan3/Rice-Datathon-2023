{
 "cells": [
  {
   "cell_type": "code",
   "execution_count": 25,
   "id": "b5eb6125",
   "metadata": {},
   "outputs": [],
   "source": [
    "training_df = pd.read_csv(\"./chevron.csv\")"
   ]
  },
  {
   "cell_type": "code",
   "execution_count": 23,
   "id": "a7ec7e06",
   "metadata": {},
   "outputs": [
    {
     "name": "stdout",
     "output_type": "stream",
     "text": [
      "      Unnamed: 0    MSN StateCode  Year    Amount    State  \\\n",
      "29            29  BDFDB        AL  2015    1933.0  Alabama   \n",
      "30            30  BDPRP        AL  2015     356.0  Alabama   \n",
      "31            31  BFFDB        AL  2015    1933.0  Alabama   \n",
      "32            32  BFPRP        AL  2015     356.0  Alabama   \n",
      "33            33  CLPRB        AL  2015  331420.0  Alabama   \n",
      "...          ...    ...       ...   ...       ...      ...   \n",
      "6129        6129  WDPRB        AL  2019  169739.0  Alabama   \n",
      "6130        6130  WDTCB        AL  2019  164431.0  Alabama   \n",
      "6131        6131  WSTCB        AL  2019    1577.0  Alabama   \n",
      "6132        6132  WWPRB        AL  2019  171316.0  Alabama   \n",
      "6133        6133  WYTCB        AL  2019       0.0  Alabama   \n",
      "\n",
      "      CO2 Emissions (Mmt)  TotalNumberofInvestments  TotalAmountofAssistance  \n",
      "29             119.200889                     164.0                1864412.0  \n",
      "30             119.200889                     164.0                1864412.0  \n",
      "31             119.200889                     164.0                1864412.0  \n",
      "32             119.200889                     164.0                1864412.0  \n",
      "33             119.200889                     164.0                1864412.0  \n",
      "...                   ...                       ...                      ...  \n",
      "6129           106.250752                      54.0                 840218.0  \n",
      "6130           106.250752                      54.0                 840218.0  \n",
      "6131           106.250752                      54.0                 840218.0  \n",
      "6132           106.250752                      54.0                 840218.0  \n",
      "6133           106.250752                      54.0                 840218.0  \n",
      "\n",
      "[145 rows x 9 columns]\n"
     ]
    }
   ],
   "source": [
    "alabama_df = training_df.loc[training_df['StateCode'] == 'AL']\n",
    "print(alabama_df)"
   ]
  },
  {
   "cell_type": "code",
   "execution_count": 24,
   "id": "13925e97",
   "metadata": {},
   "outputs": [
    {
     "name": "stdout",
     "output_type": "stream",
     "text": [
      "      Unnamed: 0    MSN StateCode  Year   Amount          State  \\\n",
      "551          551  BDFDB        MA  2015     36.0  Massachusetts   \n",
      "552          552  BDPRP        MA  2015      7.0  Massachusetts   \n",
      "553          553  BFFDB        MA  2015     36.0  Massachusetts   \n",
      "554          554  BFPRP        MA  2015      7.0  Massachusetts   \n",
      "555          555  CLPRB        MA  2015      0.0  Massachusetts   \n",
      "...          ...    ...       ...   ...      ...            ...   \n",
      "6651        6651  WDPRB        MA  2019  16238.0  Massachusetts   \n",
      "6652        6652  WDTCB        MA  2019  16238.0  Massachusetts   \n",
      "6653        6653  WSTCB        MA  2019  16923.0  Massachusetts   \n",
      "6654        6654  WWPRB        MA  2019  33161.0  Massachusetts   \n",
      "6655        6655  WYTCB        MA  2019   1877.0  Massachusetts   \n",
      "\n",
      "      CO2 Emissions (Mmt)  TotalNumberofInvestments  TotalAmountofAssistance  \n",
      "551             66.746522                      34.0                4240538.0  \n",
      "552             66.746522                      34.0                4240538.0  \n",
      "553             66.746522                      34.0                4240538.0  \n",
      "554             66.746522                      34.0                4240538.0  \n",
      "555             66.746522                      34.0                4240538.0  \n",
      "...                   ...                       ...                      ...  \n",
      "6651            63.325575                      30.0                1860604.0  \n",
      "6652            63.325575                      30.0                1860604.0  \n",
      "6653            63.325575                      30.0                1860604.0  \n",
      "6654            63.325575                      30.0                1860604.0  \n",
      "6655            63.325575                      30.0                1860604.0  \n",
      "\n",
      "[145 rows x 9 columns]\n"
     ]
    }
   ],
   "source": []
  },
  {
   "cell_type": "code",
   "execution_count": null,
   "id": "2b01a3bd",
   "metadata": {},
   "outputs": [],
   "source": []
  }
 ],
 "metadata": {
  "kernelspec": {
   "display_name": "base",
   "language": "python",
   "name": "python3"
  },
  "language_info": {
   "codemirror_mode": {
    "name": "ipython",
    "version": 3
   },
   "file_extension": ".py",
   "mimetype": "text/x-python",
   "name": "python",
   "nbconvert_exporter": "python",
   "pygments_lexer": "ipython3",
   "version": "3.8.8"
  },
  "vscode": {
   "interpreter": {
    "hash": "cd78fef2128015050713e82ca51c6520b11aee7c9ee8df750520bbbc7384cbaa"
   }
  }
 },
 "nbformat": 4,
 "nbformat_minor": 5
}
