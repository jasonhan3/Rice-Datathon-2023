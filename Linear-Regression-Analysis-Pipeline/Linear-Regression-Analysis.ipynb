{
 "cells": [
  {
   "cell_type": "code",
   "execution_count": 1,
   "metadata": {},
   "outputs": [],
   "source": [
    "import numpy as np\n",
    "import pandas as pd\n",
    "import matplotlib as plt\n",
    "from sklearn import linear_model, metrics, ensemble\n",
    "from sklearn.linear_model import Lasso\n",
    "from sklearn.preprocessing import PolynomialFeatures\n",
    "import seaborn as sns\n",
    "import math"
   ]
  },
  {
   "attachments": {},
   "cell_type": "markdown",
   "metadata": {},
   "source": [
    "# Step 1: Importing Data"
   ]
  },
  {
   "cell_type": "code",
   "execution_count": 2,
   "metadata": {},
   "outputs": [],
   "source": [
    "data = pd.read_csv(\"./chevron.csv\")"
   ]
  },
  {
   "cell_type": "code",
   "execution_count": 3,
   "metadata": {},
   "outputs": [
    {
     "name": "stdout",
     "output_type": "stream",
     "text": [
      "   Unnamed: 0    MSN StateCode  Year   Amount   State  CO2 Emissions (Mmt)  \\\n",
      "0           0  BDFDB        AK  2015     21.0  Alaska            35.027804   \n",
      "1           1  BDPRP        AK  2015      4.0  Alaska            35.027804   \n",
      "2           2  BFFDB        AK  2015     21.0  Alaska            35.027804   \n",
      "3           3  BFPRP        AK  2015      4.0  Alaska            35.027804   \n",
      "4           4  CLPRB        AK  2015  17747.0  Alaska            35.027804   \n",
      "\n",
      "   TotalNumberofInvestments  TotalAmountofAssistance  \n",
      "0                      16.0                3345612.0  \n",
      "1                      16.0                3345612.0  \n",
      "2                      16.0                3345612.0  \n",
      "3                      16.0                3345612.0  \n",
      "4                      16.0                3345612.0  \n",
      "(7595, 9)\n"
     ]
    }
   ],
   "source": [
    "print(data.head())\n",
    "print(data.shape)"
   ]
  },
  {
   "attachments": {},
   "cell_type": "markdown",
   "metadata": {},
   "source": [
    "# Step 2: Cleaning Data (Dropping States and MSN's)"
   ]
  },
  {
   "cell_type": "code",
   "execution_count": 4,
   "metadata": {},
   "outputs": [
    {
     "name": "stdout",
     "output_type": "stream",
     "text": [
      "   Unnamed: 0    MSN StateCode  Year   Amount   State  CO2 Emissions (Mmt)  \\\n",
      "0           0  BDFDB        AK  2015     21.0  Alaska            35.027804   \n",
      "1           1  BDPRP        AK  2015      4.0  Alaska            35.027804   \n",
      "2           2  BFFDB        AK  2015     21.0  Alaska            35.027804   \n",
      "3           3  BFPRP        AK  2015      4.0  Alaska            35.027804   \n",
      "4           4  CLPRB        AK  2015  17747.0  Alaska            35.027804   \n",
      "\n",
      "   TotalNumberofInvestments  TotalAmountofAssistance  \n",
      "0                      16.0                3345612.0  \n",
      "1                      16.0                3345612.0  \n",
      "2                      16.0                3345612.0  \n",
      "3                      16.0                3345612.0  \n",
      "4                      16.0                3345612.0  \n",
      "(7250, 9)\n"
     ]
    }
   ],
   "source": [
    "# Drop DC, US, Gulf of Mexico, Pacific\n",
    "clean_df = data.query(\"StateCode != 'DC'\").query(\"StateCode != 'US'\").query(\"StateCode != 'X3'\").query(\"StateCode != 'X5'\")\n",
    "print(clean_df.head())\n",
    "print(clean_df.shape)\n",
    "# print(clean_df.StateCode.unique())\n",
    "# print(clean_df.StateCode.unique().size)"
   ]
  },
  {
   "attachments": {},
   "cell_type": "markdown",
   "metadata": {},
   "source": [
    "# Step 2.1: Convert all units to billion BTU"
   ]
  },
  {
   "cell_type": "code",
   "execution_count": 5,
   "metadata": {},
   "outputs": [
    {
     "name": "stderr",
     "output_type": "stream",
     "text": [
      "/Applications/anaconda3/lib/python3.8/site-packages/pandas/core/indexing.py:1773: SettingWithCopyWarning: \n",
      "A value is trying to be set on a copy of a slice from a DataFrame.\n",
      "Try using .loc[row_indexer,col_indexer] = value instead\n",
      "\n",
      "See the caveats in the documentation: https://pandas.pydata.org/pandas-docs/stable/user_guide/indexing.html#returning-a-view-versus-a-copy\n",
      "  self._setitem_single_column(ilocs[0], value, pi)\n"
     ]
    }
   ],
   "source": [
    "clean_df = clean_df\n",
    "# Remove the BDFDB, BFFDB, BFPRP, EMFDB MSN's\n",
    "clean_df = clean_df.query(\"MSN != 'BDFDB'\").query(\"MSN != 'BFFDB'\").query(\"MSN != 'BFPRP'\").query(\"MSN != 'EMFDB'\")\n",
    "# print(clean_df.shape)\n",
    "# Convert biodiesel to energy\n",
    "biodiesel_converted = clean_df.query(\"MSN == 'BDPRP'\")\n",
    "# print(biodiesel_converted['Amount'])\n",
    "# Scale the biodiesel by 5.46 (biodiesel: thousand barrels) (5.46: thousand btu/barrel)\n",
    "# Total: Billion BTU\n",
    "biodiesel_converted.loc[:, \"Amount\"] = biodiesel_converted.loc[:, \"Amount\"] * 5.46\n",
    "# print(biodiesel_converted)\n",
    "# Get all MSN's that are not BDPRP\n",
    "non_bdprp = clean_df.query(\"MSN != 'BDPRP'\")\n",
    "# Concatenate the dataframes to get clean_df again\n",
    "clean_df = pd.concat([non_bdprp, biodiesel_converted])\n",
    "# print(clean_df.shape)"
   ]
  },
  {
   "cell_type": "code",
   "execution_count": 6,
   "metadata": {},
   "outputs": [],
   "source": [
    "# Convert ethanol to energy\n",
    "ethanol_converted = clean_df.query(\"MSN == 'ENPRP'\")\n",
    "# print(ethanol_converted['Amount'])\n",
    "# Scale the biodiesel by 5.46 (ethanol: thousand barrels) (3.192: thousand btu/barrel)\n",
    "# Total: Billion BTU\n",
    "ethanol_converted.loc[:, \"Amount\"] = ethanol_converted.loc[:, \"Amount\"] * 3.192\n",
    "# print(ethanol_converted['Amount'])\n",
    "# Get all MSN's that are not ENPRP\n",
    "non_enprp = clean_df.query(\"MSN != 'ENPRP'\")\n",
    "# Concatenate dataframes to get clean_df again\n",
    "clean_df = pd.concat([non_enprp, ethanol_converted])\n",
    "# print(clean_df.shape)"
   ]
  },
  {
   "cell_type": "code",
   "execution_count": 7,
   "metadata": {},
   "outputs": [],
   "source": [
    "# Drop other MSN's that are either factors of conversion or are dependent on\n",
    "# other factors\n",
    "clean_df = clean_df.query(\"MSN != 'CLPRK'\").query(\"MSN != 'CLPRP'\").query(\"MSN != 'COPRK'\") \\\n",
    "                    .query(\"MSN != 'PAPRP'\").query(\"MSN != 'NGMPK'\").query(\"MSN != 'NGMPP'\")\n",
    "# print(clean_df)\n"
   ]
  },
  {
   "cell_type": "code",
   "execution_count": 8,
   "metadata": {},
   "outputs": [
    {
     "name": "stdout",
     "output_type": "stream",
     "text": [
      "      Unnamed: 0    MSN StateCode  Year    Amount    State  \\\n",
      "1              1  BDPRP        AK  2015     21.84   Alaska   \n",
      "4              4  CLPRB        AK  2015  17747.00   Alaska   \n",
      "9              9  ENPRP        AK  2015      0.00   Alaska   \n",
      "10            10  GETCB        AK  2015    186.00   Alaska   \n",
      "11            11  HYTCB        AK  2015  14621.00   Alaska   \n",
      "...          ...    ...       ...   ...       ...      ...   \n",
      "7579        7579  WDPRB        WY  2019   4969.00  Wyoming   \n",
      "7580        7580  WDTCB        WY  2019   4969.00  Wyoming   \n",
      "7581        7581  WSTCB        WY  2019      0.00  Wyoming   \n",
      "7582        7582  WWPRB        WY  2019   4969.00  Wyoming   \n",
      "7583        7583  WYTCB        WY  2019  37070.00  Wyoming   \n",
      "\n",
      "      CO2 Emissions (Mmt)  TotalNumberofInvestments  TotalAmountofAssistance  \n",
      "1               35.027804                      16.0                3345612.0  \n",
      "4               35.027804                      16.0                3345612.0  \n",
      "9               35.027804                      16.0                3345612.0  \n",
      "10              35.027804                      16.0                3345612.0  \n",
      "11              35.027804                      16.0                3345612.0  \n",
      "...                   ...                       ...                      ...  \n",
      "7579            59.096649                      32.0                 570570.0  \n",
      "7580            59.096649                      32.0                 570570.0  \n",
      "7581            59.096649                      32.0                 570570.0  \n",
      "7582            59.096649                      32.0                 570570.0  \n",
      "7583            59.096649                      32.0                 570570.0  \n",
      "\n",
      "[4750 rows x 9 columns]\n"
     ]
    }
   ],
   "source": [
    "# Sort and reindex dataframe by original row indices\n",
    "print(clean_df.sort_values('Unnamed: 0'))\n",
    "clean_df.reset_index(drop=True, inplace=True)"
   ]
  },
  {
   "cell_type": "code",
   "execution_count": 9,
   "metadata": {},
   "outputs": [],
   "source": [
    "# print(clean_df)"
   ]
  },
  {
   "cell_type": "code",
   "execution_count": 10,
   "metadata": {},
   "outputs": [],
   "source": [
    "# See how many zeroes there are in the dataframe\n",
    "zeros_df = clean_df.query(\"Amount == 0\")\n",
    "# print(zeros_df)"
   ]
  },
  {
   "cell_type": "code",
   "execution_count": 11,
   "metadata": {},
   "outputs": [],
   "source": [
    "# # Test Query Code\n",
    "# test_query = clean_df.query(\"StateCode == 'AK' & Year == 2015\")\n",
    "# print(test_query)\n",
    "# print(test_query.iloc[0, 8])\n",
    "# print(type(test_query.iloc[0, 8]))\n",
    "\n",
    "# # See how many features we have remaining\n",
    "# print(clean_df.MSN.unique())\n",
    "# print(clean_df.MSN.unique().size)"
   ]
  },
  {
   "cell_type": "code",
   "execution_count": 12,
   "metadata": {},
   "outputs": [],
   "source": [
    "# # Find the unique states\n",
    "# # alaska_df = clean_df.loc[clean_df[\"StateCode\"] == \"AK\"]\n",
    "# print(clean_df)\n",
    "# print(clean_df.StateCode.unique())\n",
    "# print(clean_df.StateCode.unique().size)"
   ]
  },
  {
   "cell_type": "code",
   "execution_count": 13,
   "metadata": {},
   "outputs": [],
   "source": [
    "### Test on all states\n",
    "# Generate all years and all states\n",
    "all_years = [2015, 2016, 2017, 2018, 2019]\n",
    "all_states = clean_df.StateCode.unique()"
   ]
  },
  {
   "cell_type": "code",
   "execution_count": 14,
   "metadata": {},
   "outputs": [],
   "source": [
    "# print(clean_df)\n",
    "# print(all_states)"
   ]
  },
  {
   "attachments": {},
   "cell_type": "markdown",
   "metadata": {},
   "source": [
    "# Step 3: Get the Feature Input matrix and Response Variable Matrix"
   ]
  },
  {
   "attachments": {},
   "cell_type": "markdown",
   "metadata": {},
   "source": [
    "# Step 3.1: Get Response Variable Matrix"
   ]
  },
  {
   "cell_type": "code",
   "execution_count": 15,
   "metadata": {},
   "outputs": [],
   "source": [
    "# Create Response Variable y\n",
    "\n",
    "num_datapoints = len(all_years) * len(all_states) \n",
    "num_cols = 1\n",
    "# Initialize response var dataframe\n",
    "y = pd.DataFrame(index=range(num_datapoints), columns=[\"TotalAmountofAssistance\"])\n",
    "investment_vals = []\n",
    "# Iterate over all datapoints\n",
    "for year in all_years:\n",
    "    for state in all_states:\n",
    "        # Query the state and year corresponding to the output\n",
    "        state_query = \"StateCode == \" + \"'\" + str(state) + \"'\"\n",
    "        year_query = \"Year == \" + str(year)\n",
    "        investment_year_state = clean_df.query(year_query + \" & \" + state_query)\n",
    "        # print(\"INVESTMENT YEAR QUERY DF\")\n",
    "        # print(investment_year.head())\n",
    "        # print(investment_year.shape)\n",
    "        # Get the investment value for this year & state (the very last column,\n",
    "        # containing the Total Amount of Assistance)\n",
    "        investment_year_val = investment_year_state.iloc[0, 8]\n",
    "        investment_vals.append(investment_year_val)\n",
    "for yIdx in range(num_datapoints):\n",
    "    # Add the total amount of assistance to the response\n",
    "    y.at[yIdx, \"TotalAmountofAssistance\"] = investment_vals[yIdx]\n",
    "# y.at[0][\"TotalAmountofAssistance\"] = data[\"TotalAmountofAssistance\"][0]\n",
    "# print(y)\n",
    "# y.at[1][\"TotalAmountofAssistance\"] = data[\"TotalAmountofAssistance\"][1519]\n",
    "# y.at[2][\"TotalAmountofAssistance\"] = data[\"TotalAmountofAssistance\"][3038]\n",
    "# y.at[3][\"TotalAmountofAssistance\"] = data[\"TotalAmountofAssistance\"][4557]\n",
    "# y.at[4][\"TotalAmountofAssistance\"] = data[\"TotalAmountofAssistance\"][6076]\n",
    "# for investment_idx in range(5):\n",
    "#     print(investment_idx)\n",
    "#     print(data[\"TotalAmountofAssistance\"][3038])\n",
    "#     row_idx = 1519 * investment_idx\n",
    "#     y.at[investment_idx][\"TotalAmountofAssistance\"] = data[\"TotalAmountofAssistance\"][row_idx]\n",
    "# print(y)\n",
    "\n",
    "# y.to_csv('assistance.csv')"
   ]
  },
  {
   "cell_type": "code",
   "execution_count": 16,
   "metadata": {},
   "outputs": [],
   "source": [
    "# num_datapoints = len(all_years) * len(all_states) \n",
    "# num_features = 19\n",
    "\n",
    "# all_msns = clean_df.MSN.unique()\n",
    "\n",
    "# X = pd.DataFrame(index=range(num_datapoints), columns=all_msns)\n",
    "\n",
    "# for yearIdx in range(len(all_years)):\n",
    "#     for stateIdx in range(len(all_states)):\n",
    "#         dataPtIdx = stateIdx * (yearIdx + 1)\n",
    "#         # print(dataPtIdx)\n",
    "#         curYear = all_years[yearIdx]\n",
    "#         curState = all_states[stateIdx]\n",
    "#         for msnIdx in range(len(all_msns)):\n",
    "#             state_query = \"StateCode == \" + \"'\" + str(curState) + \"'\"\n",
    "#             year_query = \"Year == \" + str(curYear)\n",
    "#             msn_query = \"MSN == \" + \"'\" + str(all_msns[msnIdx]) + \"'\"\n",
    "#             state_year_msn = clean_df.query(year_query + \" & \" + state_query + \" & \" + msn_query)\n",
    "#             # print(state_year_msn)\n",
    "#             amount_val = state_year_msn.iloc[0, 4]\n",
    "#             X.at[dataPtIdx, all_msns[msnIdx]] = amount_val\n",
    "\n",
    "# print(X)"
   ]
  },
  {
   "cell_type": "code",
   "execution_count": 17,
   "metadata": {},
   "outputs": [],
   "source": [
    "# Test querying features\n",
    "\n",
    "# all_msns = clean_df.MSN.unique()\n",
    "# print(all_msns)\n",
    "# X = pd.DataFrame(index=range(250), columns=all_msns)\n",
    "# data_pt_idx= 0\n",
    "# clean_df_row_idx = 0\n",
    "# for year in all_years:\n",
    "#     for state in all_states:\n",
    "#         # data point\n",
    "#         for feature_idx in range(19):\n",
    "#             X.at[data_pt_idx, all_msns[feature_idx]] = clean_df.at[clean_df_row_idx, \"Amount\"]\n",
    "#             clean_df_row_idx += 1\n",
    "#         data_pt_idx += 1\n",
    "# print(X)"
   ]
  },
  {
   "attachments": {},
   "cell_type": "markdown",
   "metadata": {},
   "source": [
    "# Step 3.2: Obtain Feature Input Matrix"
   ]
  },
  {
   "cell_type": "code",
   "execution_count": 18,
   "metadata": {},
   "outputs": [],
   "source": [
    "# Create feature input matrix\n",
    "# Note we are reading from 'flipped.csv', generated from a Java data processing\n",
    "# pipeline from another teammate. All previous data processing has been implemented\n",
    "# EXCEPT for scaling ENPRP and BDPRP to billions BTU.\n",
    "\n",
    "X = pd.read_csv(\"flipped.csv\")\n",
    "# print(X)\n",
    "\n",
    "sorted_X = X.sort_values([\"Year\", \"State\"], ascending=[True, True])\n",
    "# print(sorted_X)\n",
    "\n",
    "# Scale ENPRP and BDPRP.\n",
    "sorted_X.loc[:, 'ENPRP'] *= 3.192\n",
    "sorted_X.loc[:, 'BDPRP'] *= 5.46\n",
    "\n",
    "# print(sorted_X)\n",
    "\n",
    "# Remove state and year columns\n",
    "sorted_X.drop(columns=['State', 'Year'], inplace=True)\n",
    "\n",
    "# print(sorted_X.head())\n",
    "\n",
    "# print(sorted_X)\n",
    "# print(sorted_X.columns.size)"
   ]
  },
  {
   "cell_type": "code",
   "execution_count": 19,
   "metadata": {},
   "outputs": [],
   "source": [
    "# print(alaska_df)"
   ]
  },
  {
   "cell_type": "code",
   "execution_count": 20,
   "metadata": {},
   "outputs": [],
   "source": [
    "# numRows = 5\n",
    "# numCols = 29\n",
    "\n",
    "# x_comb = pd.DataFrame(index=range(numRows), columns=range(numCols))\n",
    "# x_comb.columns = alaska_df[\"MSN\"][0:numCols]\n",
    "\n",
    "# # x = pd.DataFrame(index=range(numRows), columns=range(numCols))\n",
    "# # x.columns = alaska_df[\"MSN\"][0:numCols]\n",
    "# # x_test = pd.DataFrame(index=range(4, 5), columns=range(numCols))\n",
    "# # x_test.columns = alaska_df[\"MSN\"][0:numCols]\n",
    "# # print(x.columns)\n",
    "# avgs = [[0] * numCols] * numRows\n",
    "# for row_idx in range(int(alaska_df.shape[0])):\n",
    "#     yr_idx = int(row_idx / numCols)\n",
    "#     x_comb.at[yr_idx, x_comb.columns[row_idx % numCols]] = data.loc[1519 * yr_idx + row_idx][\"Amount\"]\n",
    "#     # if row_idx < int(alaska_df.shape[0] * 4 / 5):\n",
    "#     #     x.at[yr_idx, x.columns[row_idx % numCols]] = data.loc[1519 * yr_idx + row_idx][\"Amount\"]\n",
    "#     # else:\n",
    "#     #     x_test.at[yr_idx, x.columns[row_idx % numCols]] = data.loc[1519 * yr_idx + row_idx][\"Amount\"]\n",
    "\n",
    "# norm_x_comb = (x_comb - x_comb.mean())/x_comb.std()\n",
    "\n",
    "# norm_x = norm_x_comb.head(4)\n",
    "# norm_x_test = norm_x_comb.tail(1)\n",
    "\n",
    "# # print(x)\n",
    "# # print(x_test)\n",
    "# print(norm_x)\n",
    "# print(norm_x_test)\n"
   ]
  },
  {
   "attachments": {},
   "cell_type": "markdown",
   "metadata": {},
   "source": [
    "# Step 3.3: Obtain testing data (features and assistance from 2020)"
   ]
  },
  {
   "cell_type": "code",
   "execution_count": 21,
   "metadata": {},
   "outputs": [
    {
     "name": "stdout",
     "output_type": "stream",
     "text": [
      "     BDPRP     CLPRB    ENPRP     GETCB     HYTCB     NCPRB     NGMPB  \\\n",
      "0     0.00   15523.0     0.00     186.0   15475.0   16851.0  376283.0   \n",
      "1  1567.02  313282.0     0.00     141.0  117112.0  120692.0  124831.0   \n",
      "2  8479.38       0.0     0.00     808.0   39747.0   43767.0  489956.0   \n",
      "3     0.00       0.0     0.00     345.0   56354.0  142484.0      68.0   \n",
      "4  4892.16       0.0  8650.32  101857.0  187545.0  845282.0  192081.0   \n",
      "\n",
      "      NUETB     PAPRB      REPRB     SOTCB      TEPRB      TETCB   WDEXB  \\\n",
      "0       0.0  932482.0    24682.0      62.0  1348969.0   640132.0     0.0   \n",
      "1  454756.0   24528.0   288515.0    3439.0  1205912.0  1838656.0  5592.0   \n",
      "2  157288.0   23578.0   111538.0    3212.0   782360.0  1034661.0     0.0   \n",
      "3  329471.0      28.0   152046.0   80134.0   481613.0  1508154.0     0.0   \n",
      "4  169773.0  814462.0  1013850.0  436716.0  2190166.0  6922764.0     0.0   \n",
      "\n",
      "      WDPRB     WDTCB    WSTCB     WWPRB     WYTCB  \n",
      "0    7423.0    7423.0    407.0    7831.0    1128.0  \n",
      "1  164778.0  159187.0   1487.0  166266.0       0.0  \n",
      "2   55743.0   55743.0   3591.0   59334.0       0.0  \n",
      "3    9297.0    9297.0    265.0    9562.0    5651.0  \n",
      "4  108611.0  108611.0  39694.0  148305.0  119164.0  \n",
      "   Unnamed: 0  TotalAmountofAssistance\n",
      "0           0                9567164.0\n",
      "1           1                1174323.0\n",
      "2           2               61208016.0\n",
      "3           3               23756565.0\n",
      "4           4               58722209.0\n"
     ]
    }
   ],
   "source": [
    "### Get testing data. Again, these are processed from a Java pipeline,\n",
    "# missing a couple of data processing steps.\n",
    "y_test = pd.read_csv(\"assistance_test.csv\")\n",
    "x_test = pd.read_csv(\"2020flipped.csv\")\n",
    "\n",
    "sorted_X_test = x_test.sort_values([\"Year\", \"State\"], ascending=[True, True])\n",
    "# print(sorted_X)\n",
    "\n",
    "sorted_X_test.loc[:, 'ENPRP'] *= 3.192\n",
    "sorted_X_test.loc[:, 'BDPRP'] *= 5.46\n",
    "\n",
    "## Remove state and year columns\n",
    "\n",
    "# print(sorted_X)\n",
    "\n",
    "sorted_X_test.drop(columns=['State', 'Year'], inplace=True)\n",
    "\n",
    "print(sorted_X_test.head())\n",
    "print(y_test.head())"
   ]
  },
  {
   "cell_type": "code",
   "execution_count": 22,
   "metadata": {},
   "outputs": [
    {
     "name": "stdout",
     "output_type": "stream",
     "text": [
      "   TotalAmountofAssistance\n",
      "0                9567164.0\n",
      "1                1174323.0\n",
      "2               61208016.0\n",
      "3               23756565.0\n",
      "4               58722209.0\n"
     ]
    }
   ],
   "source": [
    "y_test.drop(columns=y_test.columns[0], axis=1, inplace=True)\n",
    "print(y_test.head())"
   ]
  },
  {
   "attachments": {},
   "cell_type": "markdown",
   "metadata": {},
   "source": [
    "# Step 4: Perform regression analysis on data"
   ]
  },
  {
   "attachments": {},
   "cell_type": "markdown",
   "metadata": {},
   "source": [
    "# Step 4.1: Perform simple linear regression"
   ]
  },
  {
   "cell_type": "code",
   "execution_count": 23,
   "metadata": {},
   "outputs": [
    {
     "data": {
      "text/plain": [
       "LinearRegression()"
      ]
     },
     "execution_count": 23,
     "metadata": {},
     "output_type": "execute_result"
    }
   ],
   "source": [
    "### Drop wood energy production (another extraneous variable)\n",
    "sorted_X_drop = sorted_X.drop(columns=['WDPRB'])\n",
    "sorted_X_test_drop = sorted_X_test.drop(columns=['WDPRB'])\n",
    "\n",
    "### Lin Reg Model\n",
    "reg_drop = linear_model.LinearRegression()\n",
    "reg_drop.fit(sorted_X_drop, y)"
   ]
  },
  {
   "cell_type": "code",
   "execution_count": 24,
   "metadata": {},
   "outputs": [
    {
     "name": "stdout",
     "output_type": "stream",
     "text": [
      "Index(['BDPRP', 'CLPRB', 'ENPRP', 'GETCB', 'HYTCB', 'NCPRB', 'NGMPB', 'NUETB',\n",
      "       'PAPRB', 'REPRB', 'SOTCB', 'TEPRB', 'TETCB', 'WDEXB', 'WDTCB', 'WSTCB',\n",
      "       'WWPRB', 'WYTCB'],\n",
      "      dtype='object')\n",
      "[[-6.14656790e+02 -3.08993677e+06 -9.27032125e+02 -4.56783020e+05\n",
      "  -4.56778040e+05  4.56299264e+05 -3.08993290e+06 -3.08993842e+06\n",
      "  -3.08994309e+06 -3.08943032e+06 -4.56643965e+05  3.08993448e+06\n",
      "   8.10309352e+00  6.42519838e+06  6.42067588e+06  6.41995886e+06\n",
      "  -6.42131680e+06 -4.56793442e+05]]\n",
      "[9209276.52562891]\n",
      "0.19742345894701063\n"
     ]
    }
   ],
   "source": [
    "# Print model statistics\n",
    "print(sorted_X_drop.columns)\n",
    "print(reg_drop.coef_)\n",
    "# reg_drop_coef_df = pd.DataFrame(reg_drop.coef_, columns=['AssistancePred'])\n",
    "# print(reg_drop_coef_df)\n",
    "print(reg_drop.intercept_)\n",
    "print(reg_drop.score(sorted_X_drop, y))"
   ]
  },
  {
   "cell_type": "code",
   "execution_count": 25,
   "metadata": {},
   "outputs": [
    {
     "name": "stdout",
     "output_type": "stream",
     "text": [
      "       PredictedAssistance\n",
      "BDPRP        -6.146568e+02\n",
      "CLPRB        -3.089937e+06\n",
      "ENPRP        -9.270321e+02\n",
      "GETCB        -4.567830e+05\n",
      "HYTCB        -4.567780e+05\n",
      "NCPRB         4.562993e+05\n",
      "NGMPB        -3.089933e+06\n",
      "NUETB        -3.089938e+06\n",
      "PAPRB        -3.089943e+06\n",
      "REPRB        -3.089430e+06\n",
      "SOTCB        -4.566440e+05\n",
      "TEPRB         3.089934e+06\n",
      "TETCB         8.103094e+00\n",
      "WDEXB         6.425198e+06\n",
      "WDTCB         6.420676e+06\n",
      "WSTCB         6.419959e+06\n",
      "WWPRB        -6.421317e+06\n",
      "WYTCB        -4.567934e+05\n"
     ]
    },
    {
     "data": {
      "image/png": "[encoded data removed]",
      "text/plain": [
       "<Figure size 432x288 with 2 Axes>"
      ]
     },
     "metadata": {
      "needs_background": "light"
     },
     "output_type": "display_data"
    }
   ],
   "source": [
    "# Create heatmap to visualize output\n",
    "reg_drop_coef_df = pd.DataFrame(reg_drop.coef_.transpose(), columns=['PredictedAssistance'])\n",
    "reg_drop_coef_df.index = sorted_X_drop.columns\n",
    "print(reg_drop_coef_df)\n",
    "p1 = sns.heatmap(reg_drop_coef_df)"
   ]
  },
  {
   "cell_type": "code",
   "execution_count": 26,
   "metadata": {},
   "outputs": [],
   "source": [
    "y_pred_drop = reg_drop.predict(sorted_X_test_drop)\n",
    "# print(y_pred_drop)\n",
    "# print(y_test)\n",
    "\n",
    "y_pred_df = pd.DataFrame(y_pred_drop, columns=['PredictedAssistance'])\n",
    "# print(y_pred_df)\n",
    "# print(all_states)\n",
    "# y_pred_df = y_pred_df.reindex(all_states)\n",
    "# print(y_pred_df)\n",
    "\n",
    "# Output the predictions to a CSV\n",
    "y_pred_df.to_csv(\"LinearRegPredictions.csv\")"
   ]
  },
  {
   "cell_type": "code",
   "execution_count": 27,
   "metadata": {},
   "outputs": [],
   "source": [
    "# Compute mean squared error\n",
    "mse = metrics.mean_squared_error(y_pred_drop, y_test)\n",
    "# print(math.sqrt(mse))"
   ]
  },
  {
   "attachments": {},
   "cell_type": "markdown",
   "metadata": {},
   "source": [
    "# Step 4.2 Try other regression models (UNUSED IN FINAL PRESENTATION)"
   ]
  },
  {
   "cell_type": "code",
   "execution_count": 28,
   "metadata": {},
   "outputs": [
    {
     "data": {
      "text/plain": [
       "LinearRegression()"
      ]
     },
     "execution_count": 28,
     "metadata": {},
     "output_type": "execute_result"
    }
   ],
   "source": [
    "reg = linear_model.LinearRegression()\n",
    "reg.fit(sorted_X, y)"
   ]
  },
  {
   "cell_type": "code",
   "execution_count": 29,
   "metadata": {},
   "outputs": [],
   "source": [
    "lasso_reg = Lasso(1)"
   ]
  },
  {
   "cell_type": "code",
   "execution_count": 30,
   "metadata": {},
   "outputs": [
    {
     "name": "stderr",
     "output_type": "stream",
     "text": [
      "/Applications/anaconda3/lib/python3.8/site-packages/sklearn/linear_model/_coordinate_descent.py:647: ConvergenceWarning: Objective did not converge. You might want to increase the number of iterations, check the scale of the features or consider increasing regularisation. Duality gap: 2.035e+17, tolerance: 5.035e+13\n",
      "  model = cd_fast.enet_coordinate_descent(\n"
     ]
    },
    {
     "data": {
      "text/plain": [
       "Lasso(alpha=1)"
      ]
     },
     "execution_count": 30,
     "metadata": {},
     "output_type": "execute_result"
    }
   ],
   "source": [
    "lasso_reg.fit(sorted_X, y)"
   ]
  },
  {
   "cell_type": "code",
   "execution_count": 31,
   "metadata": {},
   "outputs": [
    {
     "name": "stdout",
     "output_type": "stream",
     "text": [
      "0.1913938906402758\n"
     ]
    }
   ],
   "source": [
    "lasso_train_score = lasso_reg.score(sorted_X, y)\n",
    "print(lasso_train_score)"
   ]
  },
  {
   "cell_type": "code",
   "execution_count": 32,
   "metadata": {},
   "outputs": [
    {
     "name": "stdout",
     "output_type": "stream",
     "text": [
      "[ 6.28008128e+06  2.47595029e+07  7.23373507e+06  3.18883211e+07\n",
      "  8.47406309e+07  1.83937423e+07  5.59908506e+06  1.12340885e+07\n",
      "  4.79993282e+07  8.55564880e+07  1.06501197e+07 -2.93103111e+05\n",
      "  1.17165918e+07  1.61651065e+07  1.05468586e+07  1.31821433e+07\n",
      "  1.52345455e+07  5.38795814e+07  1.02470337e+07  1.39255211e+07\n",
      "  6.58171523e+05  2.23895053e+06  8.43113285e+06  1.29195691e+07\n",
      "  4.75280385e+07  1.16675572e+07  1.26677558e+08 -7.20760757e+06\n",
      "  1.11012465e+07  5.39321882e+06  1.75425739e+07  2.47327431e+06\n",
      "  2.34118902e+07  1.34614269e+07  2.15969647e+07  1.36226926e+07\n",
      "  1.38101632e+07  7.31705611e+06  9.02692406e+06  4.28068148e+07\n",
      "  1.13647999e+07  2.32906077e+07  7.08482367e+07  1.76983260e+07\n",
      "  4.17664542e+07  8.01834358e+06  2.18263733e+07  3.85506934e+06\n",
      "  1.64453247e+07  5.13642480e+06]\n"
     ]
    }
   ],
   "source": [
    "y_pred_lasso = lasso_reg.predict(sorted_X_test)\n",
    "print(y_pred_lasso)"
   ]
  },
  {
   "cell_type": "code",
   "execution_count": 33,
   "metadata": {},
   "outputs": [
    {
     "name": "stdout",
     "output_type": "stream",
     "text": [
      "[-1.66133236e+02 -3.04511176e+00 -7.72338258e+01 -6.57342933e+01\n",
      " -2.64748517e+01  2.70051833e+01  6.43309891e-01 -8.95794657e+00\n",
      " -9.86714816e+00  2.59475621e+01  1.06246194e+02  1.20170588e+00\n",
      "  7.92001511e+00  4.40448117e+03 -2.29125510e+02 -1.27158723e+01\n",
      " -8.90743258e+02  7.91958262e+01 -4.44933929e+01]\n",
      "[9502865.62702641]\n"
     ]
    }
   ],
   "source": [
    "print(lasso_reg.coef_)\n",
    "print(lasso_reg.intercept_)"
   ]
  },
  {
   "cell_type": "code",
   "execution_count": 34,
   "metadata": {},
   "outputs": [
    {
     "name": "stdout",
     "output_type": "stream",
     "text": [
      "[8848932.95507227]\n",
      "[[ 5.64273389e+02 -1.57101119e+06  1.20344927e+03 -1.41370796e+05\n",
      "  -1.41406391e+05  1.42115466e+05 -1.57100750e+06 -1.57101612e+06\n",
      "  -1.57101750e+06 -1.57169610e+06 -1.41281992e+05  1.57100905e+06\n",
      "   7.82328927e+00 -2.65199001e+07  3.49553490e+07 -2.65241724e+07\n",
      "   8.43052956e+06 -8.43061306e+06 -1.41415516e+05]]\n"
     ]
    }
   ],
   "source": [
    "print(reg.intercept_)\n",
    "print(reg.coef_)"
   ]
  },
  {
   "cell_type": "code",
   "execution_count": 35,
   "metadata": {},
   "outputs": [
    {
     "name": "stdout",
     "output_type": "stream",
     "text": [
      "[[-4.33020400e+06]\n",
      " [-1.03330080e+07]\n",
      " [ 7.11658245e+06]\n",
      " [ 3.00297071e+07]\n",
      " [ 8.59435946e+07]\n",
      " [ 8.95327864e+06]\n",
      " [ 5.04678280e+06]\n",
      " [ 1.07212881e+07]\n",
      " [ 4.81565702e+07]\n",
      " [ 8.41399954e+07]\n",
      " [ 1.82572662e+07]\n",
      " [ 2.41338449e+06]\n",
      " [ 1.11145715e+07]\n",
      " [ 1.62739063e+07]\n",
      " [ 1.12047407e+07]\n",
      " [ 2.22663062e+07]\n",
      " [ 1.62693483e+07]\n",
      " [ 5.08291914e+07]\n",
      " [ 1.78629382e+07]\n",
      " [ 1.30685582e+07]\n",
      " [ 8.67152049e+05]\n",
      " [ 5.13639080e+06]\n",
      " [ 9.58736445e+06]\n",
      " [ 1.32103001e+07]\n",
      " [ 1.13221420e+07]\n",
      " [ 5.98480166e+05]\n",
      " [ 1.22641695e+08]\n",
      " [-5.48347900e+06]\n",
      " [ 1.04617190e+07]\n",
      " [-1.93029445e+06]\n",
      " [ 1.49353918e+07]\n",
      " [ 1.60706807e+06]\n",
      " [ 2.58293400e+07]\n",
      " [ 1.22444801e+07]\n",
      " [ 1.98138317e+07]\n",
      " [ 1.48457573e+07]\n",
      " [ 1.26961874e+07]\n",
      " [-2.55032455e+06]\n",
      " [ 8.23504794e+06]\n",
      " [ 7.05127792e+06]\n",
      " [ 1.14040192e+07]\n",
      " [ 2.24490801e+07]\n",
      " [ 6.00356406e+07]\n",
      " [ 6.77896391e+06]\n",
      " [ 7.57952052e+07]\n",
      " [ 7.37442691e+06]\n",
      " [ 1.90488309e+07]\n",
      " [ 4.55344024e+06]\n",
      " [ 1.45327220e+07]\n",
      " [ 3.42095905e+06]]\n",
      "    TotalAmountofAssistance\n",
      "0                 9567164.0\n",
      "1                 1174323.0\n",
      "2                61208016.0\n",
      "3                23756565.0\n",
      "4                58722209.0\n",
      "5                 6304206.0\n",
      "6                  491729.0\n",
      "7                23750266.0\n",
      "8                 8467648.0\n",
      "9                 7307409.0\n",
      "10                1153848.0\n",
      "11               63476066.0\n",
      "12                 733911.0\n",
      "13                3526853.0\n",
      "14                8555854.0\n",
      "15                2802130.0\n",
      "16               11046095.0\n",
      "17                5171076.0\n",
      "18               21021782.0\n",
      "19                1459180.0\n",
      "20                1718854.0\n",
      "21                3543100.0\n",
      "22               29357835.0\n",
      "23                4677028.0\n",
      "24                2102663.0\n",
      "25                 542585.0\n",
      "26              176369306.0\n",
      "27                 686913.0\n",
      "28                9134015.0\n",
      "29                 996776.0\n",
      "30                 428543.0\n",
      "31               48503359.0\n",
      "32                  53672.0\n",
      "33               39346669.0\n",
      "34                3038155.0\n",
      "35                 560909.0\n",
      "36               25808865.0\n",
      "37                2136747.0\n",
      "38                 635939.0\n",
      "39              145497267.0\n",
      "40                6976448.0\n",
      "41                1536871.0\n",
      "42               39546994.0\n",
      "43                 736194.0\n",
      "44                2039514.0\n",
      "45                2405926.0\n",
      "46                2509973.0\n",
      "47                9860324.0\n",
      "48                1052654.0\n",
      "49                 229763.0\n"
     ]
    }
   ],
   "source": [
    "y_pred = reg.predict(sorted_X_test)\n",
    "print(y_pred)\n",
    "print(y_test)"
   ]
  },
  {
   "cell_type": "code",
   "execution_count": 36,
   "metadata": {},
   "outputs": [
    {
     "name": "stdout",
     "output_type": "stream",
     "text": [
      "[8848932.95507227]\n",
      "[[ 5.64273389e+02 -1.57101119e+06  1.20344927e+03 -1.41370796e+05\n",
      "  -1.41406391e+05  1.42115466e+05 -1.57100750e+06 -1.57101612e+06\n",
      "  -1.57101750e+06 -1.57169610e+06 -1.41281992e+05  1.57100905e+06\n",
      "   7.82328927e+00 -2.65199001e+07  3.49553490e+07 -2.65241724e+07\n",
      "   8.43052956e+06 -8.43061306e+06 -1.41415516e+05]]\n",
      "0.21969392167899515\n",
      "Index(['BDPRP', 'CLPRB', 'ENPRP', 'GETCB', 'HYTCB', 'NCPRB', 'NGMPB', 'NUETB',\n",
      "       'PAPRB', 'REPRB', 'SOTCB', 'TEPRB', 'TETCB', 'WDEXB', 'WDPRB', 'WDTCB',\n",
      "       'WSTCB', 'WWPRB', 'WYTCB'],\n",
      "      dtype='object')\n"
     ]
    }
   ],
   "source": [
    "print(reg.intercept_)\n",
    "print(reg.coef_)\n",
    "print(reg.score(sorted_X, y))\n",
    "print(sorted_X.columns)"
   ]
  },
  {
   "cell_type": "code",
   "execution_count": 37,
   "metadata": {},
   "outputs": [
    {
     "name": "stdout",
     "output_type": "stream",
     "text": [
      "1054264821397483.4\n",
      "32469444.426991407\n"
     ]
    }
   ],
   "source": [
    "mse = metrics.mean_squared_error(y_pred, y_test)\n",
    "print(mse)\n",
    "print(math.sqrt(mse))"
   ]
  },
  {
   "cell_type": "code",
   "execution_count": 38,
   "metadata": {},
   "outputs": [
    {
     "name": "stdout",
     "output_type": "stream",
     "text": [
      "873354863196210.8\n",
      "29552577.9450154\n"
     ]
    }
   ],
   "source": [
    "mse_lasso = metrics.mean_squared_error(y_pred_lasso, y_test)\n",
    "print(mse_lasso)\n",
    "print(math.sqrt(mse_lasso))"
   ]
  },
  {
   "cell_type": "code",
   "execution_count": 39,
   "metadata": {},
   "outputs": [
    {
     "name": "stderr",
     "output_type": "stream",
     "text": [
      "/Applications/anaconda3/lib/python3.8/site-packages/sklearn/ensemble/_gb.py:494: DataConversionWarning: A column-vector y was passed when a 1d array was expected. Please change the shape of y to (n_samples, ), for example using ravel().\n",
      "  y = column_or_1d(y, warn=True)\n"
     ]
    },
    {
     "data": {
      "text/plain": [
       "GradientBoostingRegressor(criterion='squared_error', learning_rate=1,\n",
       "                          n_estimators=3)"
      ]
     },
     "execution_count": 39,
     "metadata": {},
     "output_type": "execute_result"
    }
   ],
   "source": [
    "### Gradient Boosting\n",
    "params = {\"n_estimators\": 3, \"max_depth\": 3, \"learning_rate\": 1, \"criterion\": \"squared_error\"}\n",
    "gradient_boosting_regressor_model = ensemble.GradientBoostingRegressor(**params)\n",
    "gradient_boosting_regressor_model.fit(sorted_X, y)"
   ]
  },
  {
   "cell_type": "code",
   "execution_count": 40,
   "metadata": {},
   "outputs": [
    {
     "name": "stdout",
     "output_type": "stream",
     "text": [
      "0.8594088494586949\n"
     ]
    }
   ],
   "source": [
    "print(gradient_boosting_regressor_model.score(sorted_X, y))"
   ]
  },
  {
   "cell_type": "code",
   "execution_count": 41,
   "metadata": {},
   "outputs": [
    {
     "name": "stdout",
     "output_type": "stream",
     "text": [
      "[2.79923611e+06 1.08376685e+06 2.32641093e+07 4.25624095e+07\n",
      " 4.56641589e+07 2.79923611e+06 2.79923611e+06 2.79923611e+06\n",
      " 4.25624095e+07 2.20424347e+08 2.79923611e+06 2.79923611e+06\n",
      " 2.79923611e+06 2.79923611e+06 2.79923611e+06 2.79923611e+06\n",
      " 2.32641093e+07 2.32641093e+07 2.79923611e+06 2.79923611e+06\n",
      " 2.79923611e+06 2.79923611e+06 2.79923611e+06 2.79923611e+06\n",
      " 2.32641093e+07 2.79923611e+06 1.26884709e+08 2.79923611e+06\n",
      " 2.79923611e+06 2.79923611e+06 2.42604689e+08 2.79923611e+06\n",
      " 2.42771305e+07 2.79923611e+06 2.79923611e+06 2.79923611e+06\n",
      " 1.14780389e+07 2.79923611e+06 2.79923611e+06 2.32641093e+07\n",
      " 2.79923611e+06 2.79923611e+06 4.56641589e+07 2.79923611e+06\n",
      " 2.32641093e+07 2.79923611e+06 5.90098551e+06 2.79923611e+06\n",
      " 5.91571667e+05 1.35934600e+06]\n",
      "    TotalAmountofAssistance\n",
      "0                 9567164.0\n",
      "1                 1174323.0\n",
      "2                61208016.0\n",
      "3                23756565.0\n",
      "4                58722209.0\n",
      "5                 6304206.0\n",
      "6                  491729.0\n",
      "7                23750266.0\n",
      "8                 8467648.0\n",
      "9                 7307409.0\n",
      "10                1153848.0\n",
      "11               63476066.0\n",
      "12                 733911.0\n",
      "13                3526853.0\n",
      "14                8555854.0\n",
      "15                2802130.0\n",
      "16               11046095.0\n",
      "17                5171076.0\n",
      "18               21021782.0\n",
      "19                1459180.0\n",
      "20                1718854.0\n",
      "21                3543100.0\n",
      "22               29357835.0\n",
      "23                4677028.0\n",
      "24                2102663.0\n",
      "25                 542585.0\n",
      "26              176369306.0\n",
      "27                 686913.0\n",
      "28                9134015.0\n",
      "29                 996776.0\n",
      "30                 428543.0\n",
      "31               48503359.0\n",
      "32                  53672.0\n",
      "33               39346669.0\n",
      "34                3038155.0\n",
      "35                 560909.0\n",
      "36               25808865.0\n",
      "37                2136747.0\n",
      "38                 635939.0\n",
      "39              145497267.0\n",
      "40                6976448.0\n",
      "41                1536871.0\n",
      "42               39546994.0\n",
      "43                 736194.0\n",
      "44                2039514.0\n",
      "45                2405926.0\n",
      "46                2509973.0\n",
      "47                9860324.0\n",
      "48                1052654.0\n",
      "49                 229763.0\n"
     ]
    }
   ],
   "source": [
    "y_pred_gradient = gradient_boosting_regressor_model.predict(sorted_X_test)\n",
    "print(y_pred_gradient)\n",
    "print(y_test)"
   ]
  },
  {
   "cell_type": "code",
   "execution_count": 42,
   "metadata": {},
   "outputs": [
    {
     "name": "stdout",
     "output_type": "stream",
     "text": [
      "2712635931034190.5\n",
      "52082971.60333875\n"
     ]
    }
   ],
   "source": [
    "mse = metrics.mean_squared_error(y_pred_gradient, y_test)\n",
    "\n",
    "print(mse)\n",
    "\n",
    "print(math.sqrt(mse))\n"
   ]
  },
  {
   "cell_type": "code",
   "execution_count": 43,
   "metadata": {},
   "outputs": [],
   "source": [
    "### Polynomial Regression Model\n",
    "poly = PolynomialFeatures(degree=2, include_bias=False)"
   ]
  },
  {
   "cell_type": "code",
   "execution_count": 44,
   "metadata": {},
   "outputs": [],
   "source": [
    "poly_features = poly.fit_transform(sorted_X_drop)"
   ]
  },
  {
   "cell_type": "code",
   "execution_count": 45,
   "metadata": {},
   "outputs": [],
   "source": [
    "poly_reg_model = linear_model.LinearRegression()"
   ]
  },
  {
   "cell_type": "code",
   "execution_count": 46,
   "metadata": {},
   "outputs": [
    {
     "data": {
      "text/plain": [
       "LinearRegression()"
      ]
     },
     "execution_count": 46,
     "metadata": {},
     "output_type": "execute_result"
    }
   ],
   "source": [
    "poly_reg_model.fit(poly_features, y)"
   ]
  },
  {
   "cell_type": "code",
   "execution_count": 47,
   "metadata": {},
   "outputs": [
    {
     "name": "stdout",
     "output_type": "stream",
     "text": [
      "0.9452227862433634\n"
     ]
    }
   ],
   "source": [
    "print(poly_reg_model.score(poly_features, y))"
   ]
  },
  {
   "cell_type": "code",
   "execution_count": 48,
   "metadata": {},
   "outputs": [],
   "source": [
    "poly_test_features = poly.fit_transform(sorted_X_test_drop)\n",
    "poly_reg_y_pred = poly_reg_model.predict(poly_test_features)"
   ]
  },
  {
   "cell_type": "code",
   "execution_count": 49,
   "metadata": {},
   "outputs": [
    {
     "name": "stdout",
     "output_type": "stream",
     "text": [
      "[[ 1.83723727e+07]\n",
      " [-1.23020523e+08]\n",
      " [-9.30730734e+06]\n",
      " [ 1.30845973e+08]\n",
      " [ 3.60144565e+09]\n",
      " [-8.13498673e+07]\n",
      " [-1.08668593e+07]\n",
      " [ 1.13245035e+07]\n",
      " [-1.57853931e+08]\n",
      " [ 2.93541653e+08]\n",
      " [ 2.14523167e+07]\n",
      " [-1.45799908e+09]\n",
      " [ 1.28020656e+05]\n",
      " [-2.86731499e+08]\n",
      " [-3.00227819e+08]\n",
      " [-2.08087275e+08]\n",
      " [-7.80269873e+07]\n",
      " [ 9.09770447e+07]\n",
      " [-1.15009134e+06]\n",
      " [-1.36783153e+07]\n",
      " [-2.11351534e+06]\n",
      " [ 4.90647247e+07]\n",
      " [-3.43718123e+08]\n",
      " [ 2.47083727e+07]\n",
      " [-1.16080939e+08]\n",
      " [ 1.19631567e+07]\n",
      " [-3.53863915e+08]\n",
      " [ 1.54153749e+08]\n",
      " [-7.29894193e+07]\n",
      " [-2.46307633e+07]\n",
      " [ 2.46785487e+07]\n",
      " [-1.11496427e+08]\n",
      " [ 7.65927637e+08]\n",
      " [-2.22379243e+08]\n",
      " [-1.33516523e+08]\n",
      " [-1.40905707e+08]\n",
      " [-1.36549611e+08]\n",
      " [ 9.14223893e+08]\n",
      " [ 1.08514682e+07]\n",
      " [ 9.92161487e+07]\n",
      " [-1.61359339e+08]\n",
      " [-5.03019344e+05]\n",
      " [-2.14518367e+10]\n",
      " [-5.44330033e+07]\n",
      " [-1.86564913e+07]\n",
      " [ 1.01907167e+07]\n",
      " [-2.92113643e+08]\n",
      " [-3.92194353e+07]\n",
      " [-8.61176113e+07]\n",
      " [-7.24861233e+07]]\n",
      "    TotalAmountofAssistance\n",
      "0                 9567164.0\n",
      "1                 1174323.0\n",
      "2                61208016.0\n",
      "3                23756565.0\n",
      "4                58722209.0\n",
      "5                 6304206.0\n",
      "6                  491729.0\n",
      "7                23750266.0\n",
      "8                 8467648.0\n",
      "9                 7307409.0\n",
      "10                1153848.0\n",
      "11               63476066.0\n",
      "12                 733911.0\n",
      "13                3526853.0\n",
      "14                8555854.0\n",
      "15                2802130.0\n",
      "16               11046095.0\n",
      "17                5171076.0\n",
      "18               21021782.0\n",
      "19                1459180.0\n",
      "20                1718854.0\n",
      "21                3543100.0\n",
      "22               29357835.0\n",
      "23                4677028.0\n",
      "24                2102663.0\n",
      "25                 542585.0\n",
      "26              176369306.0\n",
      "27                 686913.0\n",
      "28                9134015.0\n",
      "29                 996776.0\n",
      "30                 428543.0\n",
      "31               48503359.0\n",
      "32                  53672.0\n",
      "33               39346669.0\n",
      "34                3038155.0\n",
      "35                 560909.0\n",
      "36               25808865.0\n",
      "37                2136747.0\n",
      "38                 635939.0\n",
      "39              145497267.0\n",
      "40                6976448.0\n",
      "41                1536871.0\n",
      "42               39546994.0\n",
      "43                 736194.0\n",
      "44                2039514.0\n",
      "45                2405926.0\n",
      "46                2509973.0\n",
      "47                9860324.0\n",
      "48                1052654.0\n",
      "49                 229763.0\n"
     ]
    }
   ],
   "source": [
    "print(poly_reg_y_pred)\n",
    "print(y_test)"
   ]
  },
  {
   "cell_type": "code",
   "execution_count": 50,
   "metadata": {},
   "outputs": [
    {
     "name": "stdout",
     "output_type": "stream",
     "text": [
      "3096183506.0380974\n"
     ]
    }
   ],
   "source": [
    "poly_reg_rmse = np.sqrt(metrics.mean_squared_error(y_test, poly_reg_y_pred))\n",
    "print(poly_reg_rmse)"
   ]
  },
  {
   "cell_type": "code",
   "execution_count": 51,
   "metadata": {},
   "outputs": [],
   "source": [
    "### Interaction only\n",
    "interaction_poly = PolynomialFeatures(interaction_only=True, include_bias=False)\n",
    "interaction_features = interaction_poly.fit_transform(sorted_X_drop)"
   ]
  },
  {
   "cell_type": "code",
   "execution_count": 52,
   "metadata": {},
   "outputs": [
    {
     "data": {
      "text/plain": [
       "LinearRegression()"
      ]
     },
     "execution_count": 52,
     "metadata": {},
     "output_type": "execute_result"
    }
   ],
   "source": [
    "interaction_reg = linear_model.LinearRegression()\n",
    "interaction_reg.fit(interaction_features, y)"
   ]
  },
  {
   "cell_type": "code",
   "execution_count": 53,
   "metadata": {},
   "outputs": [
    {
     "name": "stdout",
     "output_type": "stream",
     "text": [
      "0.8508430340641762\n"
     ]
    }
   ],
   "source": [
    "print(interaction_reg.score(interaction_features, y))"
   ]
  },
  {
   "cell_type": "code",
   "execution_count": 54,
   "metadata": {},
   "outputs": [],
   "source": [
    "interaction_test_features = interaction_poly.fit_transform(sorted_X_test_drop)\n",
    "interaction_reg_y_pred = interaction_reg.predict(interaction_test_features)"
   ]
  },
  {
   "cell_type": "code",
   "execution_count": 55,
   "metadata": {},
   "outputs": [
    {
     "name": "stdout",
     "output_type": "stream",
     "text": [
      "[[-7.25356334e+06]\n",
      " [-1.25671915e+08]\n",
      " [ 5.93714127e+07]\n",
      " [ 2.18958101e+08]\n",
      " [-6.20413054e+09]\n",
      " [ 5.25770447e+07]\n",
      " [ 1.56742447e+07]\n",
      " [ 1.30399795e+07]\n",
      " [-1.16735793e+07]\n",
      " [ 4.50884885e+08]\n",
      " [-2.17109173e+07]\n",
      " [ 3.35974165e+08]\n",
      " [ 1.98396687e+07]\n",
      " [-3.78414571e+08]\n",
      " [-3.88950251e+08]\n",
      " [-1.30542315e+08]\n",
      " [-6.24839473e+07]\n",
      " [ 1.34158357e+08]\n",
      " [-1.37359793e+07]\n",
      " [-2.16887633e+07]\n",
      " [ 4.12212656e+05]\n",
      " [-2.93096753e+07]\n",
      " [-7.15114033e+07]\n",
      " [ 1.95241967e+07]\n",
      " [-3.46202993e+07]\n",
      " [ 1.69474066e+06]\n",
      " [-2.88836331e+08]\n",
      " [ 7.07141327e+07]\n",
      " [ 2.27331605e+08]\n",
      " [-4.03508593e+07]\n",
      " [ 3.16222607e+07]\n",
      " [-4.98623793e+07]\n",
      " [ 5.55090127e+07]\n",
      " [-3.48484913e+07]\n",
      " [-5.36437553e+07]\n",
      " [-1.40424427e+08]\n",
      " [ 2.40811727e+07]\n",
      " [-1.07269355e+08]\n",
      " [ 5.71488916e+06]\n",
      " [ 4.58533327e+07]\n",
      " [ 7.28615247e+07]\n",
      " [-9.94664113e+07]\n",
      " [-1.03212987e+10]\n",
      " [-2.01121134e+06]\n",
      " [ 5.31227666e+06]\n",
      " [ 1.08391967e+07]\n",
      " [-2.26574571e+08]\n",
      " [ 3.67259666e+06]\n",
      " [ 1.48849941e+08]\n",
      " [ 6.86743247e+07]]\n",
      "    TotalAmountofAssistance\n",
      "0                 9567164.0\n",
      "1                 1174323.0\n",
      "2                61208016.0\n",
      "3                23756565.0\n",
      "4                58722209.0\n",
      "5                 6304206.0\n",
      "6                  491729.0\n",
      "7                23750266.0\n",
      "8                 8467648.0\n",
      "9                 7307409.0\n",
      "10                1153848.0\n",
      "11               63476066.0\n",
      "12                 733911.0\n",
      "13                3526853.0\n",
      "14                8555854.0\n",
      "15                2802130.0\n",
      "16               11046095.0\n",
      "17                5171076.0\n",
      "18               21021782.0\n",
      "19                1459180.0\n",
      "20                1718854.0\n",
      "21                3543100.0\n",
      "22               29357835.0\n",
      "23                4677028.0\n",
      "24                2102663.0\n",
      "25                 542585.0\n",
      "26              176369306.0\n",
      "27                 686913.0\n",
      "28                9134015.0\n",
      "29                 996776.0\n",
      "30                 428543.0\n",
      "31               48503359.0\n",
      "32                  53672.0\n",
      "33               39346669.0\n",
      "34                3038155.0\n",
      "35                 560909.0\n",
      "36               25808865.0\n",
      "37                2136747.0\n",
      "38                 635939.0\n",
      "39              145497267.0\n",
      "40                6976448.0\n",
      "41                1536871.0\n",
      "42               39546994.0\n",
      "43                 736194.0\n",
      "44                2039514.0\n",
      "45                2405926.0\n",
      "46                2509973.0\n",
      "47                9860324.0\n",
      "48                1052654.0\n",
      "49                 229763.0\n"
     ]
    }
   ],
   "source": [
    "print(interaction_reg_y_pred)\n",
    "print(y_test)"
   ]
  },
  {
   "cell_type": "code",
   "execution_count": 56,
   "metadata": {},
   "outputs": [
    {
     "name": "stdout",
     "output_type": "stream",
     "text": [
      "1718642332.8903716\n"
     ]
    }
   ],
   "source": [
    "interaction_reg_rmse = np.sqrt(metrics.mean_squared_error(y_test, interaction_reg_y_pred))\n",
    "print(interaction_reg_rmse)"
   ]
  },
  {
   "cell_type": "code",
   "execution_count": 57,
   "metadata": {},
   "outputs": [
    {
     "name": "stderr",
     "output_type": "stream",
     "text": [
      "/Applications/anaconda3/lib/python3.8/site-packages/sklearn/linear_model/_coordinate_descent.py:647: ConvergenceWarning: Objective did not converge. You might want to increase the number of iterations, check the scale of the features or consider increasing regularisation. Duality gap: 2.035e+17, tolerance: 5.035e+13\n",
      "  model = cd_fast.enet_coordinate_descent(\n"
     ]
    },
    {
     "data": {
      "text/plain": [
       "Lasso()"
      ]
     },
     "execution_count": 57,
     "metadata": {},
     "output_type": "execute_result"
    }
   ],
   "source": [
    "lasso_reg_drop = Lasso()\n",
    "lasso_reg_drop.fit(sorted_X_drop, y)"
   ]
  },
  {
   "cell_type": "code",
   "execution_count": 58,
   "metadata": {},
   "outputs": [
    {
     "name": "stdout",
     "output_type": "stream",
     "text": [
      "[-1.66133145e+02 -3.04510876e+00 -7.72338829e+01 -6.57344977e+01\n",
      " -2.64749263e+01  2.70051903e+01  6.43309158e-01 -8.95796949e+00\n",
      " -9.86714498e+00  2.59475907e+01  1.06246166e+02  1.20170501e+00\n",
      "  7.92001434e+00  4.17670683e+03 -2.40486148e+02 -8.89387685e+02\n",
      "  7.78407660e+01 -4.44934329e+01]\n",
      "[9502862.53902255]\n",
      "0.19139417248137436\n"
     ]
    }
   ],
   "source": [
    "print(lasso_reg_drop.coef_)\n",
    "print(lasso_reg_drop.intercept_)\n",
    "print(lasso_reg_drop.score(sorted_X_drop, y))"
   ]
  },
  {
   "cell_type": "code",
   "execution_count": 59,
   "metadata": {},
   "outputs": [
    {
     "name": "stdout",
     "output_type": "stream",
     "text": [
      "[ 6.28007899e+06  2.47592659e+07  7.23373922e+06  3.18883093e+07\n",
      "  8.47406416e+07  1.83937377e+07  5.59908552e+06  1.12340857e+07\n",
      "  4.79993156e+07  8.55564428e+07  1.06501202e+07 -2.93099333e+05\n",
      "  1.17165918e+07  1.61650845e+07  1.05468672e+07  1.31821399e+07\n",
      "  1.52345481e+07  5.38795640e+07  1.02470425e+07  1.39255179e+07\n",
      "  6.58184564e+05  2.23896264e+06  8.43113882e+06  1.29195718e+07\n",
      "  4.75277800e+07  1.16675530e+07  1.26677468e+08 -7.20760660e+06\n",
      "  1.11012406e+07  5.39321826e+06  1.75425704e+07  2.47327435e+06\n",
      "  2.34118814e+07  1.34614290e+07  2.15969651e+07  1.36226926e+07\n",
      "  1.38101645e+07  7.31705185e+06  9.02692282e+06  4.28065538e+07\n",
      "  1.13647939e+07  2.32905947e+07  7.08482097e+07  1.76983221e+07\n",
      "  4.17666613e+07  8.01834447e+06  2.18263644e+07  3.85508301e+06\n",
      "  1.64453215e+07  5.13642845e+06]\n",
      "    TotalAmountofAssistance\n",
      "0                 9567164.0\n",
      "1                 1174323.0\n",
      "2                61208016.0\n",
      "3                23756565.0\n",
      "4                58722209.0\n",
      "5                 6304206.0\n",
      "6                  491729.0\n",
      "7                23750266.0\n",
      "8                 8467648.0\n",
      "9                 7307409.0\n",
      "10                1153848.0\n",
      "11               63476066.0\n",
      "12                 733911.0\n",
      "13                3526853.0\n",
      "14                8555854.0\n",
      "15                2802130.0\n",
      "16               11046095.0\n",
      "17                5171076.0\n",
      "18               21021782.0\n",
      "19                1459180.0\n",
      "20                1718854.0\n",
      "21                3543100.0\n",
      "22               29357835.0\n",
      "23                4677028.0\n",
      "24                2102663.0\n",
      "25                 542585.0\n",
      "26              176369306.0\n",
      "27                 686913.0\n",
      "28                9134015.0\n",
      "29                 996776.0\n",
      "30                 428543.0\n",
      "31               48503359.0\n",
      "32                  53672.0\n",
      "33               39346669.0\n",
      "34                3038155.0\n",
      "35                 560909.0\n",
      "36               25808865.0\n",
      "37                2136747.0\n",
      "38                 635939.0\n",
      "39              145497267.0\n",
      "40                6976448.0\n",
      "41                1536871.0\n",
      "42               39546994.0\n",
      "43                 736194.0\n",
      "44                2039514.0\n",
      "45                2405926.0\n",
      "46                2509973.0\n",
      "47                9860324.0\n",
      "48                1052654.0\n",
      "49                 229763.0\n"
     ]
    }
   ],
   "source": [
    "y_pred_lasso = lasso_reg_drop.predict(sorted_X_test_drop)\n",
    "print(y_pred_lasso)\n",
    "print(y_test)"
   ]
  },
  {
   "cell_type": "code",
   "execution_count": 60,
   "metadata": {},
   "outputs": [
    {
     "name": "stdout",
     "output_type": "stream",
     "text": [
      "29552587.77832985\n"
     ]
    }
   ],
   "source": [
    "mse_lasso_drop = metrics.mean_squared_error(y_test, y_pred_lasso)\n",
    "print(math.sqrt(mse_lasso_drop))"
   ]
  },
  {
   "cell_type": "code",
   "execution_count": 61,
   "metadata": {},
   "outputs": [],
   "source": [
    "### Normalize the data\n",
    "sorted_X_drop_norm = (sorted_X_drop - sorted_X_drop.mean()) / (sorted_X_drop.std())\n",
    "sorted_X_test_drop_norm = (sorted_X_test_drop - sorted_X_test_drop.mean()) / (sorted_X_test_drop.std())"
   ]
  },
  {
   "cell_type": "code",
   "execution_count": 62,
   "metadata": {},
   "outputs": [
    {
     "name": "stdout",
     "output_type": "stream",
     "text": [
      "        BDPRP     CLPRB     ENPRP     GETCB     HYTCB     NCPRB     NGMPB  \\\n",
      "0   -0.533821 -0.340082 -0.438343 -0.256144 -0.316994 -0.552139 -0.180050   \n",
      "5   -0.286166  0.024479 -0.438343 -0.259039  0.353660 -0.129830 -0.296753   \n",
      "10   0.036771 -0.358594 -0.438343 -0.216122 -0.155234 -0.452494  0.202621   \n",
      "15  -0.535228 -0.190499 -0.370271 -0.245913  0.084673 -0.009846 -0.404030   \n",
      "20  -0.011071 -0.360708 -0.164050  6.994911  0.672832  2.516187 -0.244635   \n",
      "..        ...       ...       ...       ...       ...       ...       ...   \n",
      "229 -0.536635 -0.360708 -0.438343 -0.266246 -0.340555 -0.542311 -0.404088   \n",
      "234  0.735413 -0.360708 -0.438343 -0.195017  4.657928  2.980924 -0.404088   \n",
      "239 -0.084242 -0.360708  0.446472 -0.228540 -0.239785 -0.407149 -0.404088   \n",
      "244 -0.536635  2.454478 -0.438343 -0.266053 -0.312039 -0.476336  1.124101   \n",
      "249 -0.536635  5.251144 -0.438343 -0.225452 -0.367180 -0.374181  0.586663   \n",
      "\n",
      "        NUETB     PAPRB     REPRB     SOTCB     TEPRB     TETCB     WDEXB  \\\n",
      "0   -0.753300  0.532132 -0.855303 -0.313001 -0.097736 -0.624817 -0.355354   \n",
      "5    1.210534 -0.242152  0.180146 -0.310929 -0.149622 -0.025528 -0.355354   \n",
      "10  -0.105522 -0.258262 -0.441239 -0.310443 -0.129099 -0.418698 -0.355354   \n",
      "15   0.769292 -0.287051 -0.392300  0.706189 -0.356973 -0.219302 -0.355354   \n",
      "20   0.112974  0.648623  2.287488  4.163858  0.196169  2.554128 -0.355354   \n",
      "..        ...       ...       ...       ...       ...       ...       ...   \n",
      "229 -0.753300 -0.287223 -0.779609 -0.254587 -0.540036 -0.844376 -0.355354   \n",
      "234 -0.338876 -0.287223  2.470445 -0.263590 -0.275517  0.048768 -0.355354   \n",
      "239 -0.284481 -0.287223  0.063443 -0.281723 -0.445716 -0.057400 -0.355354   \n",
      "244 -0.753300 -0.207260 -0.775311 -0.309619  1.090265 -0.525826 -0.355354   \n",
      "249 -0.753300  0.186230 -0.725751 -0.277390  1.723232 -0.655897 -0.355354   \n",
      "\n",
      "        WDTCB     WSTCB     WWPRB     WYTCB  \n",
      "0   -0.831227 -0.697933 -0.896268 -0.458595  \n",
      "5    2.588675 -0.625990  2.008140 -0.474159  \n",
      "10   0.667297 -0.455556  0.427397 -0.474159  \n",
      "15  -0.806394 -0.695186 -0.874658 -0.430092  \n",
      "20   1.179578  2.360268  1.540966  0.717903  \n",
      "..        ...       ...       ...       ...  \n",
      "229 -0.494107 -0.696102 -0.611250 -0.439004  \n",
      "234  1.434200 -0.141237  1.150819  0.147786  \n",
      "239  1.037447 -0.071660  0.832714 -0.299252  \n",
      "244 -0.722628 -0.728067 -0.811897 -0.322232  \n",
      "249 -0.872673 -0.745386 -0.942752 -0.086418  \n",
      "\n",
      "[250 rows x 18 columns]\n",
      "       BDPRP     CLPRB     ENPRP     GETCB     HYTCB     NCPRB     NGMPB  \\\n",
      "0  -0.526398 -0.328587 -0.422901 -0.258285 -0.320242 -0.609128 -0.212115   \n",
      "1  -0.351578  0.163218 -0.422901 -0.261287  0.621032 -0.085415 -0.333903   \n",
      "2   0.419581 -0.354226 -0.422901 -0.216789 -0.095456 -0.473379 -0.157059   \n",
      "3  -0.526398 -0.354226 -0.422901 -0.247678  0.058344  0.024491 -0.394330   \n",
      "4   0.019383 -0.354226 -0.250264  6.524578  1.273321  3.568988 -0.301331   \n",
      "5  -0.526398 -0.006555 -0.218285 -0.220058 -0.327994  0.074834  0.779446   \n",
      "6  -0.231579 -0.354226 -0.422901 -0.269293 -0.437071 -0.632156 -0.394363   \n",
      "7  -0.526398 -0.354226 -0.422901 -0.242007 -0.463558 -0.683432 -0.394363   \n",
      "8  -0.507515 -0.354226 -0.422901  0.400180 -0.444730 -0.156401 -0.393861   \n",
      "9  -0.377771 -0.354226 -0.348432 -0.249679 -0.084731 -0.302720 -0.394363   \n",
      "10 -0.473404 -0.354226 -0.422901 -0.264556 -0.455529 -0.577828 -0.394363   \n",
      "11  4.564106 -0.354226  5.446573 -0.185234 -0.380263  0.880584 -0.394363   \n",
      "12 -0.526398 -0.354226 -0.399649 -0.117452  0.308959 -0.110249 -0.394309   \n",
      "13  1.757841  0.784554  1.730732 -0.134464 -0.452593  0.068903 -0.393418   \n",
      "14  0.924551  0.390302  1.051714  0.039325 -0.441563 -0.356463 -0.392223   \n",
      "15  0.325775 -0.354226  0.387474 -0.205715 -0.460928  0.377343 -0.302842   \n",
      "16  0.240497  0.589035 -0.363784 -0.089766 -0.056874 -0.454456 -0.354789   \n",
      "17 -0.526398 -0.338637 -0.422901 -0.147807 -0.365761 -0.617974  1.209649   \n",
      "18 -0.515434 -0.354226 -0.422901 -0.213387 -0.395007 -0.475502 -0.394363   \n",
      "19 -0.526398 -0.308963 -0.422901 -0.232667 -0.325697 -0.524106 -0.394358   \n",
      "20 -0.520916 -0.354226 -0.422901 -0.265891 -0.206960 -0.442105 -0.394363   \n",
      "21 -0.396045 -0.354226  0.047296  0.075751 -0.324354 -0.277821 -0.360530   \n",
      "22  0.675416 -0.354226  1.315192 -0.198977 -0.382162 -0.041331 -0.394363   \n",
      "23  2.845748 -0.348557 -0.034436 -0.247211 -0.310861 -0.440612 -0.394363   \n",
      "24 -0.162138 -0.310330 -0.422901 -0.206782 -0.463558 -0.669517 -0.380339   \n",
      "25 -0.526398  0.420542 -0.422901 -0.248212  0.409656 -0.078561 -0.373843   \n",
      "26 -0.508734 -0.354226 -0.422901 -0.206182  0.182971  0.070396 -0.394363   \n",
      "27  0.680898  0.247422  0.359381 -0.205448 -0.264471  0.022534  0.192328   \n",
      "28 -0.526398 -0.354226  2.307634 -0.189837 -0.350619 -0.219756 -0.394181   \n",
      "29 -0.490460 -0.354226 -0.422901 -0.268759 -0.363760 -0.608916 -0.394363   \n",
      "30 -0.526398 -0.354226 -0.422901 -0.239605 -0.462308 -0.512526 -0.394363   \n",
      "31 -0.526398 -0.038177 -0.422901 -0.214988 -0.447092 -0.266721  0.708927   \n",
      "32 -0.526398 -0.354226 -0.422901  2.057152 -0.307286 -0.129747 -0.394357   \n",
      "33 -0.526398 -0.354226 -0.311229 -0.191638  1.937307  0.964743 -0.389514   \n",
      "34  0.507296 -0.208456  0.387729 -0.041532 -0.433154 -0.539816  0.870630   \n",
      "35  0.013291 -0.354199 -0.422901 -0.269093 -0.231641  0.738143  1.177037   \n",
      "36 -0.364979 -0.354226 -0.372575 -0.076090  2.129930  1.187460 -0.394200   \n",
      "37 -0.110362  1.146825 -0.277083 -0.126459 -0.246431 -0.363060  3.268967   \n",
      "38 -0.463658 -0.354226 -0.422901 -0.266891 -0.463271 -0.662109 -0.394363   \n",
      "39 -0.526398 -0.354226 -0.422901 -0.227464 -0.149717 -0.427171 -0.394363   \n",
      "40 -0.526398 -0.354226  1.339400 -0.146073  0.010167 -0.181220 -0.394150   \n",
      "41 -0.015338 -0.350300 -0.165984 -0.256484  0.629422 -0.077658 -0.392975   \n",
      "42  2.532046  0.079359 -0.069409 -0.105377 -0.375864  3.908449  5.158521   \n",
      "43 -0.526398  0.134951 -0.422901  0.003700 -0.397202 -0.463494 -0.265565   \n",
      "44 -0.491678  0.061833 -0.420863 -0.157214 -0.298608 -0.522830 -0.342099   \n",
      "45 -0.526398 -0.354226 -0.422901 -0.268759 -0.371771 -0.610757 -0.394363   \n",
      "46  0.550544 -0.354226 -0.422901 -0.194907  5.744569  3.116125 -0.394363   \n",
      "47 -0.073814 -0.354226  0.277203 -0.229665 -0.237059 -0.478564 -0.394363   \n",
      "48 -0.526398  2.533521 -0.422901 -0.268559 -0.334208 -0.538590  1.117700   \n",
      "49 -0.526398  5.959517 -0.422901 -0.226463 -0.375327 -0.390904  0.327259   \n",
      "\n",
      "       NUETB     PAPRB     REPRB     SOTCB     TEPRB     TETCB     WDEXB  \\\n",
      "0  -0.737594  0.357079 -0.843641 -0.376626 -0.131159 -0.571653 -0.408958   \n",
      "1   1.295800 -0.252954  0.228798 -0.323982 -0.170418 -0.007519  0.669409   \n",
      "2  -0.034297 -0.253592 -0.490585 -0.327521 -0.286654 -0.385952 -0.408958   \n",
      "3   0.735602 -0.269415 -0.325927  0.871613 -0.369189 -0.163083 -0.408958   \n",
      "4   0.021529  0.277785  3.177168  6.430355  0.099692  2.385522 -0.408958   \n",
      "5  -0.737594  0.372297 -0.187373 -0.071550  0.534702 -0.189932 -0.408958   \n",
      "6  -0.003860 -0.269434 -0.791969 -0.232646 -0.446064 -0.559001 -0.408958   \n",
      "7  -0.737594 -0.269434 -0.929454 -0.351996 -0.500379 -0.742507 -0.408958   \n",
      "8   0.636006 -0.263744  0.105463  1.096016 -0.343595  1.011280  1.892021   \n",
      "9   0.795049 -0.269434  0.329122  0.189612 -0.321342  0.410882  3.328300   \n",
      "10 -0.737594 -0.269434 -0.830329 -0.114108 -0.493687 -0.763513 -0.408958   \n",
      "11 -0.601963 -0.269434  2.714447 -0.345292 -0.246042 -0.154642 -0.408958   \n",
      "12 -0.737594 -0.269429 -0.327675 -0.287956 -0.459718 -0.614031 -0.408958   \n",
      "13  3.942924 -0.242033  0.605759 -0.288517  0.091473  0.827612 -0.408958   \n",
      "14 -0.737594 -0.264073  0.059985 -0.303280 -0.306471  0.334092 -0.408958   \n",
      "15 -0.243495 -0.161377  0.272641 -0.362705 -0.292903 -0.369533 -0.408958   \n",
      "16 -0.737594 -0.260773 -0.576804 -0.363656 -0.293884 -0.121983 -0.408958   \n",
      "17  0.053790 -0.129075 -0.410731 -0.335580  0.551987  1.104112  0.982583   \n",
      "18 -0.737594 -0.269434 -0.643391  0.136765 -0.481066 -0.271221 -0.408958   \n",
      "19 -0.033478 -0.269434 -0.751991 -0.167656 -0.437659 -0.302177 -0.408958   \n",
      "20 -0.737594 -0.269434 -0.403561 -0.359260 -0.464874 -0.701107 -0.408958   \n",
      "21  0.678640 -0.253386 -0.029291 -0.327240 -0.326959  0.355819 -0.408958   \n",
      "22 -0.052308 -0.269434  0.486785 -0.131692 -0.362704 -0.057957 -0.408958   \n",
      "23 -0.376113 -0.269196 -0.374863 -0.314036 -0.439712 -0.071778 -0.408958   \n",
      "24 -0.435466 -0.215267 -0.682454 -0.316499 -0.427796 -0.384728  1.312534   \n",
      "25 -0.737594 -0.196841 -0.383249 -0.368348 -0.293496 -0.670876 -0.408958   \n",
      "26  1.238750 -0.269434  0.198832  0.807418 -0.302906  0.290071  4.427879   \n",
      "27 -0.737594  1.393430 -0.031783 -0.377406  0.671824 -0.578358 -0.408958   \n",
      "28 -0.448648 -0.263033  0.447393 -0.367008 -0.386972 -0.466443 -0.408958   \n",
      "29 -0.276986 -0.269434 -0.758165 -0.354459 -0.460545 -0.733845 -0.408958   \n",
      "30  0.510824 -0.269434 -0.733093  0.171591 -0.410501  0.018462 -0.408958   \n",
      "31 -0.737594  1.146854 -0.551928 -0.085268  0.781251 -0.543597 -0.408958   \n",
      "32 -0.737594 -0.268684 -0.475399  0.515436 -0.469414 -0.538727 -0.408958   \n",
      "33  1.056719 -0.268382  0.788307  0.071697 -0.271104  0.705843 -0.408958   \n",
      "34  0.113058 -0.178358 -0.289164 -0.318464  0.373240  0.729499 -0.408958   \n",
      "35 -0.737594  0.387240  0.371986 -0.364420  0.746089 -0.129650 -0.408958   \n",
      "36 -0.737594 -0.269434  0.899549 -0.173128 -0.376804 -0.410278 -0.408958   \n",
      "37  2.835212 -0.248281 -0.175109 -0.266116  2.103564  0.733507 -0.408958   \n",
      "38 -0.737594 -0.269434 -0.897549 -0.309391 -0.498225 -0.790219 -0.408958   \n",
      "39  1.818752 -0.269434 -0.290745 -0.090865 -0.300362 -0.151228  1.292092   \n",
      "40 -0.737594 -0.265430  0.121007 -0.377000 -0.427703 -0.686268 -0.408958   \n",
      "41  0.975389 -0.268803 -0.122705 -0.320599 -0.339082  0.086823 -0.074957   \n",
      "42  1.197193  6.523086  3.361655  1.020082  5.900897  5.472307  1.125092   \n",
      "43 -0.737594 -0.151088 -0.737329  0.049670 -0.284812 -0.482736 -0.408958   \n",
      "44  0.669653 -0.269415 -0.345576 -0.152332 -0.275839  0.196969  1.403362   \n",
      "45 -0.737594 -0.269434 -0.791615 -0.327334 -0.491073 -0.813790 -0.408958   \n",
      "46 -0.297443 -0.269434  2.597482 -0.335128 -0.235249 -0.035411 -0.408958   \n",
      "47 -0.281368 -0.269434 -0.127156 -0.343344 -0.418212 -0.068956 -0.408958   \n",
      "48 -0.737594 -0.196558 -0.775522 -0.374662  0.876341 -0.494559 -0.408958   \n",
      "49 -0.737594  0.071219 -0.680255 -0.353180  1.113510 -0.635545 -0.408958   \n",
      "\n",
      "       WDTCB     WSTCB     WWPRB     WYTCB  \n",
      "0  -0.765590 -0.721607 -0.840221 -0.456211  \n",
      "1   2.664840 -0.628478  2.160813 -0.465058  \n",
      "2   0.326621 -0.447048  0.135335 -0.465058  \n",
      "3  -0.723231 -0.733852 -0.807433 -0.420736  \n",
      "4   1.521634  2.666151  1.820601  0.469566  \n",
      "5  -0.609398 -0.663229 -0.696510  0.456021  \n",
      "6  -0.636681  0.050074 -0.562706 -0.464219  \n",
      "7  -0.918821 -0.686856 -0.961013 -0.464705  \n",
      "8   0.894268  4.296521  1.879017 -0.465058  \n",
      "9   3.623034 -0.181973  3.323022 -0.465058  \n",
      "10 -0.931253 -0.382978 -0.904699 -0.424305  \n",
      "11 -0.773818  0.266083 -0.630176  1.886961  \n",
      "12 -0.203730 -0.627529 -0.348740 -0.274422  \n",
      "13 -0.752322  0.063354 -0.656695  0.651418  \n",
      "14 -0.509286  0.693961 -0.314512 -0.032421  \n",
      "15 -0.841335 -0.505857 -0.856340  1.183844  \n",
      "16 -0.309741 -0.488697 -0.407080 -0.465058  \n",
      "17  1.226226  0.392584  1.210317 -0.465058  \n",
      "18 -0.618010  0.670679 -0.410755 -0.448666  \n",
      "19 -0.791155 -0.133511 -0.732480 -0.427513  \n",
      "20  0.883712 -0.537418  0.582322 -0.300249  \n",
      "21  0.876253  0.909711  0.893952 -0.001628  \n",
      "22  0.154336 -0.006579  0.087716  0.349024  \n",
      "23 -0.460508 -0.403242 -0.514650 -0.234884  \n",
      "24  0.102257 -0.630288  0.076161 -0.465058  \n",
      "25 -0.585303 -0.714191 -0.687513 -0.254602  \n",
      "26  1.202832  0.089051  1.462450 -0.427473  \n",
      "27 -0.915656 -0.670903 -0.954856  0.473064  \n",
      "28 -0.870901 -0.588121 -0.899168  0.162153  \n",
      "29 -0.370228 -0.447651 -0.448733 -0.428940  \n",
      "30 -0.863532  0.345502 -0.687911 -0.463677  \n",
      "31 -0.676803 -0.726264 -0.766860  0.032027  \n",
      "32 -0.875534 -0.686597 -0.924682 -0.442713  \n",
      "33  0.354040  1.858425  0.664738 -0.153927  \n",
      "34 -0.126741  0.389911 -0.060731 -0.307543  \n",
      "35 -0.276559 -0.249320 -0.326692  1.559069  \n",
      "36  0.623205 -0.268722  0.423041  0.138890  \n",
      "37  0.717168  2.155491  1.034310 -0.207151  \n",
      "38 -0.897415 -0.504477 -0.903013 -0.450281  \n",
      "39  1.211037 -0.404794  1.052835 -0.465058  \n",
      "40 -0.866809 -0.740578 -0.929228 -0.083574  \n",
      "41  0.113491 -0.386427  0.002857 -0.462360  \n",
      "42  0.297847  1.434686  0.675270  5.895638  \n",
      "43 -0.842714 -0.662108 -0.891780 -0.409834  \n",
      "44  0.984435  0.839606  1.147222 -0.465058  \n",
      "45 -0.475946 -0.694962 -0.591668 -0.438666  \n",
      "46  1.290172 -0.086343  1.022017  0.172490  \n",
      "47  0.946799 -0.019342  0.748991 -0.343724  \n",
      "48 -0.699338 -0.735145 -0.787696 -0.334477  \n",
      "49 -0.825851 -0.756703 -0.898448 -0.085746  \n"
     ]
    }
   ],
   "source": [
    "print(sorted_X_drop_norm)\n",
    "print(sorted_X_test_drop_norm)"
   ]
  },
  {
   "cell_type": "code",
   "execution_count": 63,
   "metadata": {},
   "outputs": [
    {
     "data": {
      "text/plain": [
       "LinearRegression()"
      ]
     },
     "execution_count": 63,
     "metadata": {},
     "output_type": "execute_result"
    }
   ],
   "source": [
    "linreg_norm = linear_model.LinearRegression()\n",
    "linreg_norm.fit(sorted_X_drop_norm, y)"
   ]
  },
  {
   "cell_type": "code",
   "execution_count": 64,
   "metadata": {},
   "outputs": [
    {
     "name": "stdout",
     "output_type": "stream",
     "text": [
      "[[-4.77001990e+06 -2.65862329e+12 -5.01644681e+07 -7.09907584e+09\n",
      "  -5.26356076e+10  8.19507061e+10 -5.25318961e+12 -6.90304169e+11\n",
      "  -3.79947443e+12 -7.01601861e+11 -2.16074802e+10  9.70324874e+12\n",
      "   1.76166938e+07  2.52341125e+10  2.93722471e+11  8.41509453e+10\n",
      "  -3.47969275e+11 -4.36717117e+10]]\n",
      "[16605972.65616275]\n",
      "0.19742345894631597\n"
     ]
    }
   ],
   "source": [
    "print(linreg_norm.coef_)\n",
    "print(linreg_norm.intercept_)\n",
    "print(linreg_norm.score(sorted_X_drop_norm, y))"
   ]
  },
  {
   "cell_type": "code",
   "execution_count": 65,
   "metadata": {},
   "outputs": [
    {
     "name": "stdout",
     "output_type": "stream",
     "text": [
      "[[ 4.52871808e+11]\n",
      " [-4.43074544e+11]\n",
      " [ 3.12812226e+11]\n",
      " [ 1.72159453e+11]\n",
      " [ 2.39864082e+11]\n",
      " [ 3.41144430e+11]\n",
      " [ 2.68296797e+11]\n",
      " [ 3.37535049e+11]\n",
      " [ 1.88415868e+11]\n",
      " [ 1.13533426e+11]\n",
      " [ 3.36736876e+11]\n",
      " [ 1.83125123e+11]\n",
      " [ 3.07278308e+11]\n",
      " [-1.34807140e+12]\n",
      " [-4.70979652e+11]\n",
      " [ 2.91225024e+11]\n",
      " [-6.55413996e+11]\n",
      " [ 6.37446151e+11]\n",
      " [ 3.37328199e+11]\n",
      " [ 2.19868741e+11]\n",
      " [ 3.17483086e+11]\n",
      " [ 1.91408083e+11]\n",
      " [ 2.21919520e+11]\n",
      " [ 2.75777911e+11]\n",
      " [ 2.51147186e+11]\n",
      " [-4.86346249e+11]\n",
      " [ 6.58407088e+10]\n",
      " [ 8.91443275e+10]\n",
      " [ 2.52582017e+11]\n",
      " [ 2.88462680e+11]\n",
      " [ 2.20752545e+11]\n",
      " [ 4.97286879e+11]\n",
      " [ 3.17769645e+11]\n",
      " [ 9.69521355e+10]\n",
      " [ 4.10332945e+11]\n",
      " [ 7.90399367e+11]\n",
      " [ 2.44441230e+11]\n",
      " [-6.80272935e+11]\n",
      " [ 3.37861434e+11]\n",
      " [ 5.58279229e+10]\n",
      " [ 2.88440887e+11]\n",
      " [ 1.26981354e+11]\n",
      " [ 2.04198445e+12]\n",
      " [-1.30293743e+11]\n",
      " [-2.46337804e+11]\n",
      " [ 3.31647955e+11]\n",
      " [ 9.72375293e+10]\n",
      " [ 2.65393714e+11]\n",
      " [-2.30913506e+12]\n",
      " [-6.04596139e+12]]\n",
      "    TotalAmountofAssistance\n",
      "0                 9567164.0\n",
      "1                 1174323.0\n",
      "2                61208016.0\n",
      "3                23756565.0\n",
      "4                58722209.0\n",
      "5                 6304206.0\n",
      "6                  491729.0\n",
      "7                23750266.0\n",
      "8                 8467648.0\n",
      "9                 7307409.0\n",
      "10                1153848.0\n",
      "11               63476066.0\n",
      "12                 733911.0\n",
      "13                3526853.0\n",
      "14                8555854.0\n",
      "15                2802130.0\n",
      "16               11046095.0\n",
      "17                5171076.0\n",
      "18               21021782.0\n",
      "19                1459180.0\n",
      "20                1718854.0\n",
      "21                3543100.0\n",
      "22               29357835.0\n",
      "23                4677028.0\n",
      "24                2102663.0\n",
      "25                 542585.0\n",
      "26              176369306.0\n",
      "27                 686913.0\n",
      "28                9134015.0\n",
      "29                 996776.0\n",
      "30                 428543.0\n",
      "31               48503359.0\n",
      "32                  53672.0\n",
      "33               39346669.0\n",
      "34                3038155.0\n",
      "35                 560909.0\n",
      "36               25808865.0\n",
      "37                2136747.0\n",
      "38                 635939.0\n",
      "39              145497267.0\n",
      "40                6976448.0\n",
      "41                1536871.0\n",
      "42               39546994.0\n",
      "43                 736194.0\n",
      "44                2039514.0\n",
      "45                2405926.0\n",
      "46                2509973.0\n",
      "47                9860324.0\n",
      "48                1052654.0\n",
      "49                 229763.0\n"
     ]
    }
   ],
   "source": [
    "y_pred_norm = linreg_norm.predict(sorted_X_test_drop_norm)\n",
    "print(y_pred_norm)\n",
    "print(y_test)"
   ]
  },
  {
   "cell_type": "code",
   "execution_count": 66,
   "metadata": {},
   "outputs": [
    {
     "name": "stdout",
     "output_type": "stream",
     "text": [
      "1032310556577.1436\n"
     ]
    }
   ],
   "source": [
    "mse_norm = metrics.mean_squared_error(y_test, y_pred_norm)\n",
    "print(math.sqrt(mse_norm))"
   ]
  },
  {
   "cell_type": "code",
   "execution_count": 67,
   "metadata": {},
   "outputs": [],
   "source": [
    "#### Attempt adding CO2 emissions and number of investments\n",
    "# sorted_X_drop_add = sorted_X_drop.copy(deep=True)\n"
   ]
  },
  {
   "cell_type": "code",
   "execution_count": 68,
   "metadata": {},
   "outputs": [],
   "source": [
    "### Replace zeros with the means for each column\n",
    "sorted_X_drop_filled = sorted_X_drop.mask(sorted_X_drop==0).fillna(sorted_X_drop.mean())"
   ]
  },
  {
   "cell_type": "code",
   "execution_count": 69,
   "metadata": {},
   "outputs": [],
   "source": [
    "# print(sorted_X_drop_filled.head())\n",
    "# print(sorted_X_drop.head())\n",
    "# print((sorted_X_drop == 0).sum(axis=1))"
   ]
  },
  {
   "cell_type": "code",
   "execution_count": 70,
   "metadata": {},
   "outputs": [],
   "source": [
    "sorted_X_test_drop_filled = sorted_X_test_drop.mask(sorted_X_test_drop==0).fillna(sorted_X_test_drop.mean())"
   ]
  },
  {
   "cell_type": "code",
   "execution_count": 71,
   "metadata": {},
   "outputs": [
    {
     "name": "stdout",
     "output_type": "stream",
     "text": [
      "0     0\n",
      "1     0\n",
      "2     0\n",
      "3     0\n",
      "4     0\n",
      "5     0\n",
      "6     0\n",
      "7     0\n",
      "8     0\n",
      "9     0\n",
      "10    0\n",
      "11    0\n",
      "12    0\n",
      "13    0\n",
      "14    0\n",
      "15    0\n",
      "16    0\n",
      "17    0\n",
      "18    0\n",
      "19    0\n",
      "20    0\n",
      "21    0\n",
      "22    0\n",
      "23    0\n",
      "24    0\n",
      "25    0\n",
      "26    0\n",
      "27    0\n",
      "28    0\n",
      "29    0\n",
      "30    0\n",
      "31    0\n",
      "32    0\n",
      "33    0\n",
      "34    0\n",
      "35    0\n",
      "36    0\n",
      "37    0\n",
      "38    0\n",
      "39    0\n",
      "40    0\n",
      "41    0\n",
      "42    0\n",
      "43    0\n",
      "44    0\n",
      "45    0\n",
      "46    0\n",
      "47    0\n",
      "48    0\n",
      "49    0\n",
      "dtype: int64\n"
     ]
    }
   ],
   "source": [
    "print((sorted_X_test_drop_filled == 0).sum(axis=1))"
   ]
  },
  {
   "cell_type": "code",
   "execution_count": 72,
   "metadata": {},
   "outputs": [
    {
     "data": {
      "text/plain": [
       "LinearRegression()"
      ]
     },
     "execution_count": 72,
     "metadata": {},
     "output_type": "execute_result"
    }
   ],
   "source": [
    "linreg_drop_filled = linear_model.LinearRegression()\n",
    "linreg_drop_filled.fit(sorted_X_drop_filled, y)"
   ]
  },
  {
   "cell_type": "code",
   "execution_count": 73,
   "metadata": {},
   "outputs": [
    {
     "name": "stdout",
     "output_type": "stream",
     "text": [
      "[[-6.78687076e+01  7.82218255e+00  1.77905493e+02  1.14757616e+02\n",
      "   6.92068414e+01  7.16267985e+01  8.41314932e+00  9.94033165e+00\n",
      "  -1.67220986e+00 -1.08839642e+02  1.81871744e+02 -7.41918723e+00\n",
      "   8.59681088e+00  4.41167940e+03 -2.40256082e+02 -9.30243733e+02\n",
      "   2.04892910e+02  7.71375869e+01]]\n",
      "[-4736132.78732648]\n",
      "0.19916387049455386\n"
     ]
    }
   ],
   "source": [
    "print(linreg_drop_filled.coef_)\n",
    "print(linreg_drop_filled.intercept_)\n",
    "print(linreg_drop_filled.score(sorted_X_drop_filled, y))"
   ]
  },
  {
   "cell_type": "code",
   "execution_count": 74,
   "metadata": {},
   "outputs": [
    {
     "name": "stdout",
     "output_type": "stream",
     "text": [
      "[[ 6.08547095e+06]\n",
      " [ 2.34385171e+07]\n",
      " [ 1.26487693e+07]\n",
      " [ 3.45003713e+07]\n",
      " [ 8.35617485e+07]\n",
      " [ 1.57661087e+07]\n",
      " [ 1.33969800e+07]\n",
      " [ 2.28906637e+07]\n",
      " [ 4.62142903e+07]\n",
      " [ 8.87184287e+07]\n",
      " [ 1.86526376e+07]\n",
      " [ 8.05300664e+06]\n",
      " [ 9.94765843e+06]\n",
      " [ 2.77031408e+07]\n",
      " [ 9.71598978e+06]\n",
      " [ 1.58900302e+07]\n",
      " [ 1.79890409e+07]\n",
      " [ 4.87691622e+07]\n",
      " [ 1.76506106e+07]\n",
      " [ 1.36049035e+07]\n",
      " [ 8.21789292e+06]\n",
      " [ 3.18727675e+06]\n",
      " [ 1.44566465e+07]\n",
      " [ 8.66302266e+06]\n",
      " [ 4.74650405e+07]\n",
      " [ 1.31935110e+07]\n",
      " [ 1.31882401e+08]\n",
      " [-9.10337233e+06]\n",
      " [ 1.05209597e+07]\n",
      " [ 1.28149608e+07]\n",
      " [ 2.65621077e+07]\n",
      " [ 1.61937350e+06]\n",
      " [ 2.72248349e+07]\n",
      " [ 1.31968685e+07]\n",
      " [ 1.77802500e+07]\n",
      " [ 1.68206158e+07]\n",
      " [ 1.15639630e+07]\n",
      " [ 5.96034130e+06]\n",
      " [ 1.72582018e+07]\n",
      " [ 5.10485462e+07]\n",
      " [ 1.07806048e+07]\n",
      " [ 1.31268647e+07]\n",
      " [ 7.15155979e+07]\n",
      " [ 1.85420176e+07]\n",
      " [ 3.67103881e+07]\n",
      " [ 1.57734832e+07]\n",
      " [ 2.81316478e+07]\n",
      " [ 7.29587111e+06]\n",
      " [ 1.85740444e+07]\n",
      " [ 5.64019825e+06]]\n",
      "    TotalAmountofAssistance\n",
      "0                 9567164.0\n",
      "1                 1174323.0\n",
      "2                61208016.0\n",
      "3                23756565.0\n",
      "4                58722209.0\n",
      "5                 6304206.0\n",
      "6                  491729.0\n",
      "7                23750266.0\n",
      "8                 8467648.0\n",
      "9                 7307409.0\n",
      "10                1153848.0\n",
      "11               63476066.0\n",
      "12                 733911.0\n",
      "13                3526853.0\n",
      "14                8555854.0\n",
      "15                2802130.0\n",
      "16               11046095.0\n",
      "17                5171076.0\n",
      "18               21021782.0\n",
      "19                1459180.0\n",
      "20                1718854.0\n",
      "21                3543100.0\n",
      "22               29357835.0\n",
      "23                4677028.0\n",
      "24                2102663.0\n",
      "25                 542585.0\n",
      "26              176369306.0\n",
      "27                 686913.0\n",
      "28                9134015.0\n",
      "29                 996776.0\n",
      "30                 428543.0\n",
      "31               48503359.0\n",
      "32                  53672.0\n",
      "33               39346669.0\n",
      "34                3038155.0\n",
      "35                 560909.0\n",
      "36               25808865.0\n",
      "37                2136747.0\n",
      "38                 635939.0\n",
      "39              145497267.0\n",
      "40                6976448.0\n",
      "41                1536871.0\n",
      "42               39546994.0\n",
      "43                 736194.0\n",
      "44                2039514.0\n",
      "45                2405926.0\n",
      "46                2509973.0\n",
      "47                9860324.0\n",
      "48                1052654.0\n",
      "49                 229763.0\n"
     ]
    }
   ],
   "source": [
    "y_pred_drop_filled = linreg_drop_filled.predict(sorted_X_test_drop_filled)\n",
    "print(y_pred_drop_filled)\n",
    "print(y_test)"
   ]
  },
  {
   "cell_type": "code",
   "execution_count": 75,
   "metadata": {},
   "outputs": [
    {
     "name": "stdout",
     "output_type": "stream",
     "text": [
      "28641664.952540006\n"
     ]
    }
   ],
   "source": [
    "mse_drop_filled = metrics.mean_squared_error(y_test, y_pred_drop_filled)\n",
    "print(math.sqrt(mse_drop_filled))"
   ]
  },
  {
   "cell_type": "code",
   "execution_count": 76,
   "metadata": {},
   "outputs": [
    {
     "name": "stdout",
     "output_type": "stream",
     "text": [
      "[[3345612.0]\n",
      " [1864412.0]\n",
      " [13453887.0]\n",
      " [1724853.0]\n",
      " [30077512.0]\n",
      " [1658730.0]\n",
      " [1340702.0]\n",
      " [1452666.0]\n",
      " [3527420.0]\n",
      " [6155856.0]\n",
      " [1033143.0]\n",
      " [5552396.0]\n",
      " [1895904.0]\n",
      " [2533998.0]\n",
      " [2525723.0]\n",
      " [2548830.0]\n",
      " [315635700.0]\n",
      " [2312261.0]\n",
      " [4240538.0]\n",
      " [1890491.0]\n",
      " [2818563.0]\n",
      " [3049845.0]\n",
      " [3292766.0]\n",
      " [7036095.0]\n",
      " [3710526.0]\n",
      " [896759.0]\n",
      " [202376181.0]\n",
      " [420940.0]\n",
      " [3396859.0]\n",
      " [1371086.0]\n",
      " [1130951.0]\n",
      " [1126396.0]\n",
      " [790588.0]\n",
      " [5040800.0]\n",
      " [2513363.0]\n",
      " [1677872.0]\n",
      " [6478283.0]\n",
      " [4218295.0]\n",
      " [671306.0]\n",
      " [3065630.0]\n",
      " [3577721.0]\n",
      " [3275928.0]\n",
      " [2671308.0]\n",
      " [1243588.0]\n",
      " [2446464.0]\n",
      " [47317173.0]\n",
      " [1978193.0]\n",
      " [3755629.0]\n",
      " [491426.0]\n",
      " [249960.0]\n",
      " [2247734.0]\n",
      " [1206793.0]\n",
      " [4637664.0]\n",
      " [2053339.0]\n",
      " [59755992.0]\n",
      " [1800615.0]\n",
      " [962061.0]\n",
      " [502817.0]\n",
      " [4068360.0]\n",
      " [20155611.0]\n",
      " [429104.0]\n",
      " [4220545.0]\n",
      " [1317624.0]\n",
      " [1325335.0]\n",
      " [11391681.0]\n",
      " [1440764.0]\n",
      " [2257870.0]\n",
      " [1499474.0]\n",
      " [841616.0]\n",
      " [1349074.0]\n",
      " [795948.0]\n",
      " [1293489.0]\n",
      " [16796366.0]\n",
      " [10631411.0]\n",
      " [96309030.0]\n",
      " [2257495.0]\n",
      " [190472938.0]\n",
      " [502584.0]\n",
      " [4011050.0]\n",
      " [3111505.0]\n",
      " [597439.0]\n",
      " [2015514.0]\n",
      " [54082.0]\n",
      " [2403723.0]\n",
      " [775584.0]\n",
      " [1341097.0]\n",
      " [104123811.0]\n",
      " [2394977.0]\n",
      " [489512.0]\n",
      " [22430291.0]\n",
      " [76031784.0]\n",
      " [1102457.0]\n",
      " [83607077.0]\n",
      " [612804.0]\n",
      " [853133.0]\n",
      " [873689.0]\n",
      " [2515938.0]\n",
      " [7777098.0]\n",
      " [614068.0]\n",
      " [1359346.0]\n",
      " [13509662.0]\n",
      " [2414699.0]\n",
      " [2069460.0]\n",
      " [1714281.0]\n",
      " [30392556.0]\n",
      " [1385451.0]\n",
      " [788599.0]\n",
      " [1636426.0]\n",
      " [1239122.0]\n",
      " [2884817.0]\n",
      " [1467132.0]\n",
      " [6233820.0]\n",
      " [988061.0]\n",
      " [1262924.0]\n",
      " [4052088.0]\n",
      " [1454281.0]\n",
      " [1948714.0]\n",
      " [1216601.0]\n",
      " [5852232.0]\n",
      " [6343700.0]\n",
      " [2223059.0]\n",
      " [1287282.0]\n",
      " [2726558.0]\n",
      " [4957942.0]\n",
      " [2686540.0]\n",
      " [1091494.0]\n",
      " [235434075.0]\n",
      " [477713.0]\n",
      " [3743400.0]\n",
      " [1307930.0]\n",
      " [881961.0]\n",
      " [5893114.0]\n",
      " [311016629.0]\n",
      " [789556.0]\n",
      " [10274821.0]\n",
      " [2449186.0]\n",
      " [137275588.0]\n",
      " [2661655.0]\n",
      " [547069.0]\n",
      " [68063288.0]\n",
      " [3225820.0]\n",
      " [889496.0]\n",
      " [98254981.0]\n",
      " [15437033.0]\n",
      " [5764689.0]\n",
      " [4591717.0]\n",
      " [6910234.0]\n",
      " [2622475.0]\n",
      " [673413.0]\n",
      " [413987.0]\n",
      " [18236626.0]\n",
      " [1844186.0]\n",
      " [79970512.0]\n",
      " [539053.0]\n",
      " [28208367.0]\n",
      " [29876375.0]\n",
      " [1486681.0]\n",
      " [824222.0]\n",
      " [49550089.0]\n",
      " [7882488.0]\n",
      " [5818783.0]\n",
      " [8883799.0]\n",
      " [1198524.0]\n",
      " [5112413.0]\n",
      " [5700232.0]\n",
      " [1041662.0]\n",
      " [2944583.0]\n",
      " [764829.0]\n",
      " [3360964.0]\n",
      " [2306029.0]\n",
      " [2491389.0]\n",
      " [936266.0]\n",
      " [55322766.0]\n",
      " [3637928.0]\n",
      " [3767073.0]\n",
      " [2449554.0]\n",
      " [141776088.0]\n",
      " [520857.0]\n",
      " [4330170.0]\n",
      " [636384.0]\n",
      " [852979.0]\n",
      " [755535.0]\n",
      " [535889.0]\n",
      " [13144827.0]\n",
      " [6168918.0]\n",
      " [1495639.0]\n",
      " [3286698.0]\n",
      " [10494432.0]\n",
      " [661136.0]\n",
      " [64580916.0]\n",
      " [3826069.0]\n",
      " [4038180.0]\n",
      " [46570295.0]\n",
      " [668749.0]\n",
      " [2735678.0]\n",
      " [493740.0]\n",
      " [3061489.0]\n",
      " [2067441.0]\n",
      " [946699.0]\n",
      " [573639.0]\n",
      " [13734021.0]\n",
      " [840218.0]\n",
      " [60034678.0]\n",
      " [95135122.0]\n",
      " [158244985.0]\n",
      " [10796826.0]\n",
      " [1306178.0]\n",
      " [1485254.0]\n",
      " [52936642.0]\n",
      " [2374660.0]\n",
      " [329849.0]\n",
      " [3041432.0]\n",
      " [910270.0]\n",
      " [11321378.0]\n",
      " [1593785.0]\n",
      " [992149.0]\n",
      " [1092217.0]\n",
      " [250695185.0]\n",
      " [1860604.0]\n",
      " [1428319.0]\n",
      " [1093090.0]\n",
      " [2360732.0]\n",
      " [29572563.0]\n",
      " [3478408.0]\n",
      " [2609443.0]\n",
      " [618074.0]\n",
      " [126884709.0]\n",
      " [759349.0]\n",
      " [2293019.0]\n",
      " [739179.0]\n",
      " [314035.0]\n",
      " [1493382.0]\n",
      " [201782.0]\n",
      " [30602444.0]\n",
      " [2756315.0]\n",
      " [645165.0]\n",
      " [13382214.0]\n",
      " [2943270.0]\n",
      " [8838243.0]\n",
      " [53928982.0]\n",
      " [538508.0]\n",
      " [6964195.0]\n",
      " [9605822.0]\n",
      " [448561.0]\n",
      " [4195235.0]\n",
      " [1121855.0]\n",
      " [18389113.0]\n",
      " [2915140.0]\n",
      " [790383.0]\n",
      " [570570.0]]\n"
     ]
    },
    {
     "name": "stderr",
     "output_type": "stream",
     "text": [
      "/Applications/anaconda3/lib/python3.8/site-packages/sklearn/utils/validation.py:993: DataConversionWarning: A column-vector y was passed when a 1d array was expected. Please change the shape of y to (n_samples, ), for example using ravel().\n",
      "  y = column_or_1d(y, warn=True)\n"
     ]
    },
    {
     "ename": "ValueError",
     "evalue": "Unknown label type: 'unknown'",
     "output_type": "error",
     "traceback": [
      "\u001b[0;31m---------------------------------------------------------------------------\u001b[0m",
      "\u001b[0;31mValueError\u001b[0m                                Traceback (most recent call last)",
      "\u001b[0;32m/var/folders/sb/y6vkx66n73j528sqx4kjzjd40000gn/T/ipykernel_19377/3807685931.py\u001b[0m in \u001b[0;36m<module>\u001b[0;34m\u001b[0m\n\u001b[1;32m      2\u001b[0m \u001b[0mlogReg\u001b[0m \u001b[0;34m=\u001b[0m \u001b[0mlinear_model\u001b[0m\u001b[0;34m.\u001b[0m\u001b[0mLogisticRegression\u001b[0m\u001b[0;34m(\u001b[0m\u001b[0;34m)\u001b[0m\u001b[0;34m\u001b[0m\u001b[0;34m\u001b[0m\u001b[0m\n\u001b[1;32m      3\u001b[0m \u001b[0mprint\u001b[0m\u001b[0;34m(\u001b[0m\u001b[0my\u001b[0m\u001b[0;34m.\u001b[0m\u001b[0mto_numpy\u001b[0m\u001b[0;34m(\u001b[0m\u001b[0;34m)\u001b[0m\u001b[0;34m)\u001b[0m\u001b[0;34m\u001b[0m\u001b[0;34m\u001b[0m\u001b[0m\n\u001b[0;32m----> 4\u001b[0;31m \u001b[0mlogReg\u001b[0m\u001b[0;34m.\u001b[0m\u001b[0mfit\u001b[0m\u001b[0;34m(\u001b[0m\u001b[0msorted_X_drop\u001b[0m\u001b[0;34m,\u001b[0m \u001b[0my\u001b[0m\u001b[0;34m.\u001b[0m\u001b[0mto_numpy\u001b[0m\u001b[0;34m(\u001b[0m\u001b[0;34m)\u001b[0m\u001b[0;34m)\u001b[0m\u001b[0;34m\u001b[0m\u001b[0;34m\u001b[0m\u001b[0m\n\u001b[0m",
      "\u001b[0;32m/Applications/anaconda3/lib/python3.8/site-packages/sklearn/linear_model/_logistic.py\u001b[0m in \u001b[0;36mfit\u001b[0;34m(self, X, y, sample_weight)\u001b[0m\n\u001b[1;32m   1514\u001b[0m             \u001b[0maccept_large_sparse\u001b[0m\u001b[0;34m=\u001b[0m\u001b[0msolver\u001b[0m \u001b[0;32mnot\u001b[0m \u001b[0;32min\u001b[0m \u001b[0;34m[\u001b[0m\u001b[0;34m\"liblinear\"\u001b[0m\u001b[0;34m,\u001b[0m \u001b[0;34m\"sag\"\u001b[0m\u001b[0;34m,\u001b[0m \u001b[0;34m\"saga\"\u001b[0m\u001b[0;34m]\u001b[0m\u001b[0;34m,\u001b[0m\u001b[0;34m\u001b[0m\u001b[0;34m\u001b[0m\u001b[0m\n\u001b[1;32m   1515\u001b[0m         )\n\u001b[0;32m-> 1516\u001b[0;31m         \u001b[0mcheck_classification_targets\u001b[0m\u001b[0;34m(\u001b[0m\u001b[0my\u001b[0m\u001b[0;34m)\u001b[0m\u001b[0;34m\u001b[0m\u001b[0;34m\u001b[0m\u001b[0m\n\u001b[0m\u001b[1;32m   1517\u001b[0m         \u001b[0mself\u001b[0m\u001b[0;34m.\u001b[0m\u001b[0mclasses_\u001b[0m \u001b[0;34m=\u001b[0m \u001b[0mnp\u001b[0m\u001b[0;34m.\u001b[0m\u001b[0munique\u001b[0m\u001b[0;34m(\u001b[0m\u001b[0my\u001b[0m\u001b[0;34m)\u001b[0m\u001b[0;34m\u001b[0m\u001b[0;34m\u001b[0m\u001b[0m\n\u001b[1;32m   1518\u001b[0m \u001b[0;34m\u001b[0m\u001b[0m\n",
      "\u001b[0;32m/Applications/anaconda3/lib/python3.8/site-packages/sklearn/utils/multiclass.py\u001b[0m in \u001b[0;36mcheck_classification_targets\u001b[0;34m(y)\u001b[0m\n\u001b[1;32m    195\u001b[0m         \u001b[0;34m\"multilabel-sequences\"\u001b[0m\u001b[0;34m,\u001b[0m\u001b[0;34m\u001b[0m\u001b[0;34m\u001b[0m\u001b[0m\n\u001b[1;32m    196\u001b[0m     ]:\n\u001b[0;32m--> 197\u001b[0;31m         \u001b[0;32mraise\u001b[0m \u001b[0mValueError\u001b[0m\u001b[0;34m(\u001b[0m\u001b[0;34m\"Unknown label type: %r\"\u001b[0m \u001b[0;34m%\u001b[0m \u001b[0my_type\u001b[0m\u001b[0;34m)\u001b[0m\u001b[0;34m\u001b[0m\u001b[0;34m\u001b[0m\u001b[0m\n\u001b[0m\u001b[1;32m    198\u001b[0m \u001b[0;34m\u001b[0m\u001b[0m\n\u001b[1;32m    199\u001b[0m \u001b[0;34m\u001b[0m\u001b[0m\n",
      "\u001b[0;31mValueError\u001b[0m: Unknown label type: 'unknown'"
     ]
    }
   ],
   "source": [
    "### Logistic Model\n",
    "# logReg = linear_model.LogisticRegression()\n",
    "# print(y.to_numpy())\n",
    "# logReg.fit(sorted_X_drop, y.to_numpy())"
   ]
  },
  {
   "cell_type": "code",
   "execution_count": 79,
   "metadata": {},
   "outputs": [
    {
     "name": "stdout",
     "output_type": "stream",
     "text": [
      "        BDPRP    CLPRB         ENPRP  GETCB    HYTCB  NCPRB     NGMPB  \\\n",
      "0    21.84000  17747.0  23720.058432    186  14621.0  16298  380887.0   \n",
      "1    27.30000  13942.0  23814.938666    186  15317.0  17081  369865.0   \n",
      "2    27.30000  14365.0  23910.198420    186  15143.0  16655  382940.0   \n",
      "3    16.38000  13752.0  24005.839214    186  15151.0  16777  375279.0   \n",
      "4  4164.53856  14867.0  24101.862571    186  14456.0  15951  364363.0   \n",
      "\n",
      "           NUETB      PAPRB  REPRB  SOTCB    TEPRB   TETCB        WDEXB  \\\n",
      "0  168290.108000  1007501.0  23807      3  1429942  614242  1395.604000   \n",
      "1  168963.268432  1026401.0  25155     14  1435363  593662  1401.186416   \n",
      "2  169639.121506  1033270.0  23620     20  1454196  601492  1406.791162   \n",
      "3  170317.677992   997415.0  24158     28  1410604  604644  1412.418326   \n",
      "4  170998.948704   968358.0  22754     40  1370342  605689  1418.068000   \n",
      "\n",
      "   WDTCB  WSTCB  WWPRB   WYTCB  assistance  \n",
      "0   6865  622.0   7488  1488.0     3345612  \n",
      "1   7636  412.0   8048  1563.0     2247734  \n",
      "2   6501  436.0   6937  1305.0    13509662  \n",
      "3   6910  456.0   7366  1411.0    18236626  \n",
      "4   6418  386.0   6803  1270.0    13734021  \n"
     ]
    }
   ],
   "source": [
    "## Test model with filled in data\n",
    "### drop columns\n",
    "#### note that emissions, numInvestments were added\n",
    "\n",
    "data_filled = pd.read_csv(\"zeroless.csv\")\n",
    "# print(data_filled.head())\n",
    "data_filled.drop(columns=[data_filled.columns[0]], inplace=True)\n",
    "# print(data_filled.head())\n",
    "data_filled.drop(columns=['State', 'WDPRB', 'Year', 'emissions', 'numInvestments'], inplace=True)\n",
    "print(data_filled.head())"
   ]
  },
  {
   "cell_type": "code",
   "execution_count": 80,
   "metadata": {},
   "outputs": [
    {
     "name": "stdout",
     "output_type": "stream",
     "text": [
      "0       3345612\n",
      "1       2247734\n",
      "2      13509662\n",
      "3      18236626\n",
      "4      13734021\n",
      "         ...   \n",
      "245      249960\n",
      "246     1359346\n",
      "247      413987\n",
      "248      573639\n",
      "249      570570\n",
      "Name: assistance, Length: 250, dtype: int64\n",
      "        BDPRP    CLPRB         ENPRP  GETCB    HYTCB  NCPRB     NGMPB  \\\n",
      "0    21.84000  17747.0  23720.058432    186  14621.0  16298  380887.0   \n",
      "1    27.30000  13942.0  23814.938666    186  15317.0  17081  369865.0   \n",
      "2    27.30000  14365.0  23910.198420    186  15143.0  16655  382940.0   \n",
      "3    16.38000  13752.0  24005.839214    186  15151.0  16777  375279.0   \n",
      "4  4164.53856  14867.0  24101.862571    186  14456.0  15951  364363.0   \n",
      "\n",
      "           NUETB      PAPRB  REPRB  SOTCB    TEPRB   TETCB        WDEXB  \\\n",
      "0  168290.108000  1007501.0  23807      3  1429942  614242  1395.604000   \n",
      "1  168963.268432  1026401.0  25155     14  1435363  593662  1401.186416   \n",
      "2  169639.121506  1033270.0  23620     20  1454196  601492  1406.791162   \n",
      "3  170317.677992   997415.0  24158     28  1410604  604644  1412.418326   \n",
      "4  170998.948704   968358.0  22754     40  1370342  605689  1418.068000   \n",
      "\n",
      "   WDTCB  WSTCB  WWPRB   WYTCB  \n",
      "0   6865  622.0   7488  1488.0  \n",
      "1   7636  412.0   8048  1563.0  \n",
      "2   6501  436.0   6937  1305.0  \n",
      "3   6910  456.0   7366  1411.0  \n",
      "4   6418  386.0   6803  1270.0  \n"
     ]
    }
   ],
   "source": [
    "# Extract the assistance\n",
    "y_data_filled = data_filled.loc[:, 'assistance']\n",
    "print(y_data_filled)\n",
    "data_filled.drop(columns=['assistance'], inplace=True)\n",
    "print(data_filled.head())"
   ]
  },
  {
   "cell_type": "code",
   "execution_count": 81,
   "metadata": {},
   "outputs": [
    {
     "data": {
      "text/plain": [
       "LinearRegression()"
      ]
     },
     "execution_count": 81,
     "metadata": {},
     "output_type": "execute_result"
    }
   ],
   "source": [
    "linreg_filled = linear_model.LinearRegression()\n",
    "linreg_filled.fit(data_filled, y_data_filled)"
   ]
  },
  {
   "cell_type": "code",
   "execution_count": 82,
   "metadata": {},
   "outputs": [
    {
     "name": "stdout",
     "output_type": "stream",
     "text": [
      "[-6.42974123e+01  8.46192623e+00  7.24497456e+01  1.07046875e+02\n",
      "  1.01666190e+02 -2.08876830e+01  7.86725036e+00  1.14403797e+01\n",
      " -1.17925200e+00 -5.61694030e+01  2.50854445e+02 -7.43329662e+00\n",
      "  8.21199227e+00  3.17572439e+03 -1.36646069e+03 -2.01484733e+03\n",
      "  1.27475431e+03  1.21103831e+02]\n",
      "-5378039.652446944\n",
      "0.19973678325471178\n"
     ]
    }
   ],
   "source": [
    "print(linreg_filled.coef_)\n",
    "print(linreg_filled.intercept_)\n",
    "print(linreg_filled.score(data_filled, y_data_filled))"
   ]
  },
  {
   "cell_type": "code",
   "execution_count": 83,
   "metadata": {},
   "outputs": [],
   "source": [
    "y_pred_filled = linreg_filled.predict(sorted_X_test_drop)"
   ]
  },
  {
   "cell_type": "code",
   "execution_count": 84,
   "metadata": {},
   "outputs": [
    {
     "name": "stdout",
     "output_type": "stream",
     "text": [
      "[-9.13020953e+06  1.27085517e+07 -7.63160337e+06  2.11840553e+07\n",
      "  7.80095331e+07  3.90109974e+06 -7.53751978e+06 -3.56865204e+06\n",
      "  3.73098489e+07  7.31890616e+07 -4.00917866e+06 -9.65324848e+06\n",
      " -3.79415117e+06  1.91761548e+07 -2.06876656e+06  4.82673261e+06\n",
      "  1.41950842e+06  3.62489323e+07 -4.65160631e+06  1.13810447e+06\n",
      " -1.54724048e+07 -8.84477797e+06 -3.33394665e+06 -2.25085539e+05\n",
      "  3.38808983e+07 -2.36048438e+06  1.18177545e+08 -1.97804348e+07\n",
      " -2.40738199e+06 -8.72646028e+06  6.42045454e+06 -1.31584395e+07\n",
      "  1.01042423e+07  1.04458644e+06  5.83223911e+06  7.41650402e+05\n",
      " -2.95934635e+06 -6.61325064e+06 -5.80536708e+06  3.38438135e+07\n",
      " -3.67059662e+06  1.13953288e+07  7.18565621e+07  3.86299855e+06\n",
      "  3.07322466e+07 -7.23368166e+06  1.83999033e+06 -1.13145392e+07\n",
      "  2.51523438e+06  4.46733015e+05]\n",
      "    TotalAmountofAssistance\n",
      "0                 9567164.0\n",
      "1                 1174323.0\n",
      "2                61208016.0\n",
      "3                23756565.0\n",
      "4                58722209.0\n",
      "5                 6304206.0\n",
      "6                  491729.0\n",
      "7                23750266.0\n",
      "8                 8467648.0\n",
      "9                 7307409.0\n",
      "10                1153848.0\n",
      "11               63476066.0\n",
      "12                 733911.0\n",
      "13                3526853.0\n",
      "14                8555854.0\n",
      "15                2802130.0\n",
      "16               11046095.0\n",
      "17                5171076.0\n",
      "18               21021782.0\n",
      "19                1459180.0\n",
      "20                1718854.0\n",
      "21                3543100.0\n",
      "22               29357835.0\n",
      "23                4677028.0\n",
      "24                2102663.0\n",
      "25                 542585.0\n",
      "26              176369306.0\n",
      "27                 686913.0\n",
      "28                9134015.0\n",
      "29                 996776.0\n",
      "30                 428543.0\n",
      "31               48503359.0\n",
      "32                  53672.0\n",
      "33               39346669.0\n",
      "34                3038155.0\n",
      "35                 560909.0\n",
      "36               25808865.0\n",
      "37                2136747.0\n",
      "38                 635939.0\n",
      "39              145497267.0\n",
      "40                6976448.0\n",
      "41                1536871.0\n",
      "42               39546994.0\n",
      "43                 736194.0\n",
      "44                2039514.0\n",
      "45                2405926.0\n",
      "46                2509973.0\n",
      "47                9860324.0\n",
      "48                1052654.0\n",
      "49                 229763.0\n"
     ]
    }
   ],
   "source": [
    "print(y_pred_filled)\n",
    "print(y_test)"
   ]
  },
  {
   "cell_type": "code",
   "execution_count": 85,
   "metadata": {},
   "outputs": [
    {
     "name": "stdout",
     "output_type": "stream",
     "text": [
      "30696653.460787777\n"
     ]
    }
   ],
   "source": [
    "new_mse_drop_filled = metrics.mean_squared_error(y_test, y_pred_filled)\n",
    "print(math.sqrt(new_mse_drop_filled))"
   ]
  }
 ],
 "metadata": {
  "kernelspec": {
   "display_name": "base",
   "language": "python",
   "name": "python3"
  },
  "language_info": {
   "codemirror_mode": {
    "name": "ipython",
    "version": 3
   },
   "file_extension": ".py",
   "mimetype": "text/x-python",
   "name": "python",
   "nbconvert_exporter": "python",
   "pygments_lexer": "ipython3",
   "version": "3.8.8 (default, Apr 13 2021, 12:59:45) \n[Clang 10.0.0 ]"
  },
  "orig_nbformat": 4,
  "vscode": {
   "interpreter": {
    "hash": "cd78fef2128015050713e82ca51c6520b11aee7c9ee8df750520bbbc7384cbaa"
   }
  }
 },
 "nbformat": 4,
 "nbformat_minor": 2
}
