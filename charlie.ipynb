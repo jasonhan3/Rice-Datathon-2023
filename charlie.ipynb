{
 "cells": [
  {
   "cell_type": "code",
   "execution_count": 1,
   "metadata": {},
   "outputs": [
    {
     "name": "stdout",
     "output_type": "stream",
     "text": [
      "      Unnamed: 0    MSN StateCode  Year   Amount          State  \\\n",
      "551          551  BDFDB        MA  2015     36.0  Massachusetts   \n",
      "552          552  BDPRP        MA  2015      7.0  Massachusetts   \n",
      "553          553  BFFDB        MA  2015     36.0  Massachusetts   \n",
      "554          554  BFPRP        MA  2015      7.0  Massachusetts   \n",
      "555          555  CLPRB        MA  2015      0.0  Massachusetts   \n",
      "...          ...    ...       ...   ...      ...            ...   \n",
      "6651        6651  WDPRB        MA  2019  16238.0  Massachusetts   \n",
      "6652        6652  WDTCB        MA  2019  16238.0  Massachusetts   \n",
      "6653        6653  WSTCB        MA  2019  16923.0  Massachusetts   \n",
      "6654        6654  WWPRB        MA  2019  33161.0  Massachusetts   \n",
      "6655        6655  WYTCB        MA  2019   1877.0  Massachusetts   \n",
      "\n",
      "      CO2 Emissions (Mmt)  TotalNumberofInvestments  TotalAmountofAssistance  \n",
      "551             66.746522                      34.0                4240538.0  \n",
      "552             66.746522                      34.0                4240538.0  \n",
      "553             66.746522                      34.0                4240538.0  \n",
      "554             66.746522                      34.0                4240538.0  \n",
      "555             66.746522                      34.0                4240538.0  \n",
      "...                   ...                       ...                      ...  \n",
      "6651            63.325575                      30.0                1860604.0  \n",
      "6652            63.325575                      30.0                1860604.0  \n",
      "6653            63.325575                      30.0                1860604.0  \n",
      "6654            63.325575                      30.0                1860604.0  \n",
      "6655            63.325575                      30.0                1860604.0  \n",
      "\n",
      "[145 rows x 9 columns]\n"
     ]
    }
   ],
   "source": [
    "import pandas as pd\n",
    "import numpy as np\n",
    "import matplotlib as plt\n",
    "\n",
    "\n",
    "whole_df = pd.read_csv(\"./chevron.csv\")\n",
    "ma_df = whole_df.loc[whole_df['StateCode'] == 'MA']\n",
    "print(ma_df)"
   ]
  }
 ],
 "metadata": {
  "kernelspec": {
   "display_name": "base",
   "language": "python",
   "name": "python3"
  },
  "language_info": {
   "codemirror_mode": {
    "name": "ipython",
    "version": 3
   },
   "file_extension": ".py",
   "mimetype": "text/x-python",
   "name": "python",
   "nbconvert_exporter": "python",
   "pygments_lexer": "ipython3",
   "version": "3.8.8 (default, Apr 13 2021, 12:59:45) \n[Clang 10.0.0 ]"
  },
  "orig_nbformat": 4,
  "vscode": {
   "interpreter": {
    "hash": "cd78fef2128015050713e82ca51c6520b11aee7c9ee8df750520bbbc7384cbaa"
   }
  }
 },
 "nbformat": 4,
 "nbformat_minor": 2
}
