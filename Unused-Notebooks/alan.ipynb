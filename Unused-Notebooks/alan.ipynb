{
 "cells": [
  {
   "cell_type": "code",
   "execution_count": null,
   "metadata": {},
   "outputs": [],
   "source": [
    "import numpy as np\n",
    "import pandas as pd\n",
    "import matplotlib as plt\n",
    "from sklearn import linear_model"
   ]
  },
  {
   "cell_type": "code",
   "execution_count": null,
   "metadata": {},
   "outputs": [],
   "source": [
    "data = pd.read_csv(\"./chevron.csv\")\n",
    "# Clean data:\n",
    "# get rid of zeros\n",
    "# make sure that empty cells is filled in with 0\n",
    "# drop non states (US, etc.)"
   ]
  },
  {
   "cell_type": "code",
   "execution_count": null,
   "metadata": {},
   "outputs": [],
   "source": [
    "alaska_df = data.loc[data[\"StateCode\"] == \"AK\"]\n",
    "num_rows = 5\n",
    "num_cols = 1\n",
    "y = pd.DataFrame(index=range(num_rows), columns=[\"TotalAmountofAssistance\"])\n",
    "investment_vals = []\n",
    "for i in range(5):\n",
    "    investment_vals.append(data[\"TotalAmountofAssistance\"][1519 * i])\n",
    "for j in range(5):\n",
    "    y.at[j, \"TotalAmountofAssistance\"] = investment_vals[j]\n",
    "# y.at[0][\"TotalAmountofAssistance\"] = data[\"TotalAmountofAssistance\"][0]\n",
    "# print(y)\n",
    "# y.at[1][\"TotalAmountofAssistance\"] = data[\"TotalAmountofAssistance\"][1519]\n",
    "# y.at[2][\"TotalAmountofAssistance\"] = data[\"TotalAmountofAssistance\"][3038]\n",
    "# y.at[3][\"TotalAmountofAssistance\"] = data[\"TotalAmountofAssistance\"][4557]\n",
    "# y.at[4][\"TotalAmountofAssistance\"] = data[\"TotalAmountofAssistance\"][6076]\n",
    "# for investment_idx in range(5):\n",
    "#     print(investment_idx)\n",
    "#     print(data[\"TotalAmountofAssistance\"][3038])\n",
    "#     row_idx = 1519 * investment_idx\n",
    "#     y.at[investment_idx][\"TotalAmountofAssistance\"] = data[\"TotalAmountofAssistance\"][row_idx]\n",
    "print(y)\n"
   ]
  },
  {
   "cell_type": "code",
   "execution_count": null,
   "metadata": {},
   "outputs": [],
   "source": []
  },
  {
   "cell_type": "code",
   "execution_count": null,
   "metadata": {},
   "outputs": [],
   "source": []
  },
  {
   "cell_type": "code",
   "execution_count": null,
   "metadata": {},
   "outputs": [],
   "source": [
    "numRows = 5\n",
    "numCols = 29\n",
    "x = pd.DataFrame(index=range(numRows), columns=range(numCols))\n",
    "x.columns = alaska_df[\"MSN\"][0:29]\n",
    "# print(x.columns)\n",
    "avgs = [[0] * 29] * 5\n",
    "for row_idx in range(alaska_df.shape[0]):\n",
    "    yr_idx = int(row_idx / 29)\n",
    "    # col_name = alaska_df[\"MSN\"][row_idx % 29]\n",
    "    # print(col_name)\n",
    "    x.at[yr_idx, x.columns[row_idx % 29]] = data.loc[1519 * yr_idx + row_idx][4]\n",
    "    # avgs[yr_idx][row_idx % 29] = alaska_df.loc[row_idx][4]\n",
    "print(x)\n"
   ]
  },
  {
   "cell_type": "code",
   "execution_count": 112,
   "metadata": {},
   "outputs": [
    {
     "data": {
      "text/plain": [
       "LinearRegression()"
      ]
     },
     "execution_count": 112,
     "metadata": {},
     "output_type": "execute_result"
    }
   ],
   "source": [
    "reg = linear_model.LinearRegression()\n",
    "reg.fit(x, y)\n",
    "\n"
   ]
  }
 ],
 "metadata": {
  "kernelspec": {
   "display_name": "base",
   "language": "python",
   "name": "python3"
  },
  "language_info": {
   "codemirror_mode": {
    "name": "ipython",
    "version": 3
   },
   "file_extension": ".py",
   "mimetype": "text/x-python",
   "name": "python",
   "nbconvert_exporter": "python",
   "pygments_lexer": "ipython3",
   "version": "3.8.8 (default, Apr 13 2021, 12:59:45) \n[Clang 10.0.0 ]"
  },
  "orig_nbformat": 4,
  "vscode": {
   "interpreter": {
    "hash": "cd78fef2128015050713e82ca51c6520b11aee7c9ee8df750520bbbc7384cbaa"
   }
  }
 },
 "nbformat": 4,
 "nbformat_minor": 2
}
