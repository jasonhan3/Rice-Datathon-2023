{
 "cells": [
  {
   "cell_type": "code",
   "execution_count": 1,
   "metadata": {},
   "outputs": [],
   "source": [
    "import numpy as np\n",
    "import pandas as pd\n",
    "import matplotlib as plt\n",
    "from sklearn import linear_model, metrics"
   ]
  },
  {
   "cell_type": "code",
   "execution_count": 4,
   "metadata": {},
   "outputs": [],
   "source": [
    "import numpy as np\n",
    "import pandas as pd\n",
    "import matplotlib as plt\n",
    "from sklearn import linear_model, metrics"
   ]
  },
  {
   "cell_type": "code",
   "execution_count": 5,
   "metadata": {},
   "outputs": [],
   "source": [
    "data = pd.read_csv(\"./chevron.csv\")"
   ]
  },
  {
   "cell_type": "code",
   "execution_count": 6,
   "metadata": {},
   "outputs": [
    {
     "name": "stdout",
     "output_type": "stream",
     "text": [
      "  TotalAmountofAssistance\n",
      "0               3345612.0\n",
      "1               2247734.0\n",
      "2              13509662.0\n",
      "3              18236626.0\n"
     ]
    }
   ],
   "source": [
    "alaska_df = data.loc[data[\"StateCode\"] == \"AK\"]\n",
    "num_rows = 4\n",
    "num_cols = 1\n",
    "y = pd.DataFrame(index=range(num_rows), columns=[\"TotalAmountofAssistance\"])\n",
    "investment_vals = []\n",
    "for i in range(num_rows):\n",
    "    investment_vals.append(data[\"TotalAmountofAssistance\"][1519 * i])\n",
    "for j in range(num_rows):\n",
    "    y.at[j, \"TotalAmountofAssistance\"] = investment_vals[j]\n",
    "# y.at[0][\"TotalAmountofAssistance\"] = data[\"TotalAmountofAssistance\"][0]\n",
    "# print(y)\n",
    "# y.at[1][\"TotalAmountofAssistance\"] = data[\"TotalAmountofAssistance\"][1519]\n",
    "# y.at[2][\"TotalAmountofAssistance\"] = data[\"TotalAmountofAssistance\"][3038]\n",
    "# y.at[3][\"TotalAmountofAssistance\"] = data[\"TotalAmountofAssistance\"][4557]\n",
    "# y.at[4][\"TotalAmountofAssistance\"] = data[\"TotalAmountofAssistance\"][6076]\n",
    "# for investment_idx in range(5):\n",
    "#     print(investment_idx)\n",
    "#     print(data[\"TotalAmountofAssistance\"][3038])\n",
    "#     row_idx = 1519 * investment_idx\n",
    "#     y.at[investment_idx][\"TotalAmountofAssistance\"] = data[\"TotalAmountofAssistance\"][row_idx]\n",
    "print(y)\n"
   ]
  },
  {
   "cell_type": "code",
   "execution_count": null,
   "metadata": {},
   "outputs": [],
   "source": []
  },
  {
   "cell_type": "code",
   "execution_count": 8,
   "metadata": {},
   "outputs": [
    {
     "name": "stdout",
     "output_type": "stream",
     "text": [
      "  TotalAmountofAssistance\n",
      "0               3345612.0\n",
      "1               2247734.0\n",
      "2              13509662.0\n",
      "3              18236626.0\n"
     ]
    }
   ],
   "source": [
    "alaska_df = data.loc[data[\"StateCode\"] == \"AK\"]\n",
    "num_rows = 4\n",
    "num_cols = 1\n",
    "y = pd.DataFrame(index=range(num_rows), columns=[\"TotalAmountofAssistance\"])\n",
    "investment_vals = []\n",
    "for i in range(num_rows):\n",
    "    investment_vals.append(data[\"TotalAmountofAssistance\"][1519 * i])\n",
    "for j in range(num_rows):\n",
    "    y.at[j, \"TotalAmountofAssistance\"] = investment_vals[j]\n",
    "# y.at[0][\"TotalAmountofAssistance\"] = data[\"TotalAmountofAssistance\"][0]\n",
    "# print(y)\n",
    "# y.at[1][\"TotalAmountofAssistance\"] = data[\"TotalAmountofAssistance\"][1519]\n",
    "# y.at[2][\"TotalAmountofAssistance\"] = data[\"TotalAmountofAssistance\"][3038]\n",
    "# y.at[3][\"TotalAmountofAssistance\"] = data[\"TotalAmountofAssistance\"][4557]\n",
    "# y.at[4][\"TotalAmountofAssistance\"] = data[\"TotalAmountofAssistance\"][6076]\n",
    "# for investment_idx in range(5):\n",
    "#     print(investment_idx)\n",
    "#     print(data[\"TotalAmountofAssistance\"][3038])\n",
    "#     row_idx = 1519 * investment_idx\n",
    "#     y.at[investment_idx][\"TotalAmountofAssistance\"] = data[\"TotalAmountofAssistance\"][row_idx]\n",
    "print(y)\n"
   ]
  },
  {
   "cell_type": "code",
   "execution_count": null,
   "metadata": {},
   "outputs": [
    {
     "name": "stdout",
     "output_type": "stream",
     "text": [
      "[44282875.20623823]\n",
      "[[ 2.86635690e-03  5.18891269e-04  1.96331924e-01  3.44140129e-02\n",
      "  -3.58501597e+00 -9.77300849e-05 -1.12485482e-01 -4.12308474e-07\n",
      "   1.93465567e-01  3.38951216e-02  1.14967346e-02  4.84687070e-03\n",
      "   2.16073245e+00 -1.77221009e+00 -1.55839293e-06 -1.27511987e+00\n",
      "  -2.12660022e+00 -8.53748841e+00 -1.49318464e+00 -1.63995420e+00\n",
      "   2.01714211e+00 -1.76612975e+01 -9.03932418e+00  4.89683097e-02\n",
      "  -3.99698098e+00 -4.04594929e+00 -3.02426042e-05 -3.99701857e+00\n",
      "   1.27246738e-01]]\n"
     ]
    }
   ],
   "source": [
    "print(reg.intercept_)\n",
    "print(reg.coef_)"
   ]
  }
 ],
 "metadata": {
  "kernelspec": {
   "display_name": "base",
   "language": "python",
   "name": "python3"
  },
  "language_info": {
   "codemirror_mode": {
    "name": "ipython",
    "version": 3
   },
   "file_extension": ".py",
   "mimetype": "text/x-python",
   "name": "python",
   "nbconvert_exporter": "python",
   "pygments_lexer": "ipython3",
   "version": "3.8.8"
  },
  "orig_nbformat": 4,
  "vscode": {
   "interpreter": {
    "hash": "cd78fef2128015050713e82ca51c6520b11aee7c9ee8df750520bbbc7384cbaa"
   }
  }
 },
 "nbformat": 4,
 "nbformat_minor": 2
}
